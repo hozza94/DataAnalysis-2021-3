{
 "metadata": {
  "language_info": {
   "codemirror_mode": {
    "name": "ipython",
    "version": 3
   },
   "file_extension": ".py",
   "mimetype": "text/x-python",
   "name": "python",
   "nbconvert_exporter": "python",
   "pygments_lexer": "ipython3",
   "version": "3.8.5"
  },
  "orig_nbformat": 4,
  "kernelspec": {
   "name": "python3",
   "display_name": "Python 3.8.5 32-bit"
  },
  "interpreter": {
   "hash": "c9ba0c4a5af8269c496dad2a440da0741b8e4cd992915eed58c521d280844af4"
  }
 },
 "nbformat": 4,
 "nbformat_minor": 2,
 "cells": [
  {
   "source": [
    "# 네이버 블로그 크롤링"
   ],
   "cell_type": "markdown",
   "metadata": {}
  },
  {
   "cell_type": "code",
   "execution_count": 12,
   "metadata": {},
   "outputs": [],
   "source": [
    "from selenium import webdriver\n",
    "from bs4 import BeautifulSoup\n",
    "import time\n",
    "import pandas as pd\n",
    "from urllib.parse import quote"
   ]
  },
  {
   "cell_type": "code",
   "execution_count": 13,
   "metadata": {},
   "outputs": [],
   "source": [
    "chromedriver = 'chromedriver.exe'\n",
    "driver = webdriver.Chrome(chromedriver)"
   ]
  },
  {
   "cell_type": "code",
   "execution_count": 16,
   "metadata": {},
   "outputs": [],
   "source": [
    "base_url = 'https://search.naver.com/search.naver?where=view&sm=tab_jum&query='\n",
    "url = base_url + quote('스마트폰')"
   ]
  },
  {
   "cell_type": "code",
   "execution_count": 17,
   "metadata": {},
   "outputs": [],
   "source": [
    "driver.get(url)"
   ]
  },
  {
   "cell_type": "code",
   "execution_count": 18,
   "metadata": {},
   "outputs": [],
   "source": [
    "from selenium.webdriver.common.keys import Keys\n",
    "\n",
    "body = driver.find_element_by_tag_name('body')\n",
    "for i in range(30):\n",
    "    body.send_keys(Keys.PAGE_DOWN)\n",
    "    time.sleep(2)"
   ]
  },
  {
   "cell_type": "code",
   "execution_count": 20,
   "metadata": {},
   "outputs": [],
   "source": [
    "html = driver.page_source\n",
    "soup = BeautifulSoup(html, 'html.parser')"
   ]
  },
  {
   "cell_type": "code",
   "execution_count": 21,
   "metadata": {},
   "outputs": [
    {
     "output_type": "execute_result",
     "data": {
      "text/plain": [
       "97"
      ]
     },
     "metadata": {},
     "execution_count": 21
    }
   ],
   "source": [
    "lis = soup.select('li.bx._svp_item')\n",
    "len(lis)"
   ]
  },
  {
   "cell_type": "code",
   "execution_count": 22,
   "metadata": {},
   "outputs": [
    {
     "output_type": "execute_result",
     "data": {
      "text/plain": [
       "('[스마트폰] 삼성 갤럭시Z 플립3 언박싱 후기',\n",
       " '2021.08.16.',\n",
       " '진짜 역대급으로 나온 스마트폰, 삼성 갤럭시Z 플립3 언박싱 후기 함께 공개된 삼성 갤럭시Z 폴드3가 기대... 아무래도 기존 스마트폰과 거의 비슷한 비율과 함께 큰 화면을 반으로 접어서 가지고 다니면서 컴팩트하게...')"
      ]
     },
     "metadata": {},
     "execution_count": 22
    }
   ],
   "source": [
    "li = lis[0]\n",
    "title = li.select_one('a.api_txt_lines.total_tit._cross_trigger').get_text()\n",
    "date = li.select_one('span.sub_time.sub_txt').get_text()\n",
    "content = li.select_one('div.api_txt_lines.dsc_txt').get_text()\n",
    "title, date, content"
   ]
  },
  {
   "cell_type": "code",
   "execution_count": 23,
   "metadata": {},
   "outputs": [
    {
     "output_type": "stream",
     "name": "stdout",
     "text": [
      "0\n",
      "1\n",
      "2\n",
      "3\n",
      "4\n",
      "5\n",
      "6\n",
      "7\n",
      "8\n",
      "9\n",
      "12\n",
      "13\n",
      "14\n",
      "15\n",
      "16\n",
      "17\n",
      "18\n",
      "19\n",
      "20\n",
      "21\n",
      "22\n",
      "23\n",
      "24\n",
      "25\n",
      "26\n",
      "27\n",
      "28\n",
      "29\n",
      "30\n",
      "31\n",
      "32\n",
      "33\n",
      "34\n",
      "35\n",
      "36\n",
      "37\n",
      "38\n",
      "39\n",
      "40\n",
      "41\n",
      "42\n",
      "43\n",
      "44\n",
      "45\n",
      "46\n",
      "47\n",
      "48\n",
      "49\n",
      "50\n",
      "51\n",
      "52\n",
      "53\n",
      "54\n",
      "55\n",
      "56\n",
      "57\n",
      "58\n",
      "59\n",
      "60\n",
      "61\n",
      "62\n",
      "63\n",
      "64\n",
      "65\n",
      "66\n",
      "67\n",
      "68\n",
      "69\n",
      "70\n",
      "71\n",
      "72\n",
      "73\n",
      "74\n",
      "75\n",
      "76\n",
      "77\n",
      "78\n",
      "79\n",
      "80\n",
      "81\n",
      "82\n",
      "83\n",
      "84\n",
      "85\n",
      "86\n",
      "87\n",
      "88\n",
      "89\n",
      "90\n",
      "91\n",
      "92\n",
      "93\n",
      "94\n",
      "95\n",
      "96\n"
     ]
    }
   ],
   "source": [
    "title_list, date_list, content_list = [], [], []\n",
    "\n",
    "for i, li in enumerate(lis):\n",
    "    try:\n",
    "        adv = li.select_one('a.link_ad').get_text()\n",
    "        if adv.strip() == '광고':\n",
    "            continue\n",
    "    except:\n",
    "        title = li.select_one('a.api_txt_lines.total_tit').get_text()\n",
    "        content = li.select_one('div.api_txt_lines.dsc_txt').get_text()\n",
    "        date = li.select_one('span.sub_time.sub_txt').get_text()\n",
    "\n",
    "        title_list.append(title)\n",
    "        date_list.append(date)\n",
    "        content_list.append(content)\n",
    "   \n",
    "        print(i)"
   ]
  },
  {
   "cell_type": "code",
   "execution_count": 24,
   "metadata": {},
   "outputs": [
    {
     "output_type": "execute_result",
     "data": {
      "text/plain": [
       "                                    title         date  \\\n",
       "0               [스마트폰] 삼성 갤럭시Z 플립3 언박싱 후기  2021.08.16.   \n",
       "1  갤럭시 A03s의 출시소식과 상세 정보: 개발도상국용 초저가 스마트폰         7일 전   \n",
       "2              에어팟 프로 안드로이드 스마트폰과 연결하는 방법  2021.08.21.   \n",
       "3            갤럭시 굿락 루틴+ 스마트폰 배터리 충전 구간 알림  2021.08.08.   \n",
       "4         삼성 갤럭시노트10 가격 2021년에도 매력적인 스마트폰  2021.06.23.   \n",
       "\n",
       "                                             content  \n",
       "0  진짜 역대급으로 나온 스마트폰, 삼성 갤럭시Z 플립3 언박싱 후기 함께 공개된 삼성...  \n",
       "1  삼성이 인도시장 등 개발도상국용 초저가 스마트폰인 A0x 시리즈를 지난 2019년부...  \n",
       "2  그러면 이때 스마트폰 블루투스 메뉴로 가줍니다. 찾기를 눌러주면, 이렇게 검색이 되...  \n",
       "3  갤럭시 스마트폰을 사용하고 있다면 굿락 앱은 꼭 써볼 것을 추천드려요. 지속적인 업...  \n",
       "4  일상에서 스마트폰 사용량은 점점 늘어나고 있습니다. 카카오톡, 라인 같은 기본적인 ...  "
      ],
      "text/html": "<div>\n<style scoped>\n    .dataframe tbody tr th:only-of-type {\n        vertical-align: middle;\n    }\n\n    .dataframe tbody tr th {\n        vertical-align: top;\n    }\n\n    .dataframe thead th {\n        text-align: right;\n    }\n</style>\n<table border=\"1\" class=\"dataframe\">\n  <thead>\n    <tr style=\"text-align: right;\">\n      <th></th>\n      <th>title</th>\n      <th>date</th>\n      <th>content</th>\n    </tr>\n  </thead>\n  <tbody>\n    <tr>\n      <th>0</th>\n      <td>[스마트폰] 삼성 갤럭시Z 플립3 언박싱 후기</td>\n      <td>2021.08.16.</td>\n      <td>진짜 역대급으로 나온 스마트폰, 삼성 갤럭시Z 플립3 언박싱 후기 함께 공개된 삼성...</td>\n    </tr>\n    <tr>\n      <th>1</th>\n      <td>갤럭시 A03s의 출시소식과 상세 정보: 개발도상국용 초저가 스마트폰</td>\n      <td>7일 전</td>\n      <td>삼성이 인도시장 등 개발도상국용 초저가 스마트폰인 A0x 시리즈를 지난 2019년부...</td>\n    </tr>\n    <tr>\n      <th>2</th>\n      <td>에어팟 프로 안드로이드 스마트폰과 연결하는 방법</td>\n      <td>2021.08.21.</td>\n      <td>그러면 이때 스마트폰 블루투스 메뉴로 가줍니다. 찾기를 눌러주면, 이렇게 검색이 되...</td>\n    </tr>\n    <tr>\n      <th>3</th>\n      <td>갤럭시 굿락 루틴+ 스마트폰 배터리 충전 구간 알림</td>\n      <td>2021.08.08.</td>\n      <td>갤럭시 스마트폰을 사용하고 있다면 굿락 앱은 꼭 써볼 것을 추천드려요. 지속적인 업...</td>\n    </tr>\n    <tr>\n      <th>4</th>\n      <td>삼성 갤럭시노트10 가격 2021년에도 매력적인 스마트폰</td>\n      <td>2021.06.23.</td>\n      <td>일상에서 스마트폰 사용량은 점점 늘어나고 있습니다. 카카오톡, 라인 같은 기본적인 ...</td>\n    </tr>\n  </tbody>\n</table>\n</div>"
     },
     "metadata": {},
     "execution_count": 24
    }
   ],
   "source": [
    "df = pd.DataFrame({\n",
    "    'title': title_list,\n",
    "    'date': date_list,\n",
    "    'content': content_list\n",
    "})\n",
    "df.head()"
   ]
  },
  {
   "cell_type": "code",
   "execution_count": 25,
   "metadata": {},
   "outputs": [],
   "source": [
    "df.to_csv('data/smartphone_blog.txt')"
   ]
  },
  {
   "cell_type": "code",
   "execution_count": 26,
   "metadata": {},
   "outputs": [],
   "source": [
    "driver.close()"
   ]
  },
  {
   "cell_type": "code",
   "execution_count": null,
   "metadata": {},
   "outputs": [],
   "source": []
  }
 ]
}