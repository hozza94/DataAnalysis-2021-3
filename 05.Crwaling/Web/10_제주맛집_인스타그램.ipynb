{
 "metadata": {
  "language_info": {
   "codemirror_mode": {
    "name": "ipython",
    "version": 3
   },
   "file_extension": ".py",
   "mimetype": "text/x-python",
   "name": "python",
   "nbconvert_exporter": "python",
   "pygments_lexer": "ipython3",
   "version": "3.8.5"
  },
  "orig_nbformat": 4,
  "kernelspec": {
   "name": "python3",
   "display_name": "Python 3.8.5 32-bit"
  },
  "interpreter": {
   "hash": "c9ba0c4a5af8269c496dad2a440da0741b8e4cd992915eed58c521d280844af4"
  }
 },
 "nbformat": 4,
 "nbformat_minor": 2,
 "cells": [
  {
   "cell_type": "code",
   "execution_count": 2,
   "source": [
    "chromedriver = 'chromedriver.exe'\r\n",
    "driver = webdriver.Chrome(chromedriver)"
   ],
   "outputs": [],
   "metadata": {}
  },
  {
   "cell_type": "code",
   "execution_count": 3,
   "source": [
    "insta_url = 'https://www.instagram.com'\r\n",
    "driver.get(insta_url)\r\n",
    "time.sleep(1)"
   ],
   "outputs": [],
   "metadata": {}
  },
  {
   "cell_type": "markdown",
   "source": [],
   "metadata": {}
  },
  {
   "cell_type": "code",
   "execution_count": 4,
   "source": [
    "with open('password.txt') as f:\r\n",
    "    password = f.read()"
   ],
   "outputs": [],
   "metadata": {}
  },
  {
   "cell_type": "code",
   "execution_count": 5,
   "source": [
    "email = 'jhsuslovemy@naver.com'\r\n",
    "input_email = driver.find_element_by_css_selector('._2hvTZ.pexuQ.zyHYP')\r\n",
    "input_email.clear()\r\n",
    "input_email.send_keys(email)"
   ],
   "outputs": [],
   "metadata": {}
  },
  {
   "cell_type": "code",
   "execution_count": 6,
   "source": [
    "input_pwd = driver.find_element_by_name('password')\r\n",
    "input_pwd.clear()\r\n",
    "input_pwd.send_keys(password)\r\n",
    "input_pwd.submit()\r\n",
    "time.sleep(1)"
   ],
   "outputs": [],
   "metadata": {}
  },
  {
   "cell_type": "code",
   "execution_count": 7,
   "source": [
    "# 로그인 정보 - 나중에 저장\r\n",
    "try:\r\n",
    "    driver.find_element_by_css_selector('.sqdOP.yWX7d.y3zKF').click()\r\n",
    "    time.sleep(1)\r\n",
    "except:\r\n",
    "    pass"
   ],
   "outputs": [],
   "metadata": {}
  },
  {
   "cell_type": "code",
   "execution_count": 8,
   "source": [
    "# 알림 설정 - 나중에 하기\r\n",
    "try:\r\n",
    "    driver.find_element_by_css_selector('.aOOlW.HoLwm').click()\r\n",
    "    time.sleep(1)\r\n",
    "except:\r\n",
    "    pass"
   ],
   "outputs": [],
   "metadata": {}
  },
  {
   "cell_type": "markdown",
   "source": [
    "## 2. 제주도 맛집으로 검색"
   ],
   "metadata": {}
  },
  {
   "cell_type": "code",
   "execution_count": null,
   "source": [
    "from urllib.parse import quote\r\n",
    "keyword = '제주도맛집'\r\n",
    "search_url = 'https://www.instagram.com/explore/tags/'\r\n",
    "url = f'{search_url}{quote(keyword)}'\r\n",
    "url"
   ],
   "outputs": [],
   "metadata": {}
  },
  {
   "cell_type": "code",
   "execution_count": null,
   "source": [
    "driver.get(url)\r\n",
    "time.sleep(5)"
   ],
   "outputs": [],
   "metadata": {}
  },
  {
   "cell_type": "markdown",
   "source": [
    "## 3. 첫번째 게시글 열기"
   ],
   "metadata": {}
  },
  {
   "cell_type": "code",
   "execution_count": null,
   "source": [
    "driver.find_element_by_css_selector('div._9AhH0').click()\r\n",
    "time.sleep(1)"
   ],
   "outputs": [],
   "metadata": {}
  },
  {
   "cell_type": "code",
   "execution_count": null,
   "source": [
    "html = driver.page_source\r\n",
    "soup = BeautifulSoup(html, 'html.parser')"
   ],
   "outputs": [],
   "metadata": {}
  },
  {
   "cell_type": "code",
   "execution_count": null,
   "source": [
    "import unicodedata\r\n",
    "\r\n",
    "try:\r\n",
    "    content = soup.select_one('div.C4VMK > span').text\r\n",
    "    content = unicodedata.normalize('NFC', content)\r\n",
    "except:\r\n",
    "    content = ' '\r\n",
    "content"
   ],
   "outputs": [],
   "metadata": {}
  },
  {
   "cell_type": "code",
   "execution_count": null,
   "source": [
    "# 문자에서 #을 이용해 해시태그를 분류해내기.. '#[^\\s#, \\\\]+'\r\n",
    "\r\n",
    "import re\r\n",
    "tags = re.findall(r'#[^\\s#, \\\\]+', content)\r\n",
    "tags"
   ],
   "outputs": [],
   "metadata": {}
  },
  {
   "cell_type": "code",
   "execution_count": null,
   "source": [
    "# 작성일자 정보 가져오기 _1o9PC Nzb55\r\n",
    "date = soup.select_one('time._1o9PC.Nzb55')['datetime'][:10]\r\n",
    "date"
   ],
   "outputs": [],
   "metadata": {}
  },
  {
   "cell_type": "code",
   "execution_count": null,
   "source": [
    "# 좋아요 수 가져오기 \r\n",
    "# print(soup.select_one('body > div._2dDPU.CkGkG > div.zZYga > div > article > div.eo2As > section.EDfFK.ygqzn > div > div > a > span').text)\r\n",
    "try:\r\n",
    "    # like = soup.select_one('div.Nm9Fw.zV_NJ').text\r\n",
    "    # like = soup.select_one('/html/body/div[6]/div[2]/div/article/div[3]/section[2]/div/div/a/span').text\r\n",
    "    like = int(soup.select_one('body > div._2dDPU.CkGkG > div.zZYga > div > article > div.eo2As > section.EDfFK.ygqzn > div > div > a > span').text.replace(',',''))\r\n",
    "except:\r\n",
    "    like = 0\r\n",
    "like"
   ],
   "outputs": [],
   "metadata": {}
  },
  {
   "cell_type": "code",
   "execution_count": null,
   "source": [
    "# 위치정보 가져오기\r\n",
    "try:\r\n",
    "    place = soup.select('div._M30cS')[0].text\r\n",
    "    place = unicodedata.normalize('NFC', place)\r\n",
    "except:\r\n",
    "    place = ''\r\n",
    "place"
   ],
   "outputs": [],
   "metadata": {}
  },
  {
   "cell_type": "code",
   "execution_count": null,
   "source": [
    "row = [content, date, like, place, tags]\r\n",
    "row"
   ],
   "outputs": [],
   "metadata": {}
  },
  {
   "cell_type": "markdown",
   "source": [
    "## 5. 다음 게시글로 이동"
   ],
   "metadata": {}
  },
  {
   "cell_type": "code",
   "execution_count": null,
   "source": [
    "driver.find_element_by_css_selector('a._65Bje.coreSpriteRightPaginationArrow').click()\r\n",
    "time.sleep(1)"
   ],
   "outputs": [],
   "metadata": {}
  },
  {
   "cell_type": "code",
   "execution_count": null,
   "source": [
    "# 열린 창 닫기 body > div._2dDPU.CkGkG > div.Igw0E.IwRSH.eGOV_._4EzTm.BI4qX.qJPeX.fm1AK.TxciK.yiMZG > button\r\n",
    "# /html/body/div[6]/div[3]/button\r\n",
    "driver.find_element_by_xpath('/html/body/div[6]/div[3]/button').click()\r\n",
    "time.sleep(2)"
   ],
   "outputs": [],
   "metadata": {}
  },
  {
   "cell_type": "markdown",
   "source": [
    "## 6. 다중으로 크롤링하기"
   ],
   "metadata": {}
  },
  {
   "cell_type": "code",
   "execution_count": null,
   "source": [
    "keyword = '제주도맛집'\r\n",
    "search_url = 'https://www.instagram.com/explore/tags/'\r\n",
    "url = f'{search_url}{quote(keyword)}'\r\n",
    "driver.get(url)\r\n",
    "time.sleep(5)\r\n",
    "driver.find_element_by_css_selector('div._9AhH0').click()\r\n",
    "time.sleep(1)"
   ],
   "outputs": [],
   "metadata": {}
  },
  {
   "cell_type": "code",
   "execution_count": null,
   "source": [
    "results = []\r\n",
    "\r\n",
    "for i in range(50):\r\n",
    "    print(i, end=' ')\r\n",
    "    html = driver.page_source\r\n",
    "    soup = BeautifulSoup(html, 'html.parser')\r\n",
    "    \r\n",
    "    try:\r\n",
    "        content = soup.select_one('div.C4VMK > span').text\r\n",
    "        content = unicodedata.normalize('NFC', content)\r\n",
    "    except:\r\n",
    "        content = ' '\r\n",
    "\r\n",
    "    tags = re.findall(r'#[^\\s#, \\\\]+', content)\r\n",
    "    date = soup.select_one('time._1o9PC.Nzb55')['datetime'][:10]\r\n",
    "\r\n",
    "    try:\r\n",
    "    # like = soup.select_one('div.Nm9Fw.zV_NJ').text\r\n",
    "    # like = soup.select_one('/html/body/div[6]/div[2]/div/article/div[3]/section[2]/div/div/a/span').text\r\n",
    "        # like = int(soup.select_one('body > div._2dDPU.CkGkG > div.zZYga > div > article > div.eo2As > section.EDfFK.ygqzn > div > div > a > span').text.replace(',',''))\r\n",
    "        like = int(soup.select_one('div.Nm9Fw').text[4:-1].replace(',',''))\r\n",
    "    except:\r\n",
    "        like = 0\r\n",
    "\r\n",
    "    try:\r\n",
    "        place = soup.select('div._M30cS')[0].text\r\n",
    "        place = unicodedata.normalize('NFC', place)\r\n",
    "    except:\r\n",
    "        place = ''\r\n",
    "    \r\n",
    "    row = [content, date, like, place, tags]\r\n",
    "    results.append(row)\r\n",
    "\r\n",
    "    driver.find_element_by_css_selector('a._65Bje.coreSpriteRightPaginationArrow').click()\r\n",
    "    time.sleep(2)"
   ],
   "outputs": [],
   "metadata": {}
  },
  {
   "cell_type": "code",
   "execution_count": null,
   "source": [
    "df = pd.DataFrame(results, columns=['content', 'date', 'like', 'place', 'tags'])\r\n",
    "df.head()"
   ],
   "outputs": [],
   "metadata": {}
  },
  {
   "cell_type": "markdown",
   "source": [
    "## 500개의 데이터를 가져오기."
   ],
   "metadata": {}
  },
  {
   "cell_type": "markdown",
   "source": [
    "## - 제주도 맛집, 제주맛집, 제주도 관광, 제주여행"
   ],
   "metadata": {}
  },
  {
   "cell_type": "code",
   "execution_count": 1,
   "source": [
    "from selenium import webdriver\r\n",
    "from selenium.webdriver.common.keys import Keys\r\n",
    "from bs4 import BeautifulSoup\r\n",
    "# from tqdm.notebook import tqdm\r\n",
    "from urllib.parse import quote\r\n",
    "import unicodedata\r\n",
    "import re\r\n",
    "import time\r\n",
    "import pandas as pd"
   ],
   "outputs": [],
   "metadata": {}
  },
  {
   "cell_type": "code",
   "execution_count": null,
   "source": [
    "chromedriver = 'chromedriver.exe'\r\n",
    "driver = webdriver.Chrome(chromedriver)"
   ],
   "outputs": [],
   "metadata": {}
  },
  {
   "cell_type": "code",
   "execution_count": 13,
   "source": [
    "def get_content(driver):\r\n",
    "    html = driver.page_source\r\n",
    "    soup = BeautifulSoup(html, 'html.parser')\r\n",
    "    \r\n",
    "    try:\r\n",
    "        content = soup.select_one('div.C4VMK > span').text\r\n",
    "        content = unicodedata.normalize('NFC', content)\r\n",
    "    except:\r\n",
    "        content = ' '\r\n",
    "\r\n",
    "    tags = re.findall(r'#[^\\s#, \\\\]+', content)\r\n",
    "    date = soup.select_one('time._1o9PC.Nzb55')['datetime'][:10]\r\n",
    "\r\n",
    "    try:\r\n",
    "        like = int(soup.select_one('div.Nm9Fw').text[4:-1].replace(',',''))\r\n",
    "    except:\r\n",
    "        like = 0\r\n",
    "\r\n",
    "    try:\r\n",
    "        place = soup.select('div._M30cS')[0].text\r\n",
    "        place = unicodedata.normalize('NFC', place)\r\n",
    "    except:\r\n",
    "        place = ''\r\n",
    "\r\n",
    "    return [content, tags, date, like, place]"
   ],
   "outputs": [],
   "metadata": {}
  },
  {
   "cell_type": "code",
   "execution_count": 14,
   "source": [
    "keyword = '제주맛집'\r\n",
    "search_url = 'https://www.instagram.com/explore/tags/'\r\n",
    "url = f'{search_url}{quote(keyword)}'\r\n",
    "driver.get(url)\r\n",
    "time.sleep(5)\r\n",
    "driver.find_element_by_css_selector('div._9AhH0').click()\r\n",
    "time.sleep(1)"
   ],
   "outputs": [],
   "metadata": {}
  },
  {
   "cell_type": "code",
   "execution_count": null,
   "source": [
    "results = []\r\n",
    "\r\n",
    "for _ in range(500):\r\n",
    "    try:\r\n",
    "        row = get_content(driver)\r\n",
    "        results.append(row)\r\n",
    "        driver.find_element_by_css_selector('a._65Bje.coreSpriteRightPaginationArrow').click()\r\n",
    "        time.sleep(2)\r\n",
    "    except:\r\n",
    "        time.sleep(3)\r\n",
    "        driver.find_element_by_css_selector('a._65Bje.coreSpriteRightPaginationArrow').click()\r\n",
    "        time.sleep(2)"
   ],
   "outputs": [],
   "metadata": {}
  },
  {
   "cell_type": "code",
   "execution_count": 16,
   "source": [
    "for keyword in ['제주도맛집', '제주맛집', '제주도관광', '제주여행']:\r\n",
    "    url = f'{search_url}{quote(keyword)}'\r\n",
    "    driver.get(url)\r\n",
    "    time.sleep(5)\r\n",
    "    driver.find_element_by_css_selector('div._9AhH0').click()\r\n",
    "    time.sleep(3)\r\n",
    "\r\n",
    "    results = []\r\n",
    "\r\n",
    "    for _ in range(200):\r\n",
    "        try:\r\n",
    "            row = get_content(driver)\r\n",
    "            results.append(row)\r\n",
    "            driver.find_element_by_css_selector('a._65Bje.coreSpriteRightPaginationArrow').click()\r\n",
    "            time.sleep(2)\r\n",
    "        except:\r\n",
    "            time.sleep(3)\r\n",
    "            driver.find_element_by_css_selector('a._65Bje.coreSpriteRightPaginationArrow').click()\r\n",
    "            time.sleep(2)\r\n",
    "\r\n",
    "    df = pd.DataFrame(results, columns=['content', 'tags', 'date', 'like', 'place'])\r\n",
    "    df.to_csv(f'data/{keyword}.csv', index=False)\r\n",
    "\r\n",
    "    driver.find_element_by_xpath('/html/body/div[6]/div[3]/button').click()\r\n",
    "    time.sleep(5)"
   ],
   "outputs": [
    {
     "output_type": "error",
     "ename": "NoSuchElementException",
     "evalue": "Message: no such element: Unable to locate element: {\"method\":\"css selector\",\"selector\":\"a._65Bje.coreSpriteRightPaginationArrow\"}\n  (Session info: chrome=92.0.4515.159)\n",
     "traceback": [
      "\u001b[1;31m---------------------------------------------------------------------------\u001b[0m",
      "\u001b[1;31mTypeError\u001b[0m                                 Traceback (most recent call last)",
      "\u001b[1;32m~\\AppData\\Local\\Temp/ipykernel_19144/2863086256.py\u001b[0m in \u001b[0;36m<module>\u001b[1;34m\u001b[0m\n\u001b[0;32m     11\u001b[0m         \u001b[1;32mtry\u001b[0m\u001b[1;33m:\u001b[0m\u001b[1;33m\u001b[0m\u001b[1;33m\u001b[0m\u001b[0m\n\u001b[1;32m---> 12\u001b[1;33m             \u001b[0mrow\u001b[0m \u001b[1;33m=\u001b[0m \u001b[0mget_content\u001b[0m\u001b[1;33m(\u001b[0m\u001b[0mdriver\u001b[0m\u001b[1;33m)\u001b[0m\u001b[1;33m\u001b[0m\u001b[1;33m\u001b[0m\u001b[0m\n\u001b[0m\u001b[0;32m     13\u001b[0m             \u001b[0mresults\u001b[0m\u001b[1;33m.\u001b[0m\u001b[0mappend\u001b[0m\u001b[1;33m(\u001b[0m\u001b[0mrow\u001b[0m\u001b[1;33m)\u001b[0m\u001b[1;33m\u001b[0m\u001b[1;33m\u001b[0m\u001b[0m\n",
      "\u001b[1;32m~\\AppData\\Local\\Temp/ipykernel_19144/3552549175.py\u001b[0m in \u001b[0;36mget_content\u001b[1;34m(driver)\u001b[0m\n\u001b[0;32m     11\u001b[0m     \u001b[0mtags\u001b[0m \u001b[1;33m=\u001b[0m \u001b[0mre\u001b[0m\u001b[1;33m.\u001b[0m\u001b[0mfindall\u001b[0m\u001b[1;33m(\u001b[0m\u001b[1;34mr'#[^\\s#, \\\\]+'\u001b[0m\u001b[1;33m,\u001b[0m \u001b[0mcontent\u001b[0m\u001b[1;33m)\u001b[0m\u001b[1;33m\u001b[0m\u001b[1;33m\u001b[0m\u001b[0m\n\u001b[1;32m---> 12\u001b[1;33m     \u001b[0mdate\u001b[0m \u001b[1;33m=\u001b[0m \u001b[0msoup\u001b[0m\u001b[1;33m.\u001b[0m\u001b[0mselect_one\u001b[0m\u001b[1;33m(\u001b[0m\u001b[1;34m'time._1o9PC.Nzb55'\u001b[0m\u001b[1;33m)\u001b[0m\u001b[1;33m[\u001b[0m\u001b[1;34m'datetime'\u001b[0m\u001b[1;33m]\u001b[0m\u001b[1;33m[\u001b[0m\u001b[1;33m:\u001b[0m\u001b[1;36m10\u001b[0m\u001b[1;33m]\u001b[0m\u001b[1;33m\u001b[0m\u001b[1;33m\u001b[0m\u001b[0m\n\u001b[0m\u001b[0;32m     13\u001b[0m \u001b[1;33m\u001b[0m\u001b[0m\n",
      "\u001b[1;31mTypeError\u001b[0m: 'NoneType' object is not subscriptable",
      "\nDuring handling of the above exception, another exception occurred:\n",
      "\u001b[1;31mNoSuchElementException\u001b[0m                    Traceback (most recent call last)",
      "\u001b[1;32m~\\AppData\\Local\\Temp/ipykernel_19144/2863086256.py\u001b[0m in \u001b[0;36m<module>\u001b[1;34m\u001b[0m\n\u001b[0;32m     16\u001b[0m         \u001b[1;32mexcept\u001b[0m\u001b[1;33m:\u001b[0m\u001b[1;33m\u001b[0m\u001b[1;33m\u001b[0m\u001b[0m\n\u001b[0;32m     17\u001b[0m             \u001b[0mtime\u001b[0m\u001b[1;33m.\u001b[0m\u001b[0msleep\u001b[0m\u001b[1;33m(\u001b[0m\u001b[1;36m3\u001b[0m\u001b[1;33m)\u001b[0m\u001b[1;33m\u001b[0m\u001b[1;33m\u001b[0m\u001b[0m\n\u001b[1;32m---> 18\u001b[1;33m             \u001b[0mdriver\u001b[0m\u001b[1;33m.\u001b[0m\u001b[0mfind_element_by_css_selector\u001b[0m\u001b[1;33m(\u001b[0m\u001b[1;34m'a._65Bje.coreSpriteRightPaginationArrow'\u001b[0m\u001b[1;33m)\u001b[0m\u001b[1;33m.\u001b[0m\u001b[0mclick\u001b[0m\u001b[1;33m(\u001b[0m\u001b[1;33m)\u001b[0m\u001b[1;33m\u001b[0m\u001b[1;33m\u001b[0m\u001b[0m\n\u001b[0m\u001b[0;32m     19\u001b[0m             \u001b[0mtime\u001b[0m\u001b[1;33m.\u001b[0m\u001b[0msleep\u001b[0m\u001b[1;33m(\u001b[0m\u001b[1;36m2\u001b[0m\u001b[1;33m)\u001b[0m\u001b[1;33m\u001b[0m\u001b[1;33m\u001b[0m\u001b[0m\n\u001b[0;32m     20\u001b[0m \u001b[1;33m\u001b[0m\u001b[0m\n",
      "\u001b[1;32m~\\AppData\\Local\\Programs\\Python\\Python38-32\\lib\\site-packages\\selenium\\webdriver\\remote\\webdriver.py\u001b[0m in \u001b[0;36mfind_element_by_css_selector\u001b[1;34m(self, css_selector)\u001b[0m\n\u001b[0;32m    596\u001b[0m             \u001b[0melement\u001b[0m \u001b[1;33m=\u001b[0m \u001b[0mdriver\u001b[0m\u001b[1;33m.\u001b[0m\u001b[0mfind_element_by_css_selector\u001b[0m\u001b[1;33m(\u001b[0m\u001b[1;34m'#foo'\u001b[0m\u001b[1;33m)\u001b[0m\u001b[1;33m\u001b[0m\u001b[1;33m\u001b[0m\u001b[0m\n\u001b[0;32m    597\u001b[0m         \"\"\"\n\u001b[1;32m--> 598\u001b[1;33m         \u001b[1;32mreturn\u001b[0m \u001b[0mself\u001b[0m\u001b[1;33m.\u001b[0m\u001b[0mfind_element\u001b[0m\u001b[1;33m(\u001b[0m\u001b[0mby\u001b[0m\u001b[1;33m=\u001b[0m\u001b[0mBy\u001b[0m\u001b[1;33m.\u001b[0m\u001b[0mCSS_SELECTOR\u001b[0m\u001b[1;33m,\u001b[0m \u001b[0mvalue\u001b[0m\u001b[1;33m=\u001b[0m\u001b[0mcss_selector\u001b[0m\u001b[1;33m)\u001b[0m\u001b[1;33m\u001b[0m\u001b[1;33m\u001b[0m\u001b[0m\n\u001b[0m\u001b[0;32m    599\u001b[0m \u001b[1;33m\u001b[0m\u001b[0m\n\u001b[0;32m    600\u001b[0m     \u001b[1;32mdef\u001b[0m \u001b[0mfind_elements_by_css_selector\u001b[0m\u001b[1;33m(\u001b[0m\u001b[0mself\u001b[0m\u001b[1;33m,\u001b[0m \u001b[0mcss_selector\u001b[0m\u001b[1;33m)\u001b[0m\u001b[1;33m:\u001b[0m\u001b[1;33m\u001b[0m\u001b[1;33m\u001b[0m\u001b[0m\n",
      "\u001b[1;32m~\\AppData\\Local\\Programs\\Python\\Python38-32\\lib\\site-packages\\selenium\\webdriver\\remote\\webdriver.py\u001b[0m in \u001b[0;36mfind_element\u001b[1;34m(self, by, value)\u001b[0m\n\u001b[0;32m    974\u001b[0m                 \u001b[0mby\u001b[0m \u001b[1;33m=\u001b[0m \u001b[0mBy\u001b[0m\u001b[1;33m.\u001b[0m\u001b[0mCSS_SELECTOR\u001b[0m\u001b[1;33m\u001b[0m\u001b[1;33m\u001b[0m\u001b[0m\n\u001b[0;32m    975\u001b[0m                 \u001b[0mvalue\u001b[0m \u001b[1;33m=\u001b[0m \u001b[1;34m'[name=\"%s\"]'\u001b[0m \u001b[1;33m%\u001b[0m \u001b[0mvalue\u001b[0m\u001b[1;33m\u001b[0m\u001b[1;33m\u001b[0m\u001b[0m\n\u001b[1;32m--> 976\u001b[1;33m         return self.execute(Command.FIND_ELEMENT, {\n\u001b[0m\u001b[0;32m    977\u001b[0m             \u001b[1;34m'using'\u001b[0m\u001b[1;33m:\u001b[0m \u001b[0mby\u001b[0m\u001b[1;33m,\u001b[0m\u001b[1;33m\u001b[0m\u001b[1;33m\u001b[0m\u001b[0m\n\u001b[0;32m    978\u001b[0m             'value': value})['value']\n",
      "\u001b[1;32m~\\AppData\\Local\\Programs\\Python\\Python38-32\\lib\\site-packages\\selenium\\webdriver\\remote\\webdriver.py\u001b[0m in \u001b[0;36mexecute\u001b[1;34m(self, driver_command, params)\u001b[0m\n\u001b[0;32m    319\u001b[0m         \u001b[0mresponse\u001b[0m \u001b[1;33m=\u001b[0m \u001b[0mself\u001b[0m\u001b[1;33m.\u001b[0m\u001b[0mcommand_executor\u001b[0m\u001b[1;33m.\u001b[0m\u001b[0mexecute\u001b[0m\u001b[1;33m(\u001b[0m\u001b[0mdriver_command\u001b[0m\u001b[1;33m,\u001b[0m \u001b[0mparams\u001b[0m\u001b[1;33m)\u001b[0m\u001b[1;33m\u001b[0m\u001b[1;33m\u001b[0m\u001b[0m\n\u001b[0;32m    320\u001b[0m         \u001b[1;32mif\u001b[0m \u001b[0mresponse\u001b[0m\u001b[1;33m:\u001b[0m\u001b[1;33m\u001b[0m\u001b[1;33m\u001b[0m\u001b[0m\n\u001b[1;32m--> 321\u001b[1;33m             \u001b[0mself\u001b[0m\u001b[1;33m.\u001b[0m\u001b[0merror_handler\u001b[0m\u001b[1;33m.\u001b[0m\u001b[0mcheck_response\u001b[0m\u001b[1;33m(\u001b[0m\u001b[0mresponse\u001b[0m\u001b[1;33m)\u001b[0m\u001b[1;33m\u001b[0m\u001b[1;33m\u001b[0m\u001b[0m\n\u001b[0m\u001b[0;32m    322\u001b[0m             response['value'] = self._unwrap_value(\n\u001b[0;32m    323\u001b[0m                 response.get('value', None))\n",
      "\u001b[1;32m~\\AppData\\Local\\Programs\\Python\\Python38-32\\lib\\site-packages\\selenium\\webdriver\\remote\\errorhandler.py\u001b[0m in \u001b[0;36mcheck_response\u001b[1;34m(self, response)\u001b[0m\n\u001b[0;32m    240\u001b[0m                 \u001b[0malert_text\u001b[0m \u001b[1;33m=\u001b[0m \u001b[0mvalue\u001b[0m\u001b[1;33m[\u001b[0m\u001b[1;34m'alert'\u001b[0m\u001b[1;33m]\u001b[0m\u001b[1;33m.\u001b[0m\u001b[0mget\u001b[0m\u001b[1;33m(\u001b[0m\u001b[1;34m'text'\u001b[0m\u001b[1;33m)\u001b[0m\u001b[1;33m\u001b[0m\u001b[1;33m\u001b[0m\u001b[0m\n\u001b[0;32m    241\u001b[0m             \u001b[1;32mraise\u001b[0m \u001b[0mexception_class\u001b[0m\u001b[1;33m(\u001b[0m\u001b[0mmessage\u001b[0m\u001b[1;33m,\u001b[0m \u001b[0mscreen\u001b[0m\u001b[1;33m,\u001b[0m \u001b[0mstacktrace\u001b[0m\u001b[1;33m,\u001b[0m \u001b[0malert_text\u001b[0m\u001b[1;33m)\u001b[0m\u001b[1;33m\u001b[0m\u001b[1;33m\u001b[0m\u001b[0m\n\u001b[1;32m--> 242\u001b[1;33m         \u001b[1;32mraise\u001b[0m \u001b[0mexception_class\u001b[0m\u001b[1;33m(\u001b[0m\u001b[0mmessage\u001b[0m\u001b[1;33m,\u001b[0m \u001b[0mscreen\u001b[0m\u001b[1;33m,\u001b[0m \u001b[0mstacktrace\u001b[0m\u001b[1;33m)\u001b[0m\u001b[1;33m\u001b[0m\u001b[1;33m\u001b[0m\u001b[0m\n\u001b[0m\u001b[0;32m    243\u001b[0m \u001b[1;33m\u001b[0m\u001b[0m\n\u001b[0;32m    244\u001b[0m     \u001b[1;32mdef\u001b[0m \u001b[0m_value_or_default\u001b[0m\u001b[1;33m(\u001b[0m\u001b[0mself\u001b[0m\u001b[1;33m,\u001b[0m \u001b[0mobj\u001b[0m\u001b[1;33m,\u001b[0m \u001b[0mkey\u001b[0m\u001b[1;33m,\u001b[0m \u001b[0mdefault\u001b[0m\u001b[1;33m)\u001b[0m\u001b[1;33m:\u001b[0m\u001b[1;33m\u001b[0m\u001b[1;33m\u001b[0m\u001b[0m\n",
      "\u001b[1;31mNoSuchElementException\u001b[0m: Message: no such element: Unable to locate element: {\"method\":\"css selector\",\"selector\":\"a._65Bje.coreSpriteRightPaginationArrow\"}\n  (Session info: chrome=92.0.4515.159)\n"
     ]
    }
   ],
   "metadata": {}
  },
  {
   "cell_type": "code",
   "execution_count": null,
   "source": [],
   "outputs": [],
   "metadata": {}
  }
 ]
}