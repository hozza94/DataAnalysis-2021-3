{
  "nbformat": 4,
  "nbformat_minor": 0,
  "metadata": {
    "colab": {
      "name": "41_영어_Word2vec.ipynb",
      "provenance": [],
      "collapsed_sections": []
    },
    "kernelspec": {
      "name": "python3",
      "display_name": "Python 3"
    },
    "language_info": {
      "name": "python"
    }
  },
  "cells": [
    {
      "cell_type": "markdown",
      "metadata": {
        "id": "SjVjE3jM3YtT"
      },
      "source": [
        ""
      ]
    },
    {
      "cell_type": "code",
      "metadata": {
        "colab": {
          "base_uri": "https://localhost:8080/"
        },
        "id": "OBKabEGn2QVx",
        "outputId": "8d0ebf62-969c-4359-8798-5193f45295e2"
      },
      "source": [
        "import nltk\n",
        "nltk.download('punkt')"
      ],
      "execution_count": 1,
      "outputs": [
        {
          "output_type": "stream",
          "name": "stdout",
          "text": [
            "[nltk_data] Downloading package punkt to /root/nltk_data...\n",
            "[nltk_data]   Unzipping tokenizers/punkt.zip.\n"
          ]
        },
        {
          "output_type": "execute_result",
          "data": {
            "text/plain": [
              "True"
            ]
          },
          "metadata": {},
          "execution_count": 1
        }
      ]
    },
    {
      "cell_type": "code",
      "metadata": {
        "id": "g83D5qfM3yvu"
      },
      "source": [
        "import urllib.request\n",
        "import zipfile\n",
        "from lxml import etree\n",
        "import re\n",
        "from nltk.tokenize import word_tokenize, sent_tokenize"
      ],
      "execution_count": 2,
      "outputs": []
    },
    {
      "cell_type": "code",
      "metadata": {
        "colab": {
          "base_uri": "https://localhost:8080/"
        },
        "id": "wfSJvGlx30Uw",
        "outputId": "58ef2c3b-856e-436a-c47f-dfc88669cf71"
      },
      "source": [
        "urllib.request.urlretrieve(\"https://raw.githubusercontent.com/GaoleMeng/RNN-and-FFNN-textClassification/master/ted_en-20160408.xml\", filename=\"ted_en-20160408.xml\")"
      ],
      "execution_count": 3,
      "outputs": [
        {
          "output_type": "execute_result",
          "data": {
            "text/plain": [
              "('ted_en-20160408.xml', <http.client.HTTPMessage at 0x7f493e229850>)"
            ]
          },
          "metadata": {},
          "execution_count": 3
        }
      ]
    },
    {
      "cell_type": "code",
      "metadata": {
        "colab": {
          "base_uri": "https://localhost:8080/"
        },
        "id": "posBRa7l4CtF",
        "outputId": "189e3507-d9ed-4314-aac1-9be05ff85147"
      },
      "source": [
        "!ls -l ted_en-20160408.xml"
      ],
      "execution_count": 4,
      "outputs": [
        {
          "output_type": "stream",
          "name": "stdout",
          "text": [
            "-rw-r--r-- 1 root root 74533638 Sep  3 04:17 ted_en-20160408.xml\n"
          ]
        }
      ]
    },
    {
      "cell_type": "markdown",
      "metadata": {
        "id": "Tw2ppnIu51fN"
      },
      "source": [
        "## 훈련 데이터 전처리하기"
      ]
    },
    {
      "cell_type": "code",
      "metadata": {
        "id": "4_kzVi9l4ZD4"
      },
      "source": [
        "targetXML = open('ted_en-20160408.xml', 'r', encoding='UTF8')\n",
        "target_text = etree.parse(targetXML)"
      ],
      "execution_count": 5,
      "outputs": []
    },
    {
      "cell_type": "code",
      "metadata": {
        "id": "DHDugy376GiU"
      },
      "source": [
        "# xml 파일로부터 <content>와 </content> 사이의 내용만 가져온다.\n",
        "parse_text = '\\n'.join(target_text.xpath('//content/text()'))"
      ],
      "execution_count": 6,
      "outputs": []
    },
    {
      "cell_type": "code",
      "metadata": {
        "id": "FJDzE4YM62lO"
      },
      "source": [
        "# 정규 표현식의 sub 모듈을 통해 content 중간에 등장하는 (Audio), (Laughter) 등의 배경음 부분을 제거.\n",
        "# 해당 코드는 괄호로 구성된 내용을 제거.\n",
        "content_text = re.sub(r'\\([^)]*\\)', '', parse_text)"
      ],
      "execution_count": 7,
      "outputs": []
    },
    {
      "cell_type": "code",
      "metadata": {
        "id": "tV8omgNy642j"
      },
      "source": [
        "# 입력 코퍼스에 대해서 NLTK를 이용하여 문장 토큰화를 수행.\n",
        "sent_text = sent_tokenize(content_text)"
      ],
      "execution_count": 8,
      "outputs": []
    },
    {
      "cell_type": "code",
      "metadata": {
        "id": "OvCxFKJb7Iis"
      },
      "source": [
        "# 각 문장에 대해서 구두점을 제거하고, 대문자를 소문자로 변환.\n",
        "normalized_text = []\n",
        "for string in sent_text:\n",
        "     tokens = re.sub(r\"[^a-z0-9]+\", \" \", string.lower())\n",
        "     normalized_text.append(tokens)"
      ],
      "execution_count": 9,
      "outputs": []
    },
    {
      "cell_type": "code",
      "metadata": {
        "id": "iS-6niJK7fmn"
      },
      "source": [
        "# 각 문장에 대해서 NLTK를 이용하여 단어 토큰화를 수행.\n",
        "result = [word_tokenize(sentence) for sentence in normalized_text]"
      ],
      "execution_count": 10,
      "outputs": []
    },
    {
      "cell_type": "code",
      "metadata": {
        "colab": {
          "base_uri": "https://localhost:8080/"
        },
        "id": "hF4peDu77h1f",
        "outputId": "672a9838-0f20-4828-b7a7-6bcae41908b2"
      },
      "source": [
        "print(f'총 샘플의 개수 : {len(result)}')"
      ],
      "execution_count": 11,
      "outputs": [
        {
          "output_type": "stream",
          "name": "stdout",
          "text": [
            "총 샘플의 개수 : 273424\n"
          ]
        }
      ]
    },
    {
      "cell_type": "code",
      "metadata": {
        "colab": {
          "base_uri": "https://localhost:8080/"
        },
        "id": "J9tXWmXO79Pu",
        "outputId": "e40d95f5-37a3-46b5-c2dd-f45154a57a33"
      },
      "source": [
        "for line in result[:3]:\n",
        "    print(line)"
      ],
      "execution_count": 12,
      "outputs": [
        {
          "output_type": "stream",
          "name": "stdout",
          "text": [
            "['here', 'are', 'two', 'reasons', 'companies', 'fail', 'they', 'only', 'do', 'more', 'of', 'the', 'same', 'or', 'they', 'only', 'do', 'what', 's', 'new']\n",
            "['to', 'me', 'the', 'real', 'real', 'solution', 'to', 'quality', 'growth', 'is', 'figuring', 'out', 'the', 'balance', 'between', 'two', 'activities', 'exploration', 'and', 'exploitation']\n",
            "['both', 'are', 'necessary', 'but', 'it', 'can', 'be', 'too', 'much', 'of', 'a', 'good', 'thing']\n"
          ]
        }
      ]
    },
    {
      "cell_type": "markdown",
      "metadata": {
        "id": "5IlqX97Z8S2O"
      },
      "source": [
        "여기서 Word2Vec의 하이퍼파라미터값은 다음과 같습니다.\n",
        "- size = 워드 벡터의 특징 값. 즉, 임베딩 된 벡터의 차원.\n",
        "- window = 컨텍스트 윈도우 크기\n",
        "- min_count = 단어 최소 빈도 수 제한 (빈도가 적은 단어들은 - 학습하지 않는다.)\n",
        "- workers = 학습을 위한 프로세스 수\n",
        "- sg = 0은 CBOW, 1은 Skip-gram."
      ]
    },
    {
      "cell_type": "code",
      "metadata": {
        "id": "5I5t9XAL8GVs"
      },
      "source": [
        "from gensim.models import Word2Vec\n",
        "model = Word2Vec(sentences=result, size=100, window=5, min_count=5, workers=4, sg=0)"
      ],
      "execution_count": 13,
      "outputs": []
    },
    {
      "cell_type": "code",
      "metadata": {
        "colab": {
          "base_uri": "https://localhost:8080/"
        },
        "id": "Th-KlUkz8Z5W",
        "outputId": "027c7e02-c431-4eef-9b07-638c6272e9a5"
      },
      "source": [
        "model.wv.most_similar('man')"
      ],
      "execution_count": 14,
      "outputs": [
        {
          "output_type": "execute_result",
          "data": {
            "text/plain": [
              "[('woman', 0.8608222603797913),\n",
              " ('guy', 0.8056197762489319),\n",
              " ('lady', 0.7870907783508301),\n",
              " ('boy', 0.777847409248352),\n",
              " ('girl', 0.7661465406417847),\n",
              " ('gentleman', 0.73875892162323),\n",
              " ('poet', 0.7282140254974365),\n",
              " ('soldier', 0.719333827495575),\n",
              " ('kid', 0.7037489414215088),\n",
              " ('friend', 0.6914616823196411)]"
            ]
          },
          "metadata": {},
          "execution_count": 14
        }
      ]
    },
    {
      "cell_type": "code",
      "metadata": {
        "colab": {
          "base_uri": "https://localhost:8080/"
        },
        "id": "AEeZvzGn9OvL",
        "outputId": "072d26fc-f7ee-488d-d95c-f5d9425b6007"
      },
      "source": [
        "# man - boy + girl => woman?\n",
        "model.wv.most_similar(positive=['man','girl'], negative=['boy'], topn=3)"
      ],
      "execution_count": 17,
      "outputs": [
        {
          "output_type": "execute_result",
          "data": {
            "text/plain": [
              "[('woman', 0.8670567870140076),\n",
              " ('lady', 0.7674709558486938),\n",
              " ('guy', 0.7533614039421082)]"
            ]
          },
          "metadata": {},
          "execution_count": 17
        }
      ]
    },
    {
      "cell_type": "code",
      "metadata": {
        "colab": {
          "base_uri": "https://localhost:8080/"
        },
        "id": "x6b6oH5Z-zYj",
        "outputId": "bfef4f41-ffd8-43f8-c0bf-5c696cd1bc2e"
      },
      "source": [
        "model.most_similar(positive=['man','girl'], negative=['boy'], topn=3)"
      ],
      "execution_count": 26,
      "outputs": [
        {
          "output_type": "stream",
          "name": "stderr",
          "text": [
            "/usr/local/lib/python3.7/dist-packages/ipykernel_launcher.py:1: DeprecationWarning: Call to deprecated `most_similar` (Method will be removed in 4.0.0, use self.wv.most_similar() instead).\n",
            "  \"\"\"Entry point for launching an IPython kernel.\n"
          ]
        },
        {
          "output_type": "execute_result",
          "data": {
            "text/plain": [
              "[('woman', 0.8670567870140076),\n",
              " ('lady', 0.7674709558486938),\n",
              " ('guy', 0.7533614039421082)]"
            ]
          },
          "metadata": {},
          "execution_count": 26
        }
      ]
    },
    {
      "cell_type": "markdown",
      "metadata": {
        "id": "Yyhz3DOo9xU3"
      },
      "source": [
        "## 모델 저장하고 로드하기"
      ]
    },
    {
      "cell_type": "code",
      "metadata": {
        "id": "T0fypr5q9h6V"
      },
      "source": [
        "from gensim.models import KeyedVectors\n",
        "model.wv.save_word2vec_format('eng_w2v')"
      ],
      "execution_count": 18,
      "outputs": []
    },
    {
      "cell_type": "code",
      "metadata": {
        "colab": {
          "base_uri": "https://localhost:8080/"
        },
        "id": "L5NVHzKF-EuX",
        "outputId": "d8bd2a30-d9d4-40ec-8430-56c0b17c107f"
      },
      "source": [
        "!ls -l"
      ],
      "execution_count": 20,
      "outputs": [
        {
          "output_type": "stream",
          "name": "stdout",
          "text": [
            "total 97912\n",
            "-rw-r--r-- 1 root root 25722750 Sep  3 04:43 eng_w2v\n",
            "drwxr-xr-x 1 root root     4096 Sep  1 19:26 sample_data\n",
            "-rw-r--r-- 1 root root 74533638 Sep  3 04:17 ted_en-20160408.xml\n"
          ]
        }
      ]
    },
    {
      "cell_type": "code",
      "metadata": {
        "id": "_ZcWpHnZ-GBW"
      },
      "source": [
        "loaded_model = KeyedVectors.load_word2vec_format(\"eng_w2v\") # 모델로드"
      ],
      "execution_count": 21,
      "outputs": []
    },
    {
      "cell_type": "code",
      "metadata": {
        "colab": {
          "base_uri": "https://localhost:8080/"
        },
        "id": "Cd3sbl_1-aXd",
        "outputId": "270416b2-375b-452c-b100-aaa36956df28"
      },
      "source": [
        "loaded_model.most_similar('man')"
      ],
      "execution_count": 23,
      "outputs": [
        {
          "output_type": "execute_result",
          "data": {
            "text/plain": [
              "[('woman', 0.8608222603797913),\n",
              " ('guy', 0.8056197762489319),\n",
              " ('lady', 0.7870907783508301),\n",
              " ('boy', 0.777847409248352),\n",
              " ('girl', 0.7661465406417847),\n",
              " ('gentleman', 0.73875892162323),\n",
              " ('poet', 0.7282140254974365),\n",
              " ('soldier', 0.719333827495575),\n",
              " ('kid', 0.7037489414215088),\n",
              " ('friend', 0.6914616823196411)]"
            ]
          },
          "metadata": {},
          "execution_count": 23
        }
      ]
    },
    {
      "cell_type": "code",
      "metadata": {
        "colab": {
          "base_uri": "https://localhost:8080/"
        },
        "id": "OY1Od3H_-drN",
        "outputId": "9724c148-7317-4657-d862-86cc5b7a154e"
      },
      "source": [
        "loaded_model.wv.most_similar('man')"
      ],
      "execution_count": 25,
      "outputs": [
        {
          "output_type": "stream",
          "name": "stderr",
          "text": [
            "/usr/local/lib/python3.7/dist-packages/ipykernel_launcher.py:1: DeprecationWarning: Call to deprecated `wv` (Attribute will be removed in 4.0.0, use self instead).\n",
            "  \"\"\"Entry point for launching an IPython kernel.\n"
          ]
        },
        {
          "output_type": "execute_result",
          "data": {
            "text/plain": [
              "[('woman', 0.8608222603797913),\n",
              " ('guy', 0.8056197762489319),\n",
              " ('lady', 0.7870907783508301),\n",
              " ('boy', 0.777847409248352),\n",
              " ('girl', 0.7661465406417847),\n",
              " ('gentleman', 0.73875892162323),\n",
              " ('poet', 0.7282140254974365),\n",
              " ('soldier', 0.719333827495575),\n",
              " ('kid', 0.7037489414215088),\n",
              " ('friend', 0.6914616823196411)]"
            ]
          },
          "metadata": {},
          "execution_count": 25
        }
      ]
    },
    {
      "cell_type": "code",
      "metadata": {
        "id": "vILXB8tb-rHq"
      },
      "source": [
        ""
      ],
      "execution_count": null,
      "outputs": []
    }
  ]
}