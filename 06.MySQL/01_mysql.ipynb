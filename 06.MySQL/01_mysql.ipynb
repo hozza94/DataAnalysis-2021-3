{
  "nbformat": 4,
  "nbformat_minor": 0,
  "metadata": {
    "colab": {
      "name": "01_mysql.ipynb",
      "provenance": [],
      "collapsed_sections": []
    },
    "kernelspec": {
      "name": "python3",
      "display_name": "Python 3"
    },
    "language_info": {
      "name": "python"
    }
  },
  "cells": [
    {
      "cell_type": "code",
      "metadata": {
        "id": "oAM8f08bffFq"
      },
      "source": [
        "!pip install pymysql > /dev/null"
      ],
      "execution_count": 1,
      "outputs": []
    },
    {
      "cell_type": "code",
      "metadata": {
        "id": "mir8VVC8fUS1"
      },
      "source": [
        "from google.colab import files\n",
        "uploaded = files.uplaod()\n",
        "filename = list(uploaded.leys())[0]"
      ],
      "execution_count": null,
      "outputs": []
    },
    {
      "cell_type": "code",
      "metadata": {
        "id": "kecszAWXG1XD"
      },
      "source": [
        "import json\n",
        "with open('mysql.json', 'r') as file:\n",
        "  config_str = file.read()\n",
        "config = json.loads(config_str)"
      ],
      "execution_count": 15,
      "outputs": []
    },
    {
      "cell_type": "code",
      "metadata": {
        "id": "Y2It4krnyfuj"
      },
      "source": [
        "config['database'] = 'mcdb'"
      ],
      "execution_count": 16,
      "outputs": []
    },
    {
      "cell_type": "code",
      "metadata": {
        "id": "sHjjdkWbfzDq"
      },
      "source": [
        "import pymysql\n",
        "conn = pymysql.connect(\n",
        "    host = config['host'],\n",
        "    user = config['user'],\n",
        "    password = config['password'],\n",
        "    database = config['database'],\n",
        "    port = config['port']\n",
        ")"
      ],
      "execution_count": 17,
      "outputs": []
    },
    {
      "cell_type": "code",
      "metadata": {
        "id": "37Kquv0mydbM",
        "colab": {
          "base_uri": "https://localhost:8080/"
        },
        "outputId": "76bdbb8d-0a58-4c38-ee48-4052e2ab109b"
      },
      "source": [
        "cur = conn.cursor()\n",
        "sql = \"select id, date_format(dt, '%Y-%m-%d %H:%i') AS my_date from date_table\"\n",
        "cur.execute(sql)"
      ],
      "execution_count": 22,
      "outputs": [
        {
          "output_type": "execute_result",
          "data": {
            "text/plain": [
              "5"
            ]
          },
          "metadata": {},
          "execution_count": 22
        }
      ]
    },
    {
      "cell_type": "code",
      "metadata": {
        "id": "L0-9cmfZHEd3"
      },
      "source": [
        "conn.close()"
      ],
      "execution_count": 23,
      "outputs": []
    },
    {
      "cell_type": "code",
      "metadata": {
        "id": "yF3xYlmKfbss"
      },
      "source": [
        ""
      ],
      "execution_count": null,
      "outputs": []
    }
  ]
}