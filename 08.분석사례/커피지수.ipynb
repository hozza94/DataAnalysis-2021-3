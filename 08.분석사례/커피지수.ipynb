{
  "nbformat": 4,
  "nbformat_minor": 0,
  "metadata": {
    "colab": {
      "name": "커피지수.ipynb",
      "provenance": [],
      "collapsed_sections": []
    },
    "kernelspec": {
      "name": "python3",
      "display_name": "Python 3"
    },
    "language_info": {
      "name": "python"
    }
  },
  "cells": [
    {
      "cell_type": "markdown",
      "metadata": {
        "id": "OvdztPBHpaUI"
      },
      "source": [
        "## 시도명, 시군구명, 도로명 주소를 통해 카토그램 ID 필드 만들기"
      ]
    },
    {
      "cell_type": "code",
      "metadata": {
        "id": "uNj6naQtgsVB"
      },
      "source": [
        "!apt-get install -y fonts-nanum > /dev/null\n",
        "!fc-cache -fv > /dev/null\n",
        "!rm -rf ~/.cache/matplotlib > /dev/null\n",
        "# 런타임 다시시작"
      ],
      "execution_count": 51,
      "outputs": []
    },
    {
      "cell_type": "code",
      "metadata": {
        "id": "7cKXgRutpYTA"
      },
      "source": [
        "import numpy as np\n",
        "import pandas as pd\n",
        "import matplotlib.pyplot as plt\n",
        "import warnings\n",
        "warnings.filterwarnings('ignore')"
      ],
      "execution_count": 1,
      "outputs": []
    },
    {
      "cell_type": "code",
      "metadata": {
        "colab": {
          "base_uri": "https://localhost:8080/"
        },
        "id": "j4rw7jOG_ANi",
        "outputId": "d5ad488a-b89b-43ac-c154-9f9b2db0ed67"
      },
      "source": [
        "from google.colab import drive\n",
        "drive.mount('/content/mnt')"
      ],
      "execution_count": 2,
      "outputs": [
        {
          "output_type": "stream",
          "name": "stdout",
          "text": [
            "Drive already mounted at /content/mnt; to attempt to forcibly remount, call drive.mount(\"/content/mnt\", force_remount=True).\n"
          ]
        }
      ]
    },
    {
      "cell_type": "code",
      "metadata": {
        "id": "5_wO_B5x_EVd"
      },
      "source": [
        "data_folder = '/content/mnt/MyDrive/데이터/소상공인_상권'\n",
        "data_folder2 = '/content/mnt/MyDrive/데이터/인구소멸위기지역'\n",
        "result_dir = '/content/mnt/MyDrive/results/CoffeIndex'"
      ],
      "execution_count": 3,
      "outputs": []
    },
    {
      "cell_type": "code",
      "metadata": {
        "id": "-BAr-gx6_Z3A"
      },
      "source": [
        "starbucks = pd.read_csv(f'{result_dir}/스타벅스.csv')\n",
        "coffebean = pd.read_csv(f'{result_dir}/커피빈.csv')\n",
        "ediya = pd.read_csv(f'{result_dir}/이디야.csv')\n",
        "paik = pd.read_csv(f'{result_dir}/빽다방.csv')"
      ],
      "execution_count": 4,
      "outputs": []
    },
    {
      "cell_type": "code",
      "metadata": {
        "colab": {
          "base_uri": "https://localhost:8080/"
        },
        "id": "kTZ58IuT_pjz",
        "outputId": "5b7fcf91-283f-4d4f-fcab-65753da011bd"
      },
      "source": [
        "starbucks.시군구명.nunique(), coffebean.시군구명.nunique(), ediya.시군구명.nunique(), paik.시군구명.nunique()"
      ],
      "execution_count": 5,
      "outputs": [
        {
          "output_type": "execute_result",
          "data": {
            "text/plain": [
              "(174, 87, 219, 152)"
            ]
          },
          "metadata": {},
          "execution_count": 5
        }
      ]
    },
    {
      "cell_type": "code",
      "metadata": {
        "id": "rOyl2sJ2AAIX"
      },
      "source": [
        "# 고성군 - 고성(강원), 고성(경남)\n",
        "# 광역시 - 서울 용산, 서울 서대문, 대전 서구, 대전 유성\n",
        "# 행정구 - 수원 장안, 용인 수지, 고양 일산동, 창원 합포, 창원 회원\n",
        "tmp_gu_dict = {\n",
        "    '수원':['장안구', '권선구', '팔달구', '영통구'], \n",
        "    '성남':['수정구', '중원구', '분당구'], \n",
        "    '안양':['만안구', '동안구'], \n",
        "    '안산':['상록구', '단원구'], \n",
        "    '고양':['덕양구', '일산동구', '일산서구'], \n",
        "    '용인':['처인구', '기흥구', '수지구'], \n",
        "    '청주':['상당구', '서원구', '흥덕구', '청원구'], \n",
        "    '천안':['동남구', '서북구'], \n",
        "    '전주':['완산구', '덕진구'], \n",
        "    '포항':['남구', '북구'], \n",
        "    '창원':['의창구', '성산구', '진해구', '마산합포구', '마산회원구']\n",
        "}"
      ],
      "execution_count": 6,
      "outputs": []
    },
    {
      "cell_type": "code",
      "metadata": {
        "colab": {
          "base_uri": "https://localhost:8080/",
          "height": 204
        },
        "id": "CWK_4waGAbe1",
        "outputId": "8f9e2a86-4d50-4170-86c3-14488e0f080f"
      },
      "source": [
        "starbucks[starbucks.시도명.str.contains('세종|제주')].head(12).tail()"
      ],
      "execution_count": 7,
      "outputs": [
        {
          "output_type": "execute_result",
          "data": {
            "text/html": [
              "<div>\n",
              "<style scoped>\n",
              "    .dataframe tbody tr th:only-of-type {\n",
              "        vertical-align: middle;\n",
              "    }\n",
              "\n",
              "    .dataframe tbody tr th {\n",
              "        vertical-align: top;\n",
              "    }\n",
              "\n",
              "    .dataframe thead th {\n",
              "        text-align: right;\n",
              "    }\n",
              "</style>\n",
              "<table border=\"1\" class=\"dataframe\">\n",
              "  <thead>\n",
              "    <tr style=\"text-align: right;\">\n",
              "      <th></th>\n",
              "      <th>상호명</th>\n",
              "      <th>지점명</th>\n",
              "      <th>시도명</th>\n",
              "      <th>시군구명</th>\n",
              "      <th>도로명주소</th>\n",
              "    </tr>\n",
              "  </thead>\n",
              "  <tbody>\n",
              "    <tr>\n",
              "      <th>344</th>\n",
              "      <td>스타벅스</td>\n",
              "      <td>세종첫마을점</td>\n",
              "      <td>세종특별자치시</td>\n",
              "      <td>세종특별자치시</td>\n",
              "      <td>세종특별자치시 세종특별자치시 한누리대로 169</td>\n",
              "    </tr>\n",
              "    <tr>\n",
              "      <th>345</th>\n",
              "      <td>스타벅스</td>\n",
              "      <td>NaN</td>\n",
              "      <td>세종특별자치시</td>\n",
              "      <td>세종특별자치시</td>\n",
              "      <td>세종특별자치시 세종특별자치시 도움5로 19</td>\n",
              "    </tr>\n",
              "    <tr>\n",
              "      <th>346</th>\n",
              "      <td>스타벅스</td>\n",
              "      <td>세종충남대학교병원점</td>\n",
              "      <td>세종특별자치시</td>\n",
              "      <td>세종특별자치시</td>\n",
              "      <td>세종특별자치시 세종특별자치시 보듬7로 20</td>\n",
              "    </tr>\n",
              "    <tr>\n",
              "      <th>935</th>\n",
              "      <td>스타벅스</td>\n",
              "      <td>제주송악산점</td>\n",
              "      <td>제주특별자치도</td>\n",
              "      <td>서귀포시</td>\n",
              "      <td>제주특별자치도 서귀포시 대정읍 형제해안로 322</td>\n",
              "    </tr>\n",
              "    <tr>\n",
              "      <th>936</th>\n",
              "      <td>스타벅스</td>\n",
              "      <td>성산일출봉점</td>\n",
              "      <td>제주특별자치도</td>\n",
              "      <td>서귀포시</td>\n",
              "      <td>제주특별자치도 서귀포시 성산읍 일출로 284-5</td>\n",
              "    </tr>\n",
              "  </tbody>\n",
              "</table>\n",
              "</div>"
            ],
            "text/plain": [
              "      상호명         지점명      시도명     시군구명                       도로명주소\n",
              "344  스타벅스      세종첫마을점  세종특별자치시  세종특별자치시   세종특별자치시 세종특별자치시 한누리대로 169\n",
              "345  스타벅스         NaN  세종특별자치시  세종특별자치시     세종특별자치시 세종특별자치시 도움5로 19\n",
              "346  스타벅스  세종충남대학교병원점  세종특별자치시  세종특별자치시     세종특별자치시 세종특별자치시 보듬7로 20\n",
              "935  스타벅스      제주송악산점  제주특별자치도     서귀포시  제주특별자치도 서귀포시 대정읍 형제해안로 322\n",
              "936  스타벅스      성산일출봉점  제주특별자치도     서귀포시  제주특별자치도 서귀포시 성산읍 일출로 284-5"
            ]
          },
          "metadata": {},
          "execution_count": 7
        }
      ]
    },
    {
      "cell_type": "code",
      "metadata": {
        "id": "74SzDyLEAsIH"
      },
      "source": [
        "metro_list = ['서울특별시','부산광역시','대구광역시','인천광역시','대전광역시','광주광역시','울산광역시']\n",
        "\n",
        "def get_ID(df):\n",
        "  si_name = [None] * len(df)\n",
        "\n",
        "  for i in df.index:\n",
        "      if df.시도명[i] in metro_list:\n",
        "          if len(df.시군구명[i]) == 2:\n",
        "              si_name[i] = df.시도명[i][:2] + ' ' + df.시군구명[i]\n",
        "          else:\n",
        "              si_name[i] = df.시도명[i][:2] + ' ' + df.시군구명[i][:-1]     # 긴 구 이름에서 '구' 제외\n",
        "      else:\n",
        "        si_len = len(df.시군구명[i].split())\n",
        "        if si_len == 1:\n",
        "          if df.시군구명[i][:-1] == '고성':\n",
        "            if df.시도명[i] == '강원도':\n",
        "              si_name[i] = '고성(강원)'\n",
        "            else:\n",
        "              si_name[i] = '고성(경남)'\n",
        "          elif df.시군구명[i][:-1] in tmp_gu_dict.keys():\n",
        "            if len(df.도로명주소[i].split()[2]) == 5:\n",
        "              si_name[i] = df.시군구명[i][:2] + ' ' + df.도로명주소[i].split()[2][2:-1]\n",
        "            else:\n",
        "              si_name[i] = df.시군구명[i][:2] + ' ' + df.도로명주소[i].split()[2][:-1]\n",
        "          elif df.시군구명[i][:2] == '세종':\n",
        "            si_name[i] = '세종'\n",
        "          else:\n",
        "            si_name[i] = df.시군구명[i][:-1]\n",
        "        else:\n",
        "          _, admingu = df.시군구명[i].split()\n",
        "          for key, values in tmp_gu_dict.items():\n",
        "              if admingu in values:\n",
        "                  if len(admingu) == 2:\n",
        "                      si_name[i] = key + ' ' + admingu\n",
        "                  elif admingu in ['마산합포구', '마산회원구']:\n",
        "                      si_name[i] = key + ' ' + admingu[2:-1]\n",
        "                  else:\n",
        "                      si_name[i] = key + ' ' + admingu[:-1]\n",
        "\n",
        "  return  si_name"
      ],
      "execution_count": 7,
      "outputs": []
    },
    {
      "cell_type": "markdown",
      "metadata": {
        "id": "r7qL0Oj_D6sF"
      },
      "source": [
        "- 이디야를 기준으로 left join을 해서 계속 붙이면  240군데에 대해서는 값이 구해지고 나머지에서는 구해지지 않을것임"
      ]
    },
    {
      "cell_type": "code",
      "metadata": {
        "id": "ER6Y5O-2A6_h"
      },
      "source": [
        "starbucks['ID'] = get_ID(starbucks)\n",
        "ediya['ID'] = get_ID(ediya)\n",
        "coffebean['ID'] = get_ID(coffebean)\n",
        "paik['ID'] = get_ID(paik)"
      ],
      "execution_count": 38,
      "outputs": []
    },
    {
      "cell_type": "markdown",
      "metadata": {
        "id": "n-p3SevtEQ8s"
      },
      "source": [
        "- 브랜드별 매장수"
      ]
    },
    {
      "cell_type": "code",
      "metadata": {
        "id": "7b8gvGt5ESNq"
      },
      "source": [
        "pt_sb = starbucks.pivot_table('상호명', index='ID', aggfunc='count')\n",
        "pt_cb = coffebean.pivot_table('상호명', index='ID', aggfunc='count')\n",
        "pt_ed = ediya.pivot_table('상호명', index='ID', aggfunc='count')\n",
        "pt_bd = paik.pivot_table('상호명', index='ID', aggfunc='count')"
      ],
      "execution_count": 44,
      "outputs": []
    },
    {
      "cell_type": "code",
      "metadata": {
        "id": "psg5VGWUGPJH"
      },
      "source": [
        "pt_sb.columns = ['스타벅스']\n",
        "pt_sb.reset_index(inplace=True)\n",
        "\n",
        "pt_cb = coffebean.pivot_table('상호명', index='ID', aggfunc='count')\n",
        "pt_cb.columns = ['커피빈']\n",
        "pt_cb.reset_index(inplace=True)\n",
        "\n",
        "pt_ed = ediya.pivot_table('상호명', index='ID', aggfunc='count')\n",
        "pt_ed.columns = ['이디야']\n",
        "pt_ed.reset_index(inplace=True)\n",
        "\n",
        "pt_bd = paik.pivot_table('상호명', index='ID', aggfunc='count')\n",
        "pt_bd.columns = ['빽다방']\n",
        "pt_bd.reset_index(inplace=True)"
      ],
      "execution_count": 45,
      "outputs": []
    },
    {
      "cell_type": "code",
      "metadata": {
        "colab": {
          "base_uri": "https://localhost:8080/"
        },
        "id": "NOiTxSD5cXsv",
        "outputId": "72553b85-724e-4897-cb66-8a6aef9ff876"
      },
      "source": [
        "cf = pd.merge(pt_ed, pt_sb, how='left')\n",
        "len(cf)"
      ],
      "execution_count": 46,
      "outputs": [
        {
          "output_type": "execute_result",
          "data": {
            "text/plain": [
              "236"
            ]
          },
          "metadata": {},
          "execution_count": 46
        }
      ]
    },
    {
      "cell_type": "code",
      "metadata": {
        "colab": {
          "base_uri": "https://localhost:8080/",
          "height": 204
        },
        "id": "eEgtWlNmu3fA",
        "outputId": "ae434ba5-1fc1-4ad6-8b66-de48cb3b4caa"
      },
      "source": [
        "cf = pd.merge(cf, pt_cb, how='left')\n",
        "cf = pd.merge(cf, pt_bd, how='left')\n",
        "cf.head()"
      ],
      "execution_count": 47,
      "outputs": [
        {
          "output_type": "execute_result",
          "data": {
            "text/html": [
              "<div>\n",
              "<style scoped>\n",
              "    .dataframe tbody tr th:only-of-type {\n",
              "        vertical-align: middle;\n",
              "    }\n",
              "\n",
              "    .dataframe tbody tr th {\n",
              "        vertical-align: top;\n",
              "    }\n",
              "\n",
              "    .dataframe thead th {\n",
              "        text-align: right;\n",
              "    }\n",
              "</style>\n",
              "<table border=\"1\" class=\"dataframe\">\n",
              "  <thead>\n",
              "    <tr style=\"text-align: right;\">\n",
              "      <th></th>\n",
              "      <th>ID</th>\n",
              "      <th>이디야</th>\n",
              "      <th>스타벅스</th>\n",
              "      <th>커피빈</th>\n",
              "      <th>빽다방</th>\n",
              "    </tr>\n",
              "  </thead>\n",
              "  <tbody>\n",
              "    <tr>\n",
              "      <th>0</th>\n",
              "      <td>가평</td>\n",
              "      <td>9</td>\n",
              "      <td>2.0</td>\n",
              "      <td>NaN</td>\n",
              "      <td>NaN</td>\n",
              "    </tr>\n",
              "    <tr>\n",
              "      <th>1</th>\n",
              "      <td>강릉</td>\n",
              "      <td>15</td>\n",
              "      <td>5.0</td>\n",
              "      <td>NaN</td>\n",
              "      <td>2.0</td>\n",
              "    </tr>\n",
              "    <tr>\n",
              "      <th>2</th>\n",
              "      <td>강진</td>\n",
              "      <td>1</td>\n",
              "      <td>NaN</td>\n",
              "      <td>NaN</td>\n",
              "      <td>NaN</td>\n",
              "    </tr>\n",
              "    <tr>\n",
              "      <th>3</th>\n",
              "      <td>거제</td>\n",
              "      <td>9</td>\n",
              "      <td>6.0</td>\n",
              "      <td>NaN</td>\n",
              "      <td>NaN</td>\n",
              "    </tr>\n",
              "    <tr>\n",
              "      <th>4</th>\n",
              "      <td>거창</td>\n",
              "      <td>1</td>\n",
              "      <td>NaN</td>\n",
              "      <td>NaN</td>\n",
              "      <td>1.0</td>\n",
              "    </tr>\n",
              "  </tbody>\n",
              "</table>\n",
              "</div>"
            ],
            "text/plain": [
              "   ID  이디야  스타벅스  커피빈  빽다방\n",
              "0  가평    9   2.0  NaN  NaN\n",
              "1  강릉   15   5.0  NaN  2.0\n",
              "2  강진    1   NaN  NaN  NaN\n",
              "3  거제    9   6.0  NaN  NaN\n",
              "4  거창    1   NaN  NaN  1.0"
            ]
          },
          "metadata": {},
          "execution_count": 47
        }
      ]
    },
    {
      "cell_type": "code",
      "metadata": {
        "colab": {
          "base_uri": "https://localhost:8080/",
          "height": 204
        },
        "id": "kFzU--8ZcUqE",
        "outputId": "f1c637c6-4238-4dba-bc93-5d05e14eba19"
      },
      "source": [
        "cf.fillna(0, inplace=True)\n",
        "cf.head()"
      ],
      "execution_count": 48,
      "outputs": [
        {
          "output_type": "execute_result",
          "data": {
            "text/html": [
              "<div>\n",
              "<style scoped>\n",
              "    .dataframe tbody tr th:only-of-type {\n",
              "        vertical-align: middle;\n",
              "    }\n",
              "\n",
              "    .dataframe tbody tr th {\n",
              "        vertical-align: top;\n",
              "    }\n",
              "\n",
              "    .dataframe thead th {\n",
              "        text-align: right;\n",
              "    }\n",
              "</style>\n",
              "<table border=\"1\" class=\"dataframe\">\n",
              "  <thead>\n",
              "    <tr style=\"text-align: right;\">\n",
              "      <th></th>\n",
              "      <th>ID</th>\n",
              "      <th>이디야</th>\n",
              "      <th>스타벅스</th>\n",
              "      <th>커피빈</th>\n",
              "      <th>빽다방</th>\n",
              "    </tr>\n",
              "  </thead>\n",
              "  <tbody>\n",
              "    <tr>\n",
              "      <th>0</th>\n",
              "      <td>가평</td>\n",
              "      <td>9</td>\n",
              "      <td>2.0</td>\n",
              "      <td>0.0</td>\n",
              "      <td>0.0</td>\n",
              "    </tr>\n",
              "    <tr>\n",
              "      <th>1</th>\n",
              "      <td>강릉</td>\n",
              "      <td>15</td>\n",
              "      <td>5.0</td>\n",
              "      <td>0.0</td>\n",
              "      <td>2.0</td>\n",
              "    </tr>\n",
              "    <tr>\n",
              "      <th>2</th>\n",
              "      <td>강진</td>\n",
              "      <td>1</td>\n",
              "      <td>0.0</td>\n",
              "      <td>0.0</td>\n",
              "      <td>0.0</td>\n",
              "    </tr>\n",
              "    <tr>\n",
              "      <th>3</th>\n",
              "      <td>거제</td>\n",
              "      <td>9</td>\n",
              "      <td>6.0</td>\n",
              "      <td>0.0</td>\n",
              "      <td>0.0</td>\n",
              "    </tr>\n",
              "    <tr>\n",
              "      <th>4</th>\n",
              "      <td>거창</td>\n",
              "      <td>1</td>\n",
              "      <td>0.0</td>\n",
              "      <td>0.0</td>\n",
              "      <td>1.0</td>\n",
              "    </tr>\n",
              "  </tbody>\n",
              "</table>\n",
              "</div>"
            ],
            "text/plain": [
              "   ID  이디야  스타벅스  커피빈  빽다방\n",
              "0  가평    9   2.0  0.0  0.0\n",
              "1  강릉   15   5.0  0.0  2.0\n",
              "2  강진    1   0.0  0.0  0.0\n",
              "3  거제    9   6.0  0.0  0.0\n",
              "4  거창    1   0.0  0.0  1.0"
            ]
          },
          "metadata": {},
          "execution_count": 48
        }
      ]
    },
    {
      "cell_type": "code",
      "metadata": {
        "colab": {
          "base_uri": "https://localhost:8080/",
          "height": 204
        },
        "id": "O5D50L6vu8H2",
        "outputId": "8267e207-0c19-4633-c09d-a01316f86f85"
      },
      "source": [
        "cf['스타벅스'] = cf.스타벅스.astype(int)\n",
        "cf['커피빈'] = cf.커피빈.astype(int)\n",
        "cf['빽다방'] = cf.빽다방.astype(int)\n",
        "cf.head()"
      ],
      "execution_count": 49,
      "outputs": [
        {
          "output_type": "execute_result",
          "data": {
            "text/html": [
              "<div>\n",
              "<style scoped>\n",
              "    .dataframe tbody tr th:only-of-type {\n",
              "        vertical-align: middle;\n",
              "    }\n",
              "\n",
              "    .dataframe tbody tr th {\n",
              "        vertical-align: top;\n",
              "    }\n",
              "\n",
              "    .dataframe thead th {\n",
              "        text-align: right;\n",
              "    }\n",
              "</style>\n",
              "<table border=\"1\" class=\"dataframe\">\n",
              "  <thead>\n",
              "    <tr style=\"text-align: right;\">\n",
              "      <th></th>\n",
              "      <th>ID</th>\n",
              "      <th>이디야</th>\n",
              "      <th>스타벅스</th>\n",
              "      <th>커피빈</th>\n",
              "      <th>빽다방</th>\n",
              "    </tr>\n",
              "  </thead>\n",
              "  <tbody>\n",
              "    <tr>\n",
              "      <th>0</th>\n",
              "      <td>가평</td>\n",
              "      <td>9</td>\n",
              "      <td>2</td>\n",
              "      <td>0</td>\n",
              "      <td>0</td>\n",
              "    </tr>\n",
              "    <tr>\n",
              "      <th>1</th>\n",
              "      <td>강릉</td>\n",
              "      <td>15</td>\n",
              "      <td>5</td>\n",
              "      <td>0</td>\n",
              "      <td>2</td>\n",
              "    </tr>\n",
              "    <tr>\n",
              "      <th>2</th>\n",
              "      <td>강진</td>\n",
              "      <td>1</td>\n",
              "      <td>0</td>\n",
              "      <td>0</td>\n",
              "      <td>0</td>\n",
              "    </tr>\n",
              "    <tr>\n",
              "      <th>3</th>\n",
              "      <td>거제</td>\n",
              "      <td>9</td>\n",
              "      <td>6</td>\n",
              "      <td>0</td>\n",
              "      <td>0</td>\n",
              "    </tr>\n",
              "    <tr>\n",
              "      <th>4</th>\n",
              "      <td>거창</td>\n",
              "      <td>1</td>\n",
              "      <td>0</td>\n",
              "      <td>0</td>\n",
              "      <td>1</td>\n",
              "    </tr>\n",
              "  </tbody>\n",
              "</table>\n",
              "</div>"
            ],
            "text/plain": [
              "   ID  이디야  스타벅스  커피빈  빽다방\n",
              "0  가평    9     2    0    0\n",
              "1  강릉   15     5    0    2\n",
              "2  강진    1     0    0    0\n",
              "3  거제    9     6    0    0\n",
              "4  거창    1     0    0    1"
            ]
          },
          "metadata": {},
          "execution_count": 49
        }
      ]
    },
    {
      "cell_type": "code",
      "metadata": {
        "colab": {
          "base_uri": "https://localhost:8080/",
          "height": 204
        },
        "id": "jPeRmgsnu9fa",
        "outputId": "ab140e2d-c3b6-46cd-d3c3-4f0df2f6c302"
      },
      "source": [
        "cf['커피지수'] = (cf.스타벅스 + cf.커피빈) / (cf.이디야 + cf.빽다방)\n",
        "cf.head()"
      ],
      "execution_count": 50,
      "outputs": [
        {
          "output_type": "execute_result",
          "data": {
            "text/html": [
              "<div>\n",
              "<style scoped>\n",
              "    .dataframe tbody tr th:only-of-type {\n",
              "        vertical-align: middle;\n",
              "    }\n",
              "\n",
              "    .dataframe tbody tr th {\n",
              "        vertical-align: top;\n",
              "    }\n",
              "\n",
              "    .dataframe thead th {\n",
              "        text-align: right;\n",
              "    }\n",
              "</style>\n",
              "<table border=\"1\" class=\"dataframe\">\n",
              "  <thead>\n",
              "    <tr style=\"text-align: right;\">\n",
              "      <th></th>\n",
              "      <th>ID</th>\n",
              "      <th>이디야</th>\n",
              "      <th>스타벅스</th>\n",
              "      <th>커피빈</th>\n",
              "      <th>빽다방</th>\n",
              "      <th>커피지수</th>\n",
              "    </tr>\n",
              "  </thead>\n",
              "  <tbody>\n",
              "    <tr>\n",
              "      <th>0</th>\n",
              "      <td>가평</td>\n",
              "      <td>9</td>\n",
              "      <td>2</td>\n",
              "      <td>0</td>\n",
              "      <td>0</td>\n",
              "      <td>0.222222</td>\n",
              "    </tr>\n",
              "    <tr>\n",
              "      <th>1</th>\n",
              "      <td>강릉</td>\n",
              "      <td>15</td>\n",
              "      <td>5</td>\n",
              "      <td>0</td>\n",
              "      <td>2</td>\n",
              "      <td>0.294118</td>\n",
              "    </tr>\n",
              "    <tr>\n",
              "      <th>2</th>\n",
              "      <td>강진</td>\n",
              "      <td>1</td>\n",
              "      <td>0</td>\n",
              "      <td>0</td>\n",
              "      <td>0</td>\n",
              "      <td>0.000000</td>\n",
              "    </tr>\n",
              "    <tr>\n",
              "      <th>3</th>\n",
              "      <td>거제</td>\n",
              "      <td>9</td>\n",
              "      <td>6</td>\n",
              "      <td>0</td>\n",
              "      <td>0</td>\n",
              "      <td>0.666667</td>\n",
              "    </tr>\n",
              "    <tr>\n",
              "      <th>4</th>\n",
              "      <td>거창</td>\n",
              "      <td>1</td>\n",
              "      <td>0</td>\n",
              "      <td>0</td>\n",
              "      <td>1</td>\n",
              "      <td>0.000000</td>\n",
              "    </tr>\n",
              "  </tbody>\n",
              "</table>\n",
              "</div>"
            ],
            "text/plain": [
              "   ID  이디야  스타벅스  커피빈  빽다방      커피지수\n",
              "0  가평    9     2    0    0  0.222222\n",
              "1  강릉   15     5    0    2  0.294118\n",
              "2  강진    1     0    0    0  0.000000\n",
              "3  거제    9     6    0    0  0.666667\n",
              "4  거창    1     0    0    1  0.000000"
            ]
          },
          "metadata": {},
          "execution_count": 50
        }
      ]
    },
    {
      "cell_type": "code",
      "metadata": {
        "id": "g23X0o1ru_R3"
      },
      "source": [
        "cf.to_csv(f'{result_dir}/커피지수.csv', index=False)"
      ],
      "execution_count": 51,
      "outputs": []
    },
    {
      "cell_type": "code",
      "metadata": {
        "id": "ybEd52stdBUE"
      },
      "source": [
        "!cp $data_folder2/draw_map.py ."
      ],
      "execution_count": 18,
      "outputs": []
    },
    {
      "cell_type": "code",
      "metadata": {
        "id": "UEH9g0UIfWef"
      },
      "source": [
        "from draw_map import BORDER_LINES, drawKorea, drawKoreaMinus"
      ],
      "execution_count": 52,
      "outputs": []
    },
    {
      "cell_type": "code",
      "metadata": {
        "colab": {
          "base_uri": "https://localhost:8080/",
          "height": 221
        },
        "id": "vgVMpcmSgDAo",
        "outputId": "1922d5e7-1624-486b-bdeb-b31600d65ac9"
      },
      "source": [
        "map_raw = pd.read_excel(f'{data_folder2}/draw_korea_raw(2021).xlsx')\n",
        "map = pd.DataFrame(map_raw.stack())\n",
        "map.reset_index(inplace=True)\n",
        "print(map.shape)\n",
        "map.head()"
      ],
      "execution_count": 53,
      "outputs": [
        {
          "output_type": "stream",
          "name": "stdout",
          "text": [
            "(250, 3)\n"
          ]
        },
        {
          "output_type": "execute_result",
          "data": {
            "text/html": [
              "<div>\n",
              "<style scoped>\n",
              "    .dataframe tbody tr th:only-of-type {\n",
              "        vertical-align: middle;\n",
              "    }\n",
              "\n",
              "    .dataframe tbody tr th {\n",
              "        vertical-align: top;\n",
              "    }\n",
              "\n",
              "    .dataframe thead th {\n",
              "        text-align: right;\n",
              "    }\n",
              "</style>\n",
              "<table border=\"1\" class=\"dataframe\">\n",
              "  <thead>\n",
              "    <tr style=\"text-align: right;\">\n",
              "      <th></th>\n",
              "      <th>level_0</th>\n",
              "      <th>level_1</th>\n",
              "      <th>0</th>\n",
              "    </tr>\n",
              "  </thead>\n",
              "  <tbody>\n",
              "    <tr>\n",
              "      <th>0</th>\n",
              "      <td>0</td>\n",
              "      <td>7</td>\n",
              "      <td>철원</td>\n",
              "    </tr>\n",
              "    <tr>\n",
              "      <th>1</th>\n",
              "      <td>0</td>\n",
              "      <td>8</td>\n",
              "      <td>화천</td>\n",
              "    </tr>\n",
              "    <tr>\n",
              "      <th>2</th>\n",
              "      <td>0</td>\n",
              "      <td>9</td>\n",
              "      <td>양구</td>\n",
              "    </tr>\n",
              "    <tr>\n",
              "      <th>3</th>\n",
              "      <td>0</td>\n",
              "      <td>10</td>\n",
              "      <td>고성(강원)</td>\n",
              "    </tr>\n",
              "    <tr>\n",
              "      <th>4</th>\n",
              "      <td>1</td>\n",
              "      <td>3</td>\n",
              "      <td>양주</td>\n",
              "    </tr>\n",
              "  </tbody>\n",
              "</table>\n",
              "</div>"
            ],
            "text/plain": [
              "   level_0  level_1       0\n",
              "0        0        7      철원\n",
              "1        0        8      화천\n",
              "2        0        9      양구\n",
              "3        0       10  고성(강원)\n",
              "4        1        3      양주"
            ]
          },
          "metadata": {},
          "execution_count": 53
        }
      ]
    },
    {
      "cell_type": "code",
      "metadata": {
        "colab": {
          "base_uri": "https://localhost:8080/",
          "height": 204
        },
        "id": "I8bmIMjggMml",
        "outputId": "cdebfaeb-a43e-4031-c3dc-cbda16b9d424"
      },
      "source": [
        "map.columns = ['y','x','ID']\n",
        "map.head()"
      ],
      "execution_count": 54,
      "outputs": [
        {
          "output_type": "execute_result",
          "data": {
            "text/html": [
              "<div>\n",
              "<style scoped>\n",
              "    .dataframe tbody tr th:only-of-type {\n",
              "        vertical-align: middle;\n",
              "    }\n",
              "\n",
              "    .dataframe tbody tr th {\n",
              "        vertical-align: top;\n",
              "    }\n",
              "\n",
              "    .dataframe thead th {\n",
              "        text-align: right;\n",
              "    }\n",
              "</style>\n",
              "<table border=\"1\" class=\"dataframe\">\n",
              "  <thead>\n",
              "    <tr style=\"text-align: right;\">\n",
              "      <th></th>\n",
              "      <th>y</th>\n",
              "      <th>x</th>\n",
              "      <th>ID</th>\n",
              "    </tr>\n",
              "  </thead>\n",
              "  <tbody>\n",
              "    <tr>\n",
              "      <th>0</th>\n",
              "      <td>0</td>\n",
              "      <td>7</td>\n",
              "      <td>철원</td>\n",
              "    </tr>\n",
              "    <tr>\n",
              "      <th>1</th>\n",
              "      <td>0</td>\n",
              "      <td>8</td>\n",
              "      <td>화천</td>\n",
              "    </tr>\n",
              "    <tr>\n",
              "      <th>2</th>\n",
              "      <td>0</td>\n",
              "      <td>9</td>\n",
              "      <td>양구</td>\n",
              "    </tr>\n",
              "    <tr>\n",
              "      <th>3</th>\n",
              "      <td>0</td>\n",
              "      <td>10</td>\n",
              "      <td>고성(강원)</td>\n",
              "    </tr>\n",
              "    <tr>\n",
              "      <th>4</th>\n",
              "      <td>1</td>\n",
              "      <td>3</td>\n",
              "      <td>양주</td>\n",
              "    </tr>\n",
              "  </tbody>\n",
              "</table>\n",
              "</div>"
            ],
            "text/plain": [
              "   y   x      ID\n",
              "0  0   7      철원\n",
              "1  0   8      화천\n",
              "2  0   9      양구\n",
              "3  0  10  고성(강원)\n",
              "4  1   3      양주"
            ]
          },
          "metadata": {},
          "execution_count": 54
        }
      ]
    },
    {
      "cell_type": "code",
      "metadata": {
        "colab": {
          "base_uri": "https://localhost:8080/",
          "height": 221
        },
        "id": "ek_u6lcFgRED",
        "outputId": "6cd136af-39a3-4589-feb5-1529457a15b5"
      },
      "source": [
        "df = pd.merge(map, cf, how='left')\n",
        "print(df.shape)\n",
        "df.head()"
      ],
      "execution_count": 55,
      "outputs": [
        {
          "output_type": "stream",
          "name": "stdout",
          "text": [
            "(250, 8)\n"
          ]
        },
        {
          "output_type": "execute_result",
          "data": {
            "text/html": [
              "<div>\n",
              "<style scoped>\n",
              "    .dataframe tbody tr th:only-of-type {\n",
              "        vertical-align: middle;\n",
              "    }\n",
              "\n",
              "    .dataframe tbody tr th {\n",
              "        vertical-align: top;\n",
              "    }\n",
              "\n",
              "    .dataframe thead th {\n",
              "        text-align: right;\n",
              "    }\n",
              "</style>\n",
              "<table border=\"1\" class=\"dataframe\">\n",
              "  <thead>\n",
              "    <tr style=\"text-align: right;\">\n",
              "      <th></th>\n",
              "      <th>y</th>\n",
              "      <th>x</th>\n",
              "      <th>ID</th>\n",
              "      <th>이디야</th>\n",
              "      <th>스타벅스</th>\n",
              "      <th>커피빈</th>\n",
              "      <th>빽다방</th>\n",
              "      <th>커피지수</th>\n",
              "    </tr>\n",
              "  </thead>\n",
              "  <tbody>\n",
              "    <tr>\n",
              "      <th>0</th>\n",
              "      <td>0</td>\n",
              "      <td>7</td>\n",
              "      <td>철원</td>\n",
              "      <td>2.0</td>\n",
              "      <td>0.0</td>\n",
              "      <td>0.0</td>\n",
              "      <td>0.0</td>\n",
              "      <td>0.000000</td>\n",
              "    </tr>\n",
              "    <tr>\n",
              "      <th>1</th>\n",
              "      <td>0</td>\n",
              "      <td>8</td>\n",
              "      <td>화천</td>\n",
              "      <td>1.0</td>\n",
              "      <td>0.0</td>\n",
              "      <td>0.0</td>\n",
              "      <td>1.0</td>\n",
              "      <td>0.000000</td>\n",
              "    </tr>\n",
              "    <tr>\n",
              "      <th>2</th>\n",
              "      <td>0</td>\n",
              "      <td>9</td>\n",
              "      <td>양구</td>\n",
              "      <td>1.0</td>\n",
              "      <td>0.0</td>\n",
              "      <td>0.0</td>\n",
              "      <td>0.0</td>\n",
              "      <td>0.000000</td>\n",
              "    </tr>\n",
              "    <tr>\n",
              "      <th>3</th>\n",
              "      <td>0</td>\n",
              "      <td>10</td>\n",
              "      <td>고성(강원)</td>\n",
              "      <td>NaN</td>\n",
              "      <td>NaN</td>\n",
              "      <td>NaN</td>\n",
              "      <td>NaN</td>\n",
              "      <td>NaN</td>\n",
              "    </tr>\n",
              "    <tr>\n",
              "      <th>4</th>\n",
              "      <td>1</td>\n",
              "      <td>3</td>\n",
              "      <td>양주</td>\n",
              "      <td>17.0</td>\n",
              "      <td>7.0</td>\n",
              "      <td>0.0</td>\n",
              "      <td>1.0</td>\n",
              "      <td>0.388889</td>\n",
              "    </tr>\n",
              "  </tbody>\n",
              "</table>\n",
              "</div>"
            ],
            "text/plain": [
              "   y   x      ID   이디야  스타벅스  커피빈  빽다방      커피지수\n",
              "0  0   7      철원   2.0   0.0  0.0  0.0  0.000000\n",
              "1  0   8      화천   1.0   0.0  0.0  1.0  0.000000\n",
              "2  0   9      양구   1.0   0.0  0.0  0.0  0.000000\n",
              "3  0  10  고성(강원)   NaN   NaN  NaN  NaN       NaN\n",
              "4  1   3      양주  17.0   7.0  0.0  1.0  0.388889"
            ]
          },
          "metadata": {},
          "execution_count": 55
        }
      ]
    },
    {
      "cell_type": "code",
      "metadata": {
        "colab": {
          "base_uri": "https://localhost:8080/",
          "height": 204
        },
        "id": "o4Cmtl_7vRjo",
        "outputId": "746a8fa0-e5aa-4ea4-a715-18b436ad3d14"
      },
      "source": [
        "df.fillna(0, inplace=True)\n",
        "df['이디야'] = df.이디야.astype(int)\n",
        "df['스타벅스'] = df.스타벅스.astype(int)\n",
        "df['커피빈'] = df.커피빈.astype(int)\n",
        "df['빽다방'] = df.빽다방.astype(int)\n",
        "df.head()"
      ],
      "execution_count": 56,
      "outputs": [
        {
          "output_type": "execute_result",
          "data": {
            "text/html": [
              "<div>\n",
              "<style scoped>\n",
              "    .dataframe tbody tr th:only-of-type {\n",
              "        vertical-align: middle;\n",
              "    }\n",
              "\n",
              "    .dataframe tbody tr th {\n",
              "        vertical-align: top;\n",
              "    }\n",
              "\n",
              "    .dataframe thead th {\n",
              "        text-align: right;\n",
              "    }\n",
              "</style>\n",
              "<table border=\"1\" class=\"dataframe\">\n",
              "  <thead>\n",
              "    <tr style=\"text-align: right;\">\n",
              "      <th></th>\n",
              "      <th>y</th>\n",
              "      <th>x</th>\n",
              "      <th>ID</th>\n",
              "      <th>이디야</th>\n",
              "      <th>스타벅스</th>\n",
              "      <th>커피빈</th>\n",
              "      <th>빽다방</th>\n",
              "      <th>커피지수</th>\n",
              "    </tr>\n",
              "  </thead>\n",
              "  <tbody>\n",
              "    <tr>\n",
              "      <th>0</th>\n",
              "      <td>0</td>\n",
              "      <td>7</td>\n",
              "      <td>철원</td>\n",
              "      <td>2</td>\n",
              "      <td>0</td>\n",
              "      <td>0</td>\n",
              "      <td>0</td>\n",
              "      <td>0.000000</td>\n",
              "    </tr>\n",
              "    <tr>\n",
              "      <th>1</th>\n",
              "      <td>0</td>\n",
              "      <td>8</td>\n",
              "      <td>화천</td>\n",
              "      <td>1</td>\n",
              "      <td>0</td>\n",
              "      <td>0</td>\n",
              "      <td>1</td>\n",
              "      <td>0.000000</td>\n",
              "    </tr>\n",
              "    <tr>\n",
              "      <th>2</th>\n",
              "      <td>0</td>\n",
              "      <td>9</td>\n",
              "      <td>양구</td>\n",
              "      <td>1</td>\n",
              "      <td>0</td>\n",
              "      <td>0</td>\n",
              "      <td>0</td>\n",
              "      <td>0.000000</td>\n",
              "    </tr>\n",
              "    <tr>\n",
              "      <th>3</th>\n",
              "      <td>0</td>\n",
              "      <td>10</td>\n",
              "      <td>고성(강원)</td>\n",
              "      <td>0</td>\n",
              "      <td>0</td>\n",
              "      <td>0</td>\n",
              "      <td>0</td>\n",
              "      <td>0.000000</td>\n",
              "    </tr>\n",
              "    <tr>\n",
              "      <th>4</th>\n",
              "      <td>1</td>\n",
              "      <td>3</td>\n",
              "      <td>양주</td>\n",
              "      <td>17</td>\n",
              "      <td>7</td>\n",
              "      <td>0</td>\n",
              "      <td>1</td>\n",
              "      <td>0.388889</td>\n",
              "    </tr>\n",
              "  </tbody>\n",
              "</table>\n",
              "</div>"
            ],
            "text/plain": [
              "   y   x      ID  이디야  스타벅스  커피빈  빽다방      커피지수\n",
              "0  0   7      철원    2     0    0    0  0.000000\n",
              "1  0   8      화천    1     0    0    1  0.000000\n",
              "2  0   9      양구    1     0    0    0  0.000000\n",
              "3  0  10  고성(강원)    0     0    0    0  0.000000\n",
              "4  1   3      양주   17     7    0    1  0.388889"
            ]
          },
          "metadata": {},
          "execution_count": 56
        }
      ]
    },
    {
      "cell_type": "code",
      "metadata": {
        "colab": {
          "base_uri": "https://localhost:8080/",
          "height": 801
        },
        "id": "Rh55N7wphG1O",
        "outputId": "04bea3ec-1f93-43b3-b913-334c1eacb41b"
      },
      "source": [
        "drawKorea('커피지수', df, 'Reds')"
      ],
      "execution_count": 60,
      "outputs": [
        {
          "output_type": "display_data",
          "data": {
            "image/png": "[encoded data removed]",
            "text/plain": [
              "<Figure size 648x792 with 2 Axes>"
            ]
          },
          "metadata": {
            "needs_background": "light"
          }
        }
      ]
    },
    {
      "cell_type": "code",
      "metadata": {
        "id": "53KYVykwvt5V"
      },
      "source": [
        ""
      ],
      "execution_count": null,
      "outputs": []
    }
  ]
}