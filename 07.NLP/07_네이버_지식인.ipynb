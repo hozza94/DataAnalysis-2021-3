{
  "nbformat": 4,
  "nbformat_minor": 0,
  "metadata": {
    "colab": {
      "name": "07_네이버_지식인.ipynb",
      "provenance": []
    },
    "kernelspec": {
      "name": "python3",
      "display_name": "Python 3.8.5 32-bit"
    },
    "language_info": {
      "name": "python",
      "version": "3.8.5"
    },
    "interpreter": {
      "hash": "c9ba0c4a5af8269c496dad2a440da0741b8e4cd992915eed58c521d280844af4"
    }
  },
  "cells": [
    {
      "cell_type": "code",
      "metadata": {
        "id": "yc1PnBo779CK"
      },
      "source": [
        "from selenium import webdriver\n",
        "from bs4 import BeautifulSoup\n",
        "import time\n",
        "import pandas as pd\n",
        "from urllib.parse import quote"
      ],
      "execution_count": 5,
      "outputs": []
    },
    {
      "cell_type": "code",
      "execution_count": 8,
      "metadata": {},
      "outputs": [],
      "source": [
        "chromedriver = 'chromedriver.exe'\n",
        "driver = webdriver.Chrome(chromedriver)"
      ]
    },
    {
      "cell_type": "code",
      "execution_count": 9,
      "metadata": {},
      "outputs": [],
      "source": [
        "base_url = 'https://kin.naver.com/search/list.naver?query='\n",
        "url = base_url + quote('여친선물')\n",
        "driver.get(url)"
      ]
    },
    {
      "cell_type": "code",
      "execution_count": 10,
      "metadata": {},
      "outputs": [],
      "source": [
        "html = driver.page_source\n",
        "soup = BeautifulSoup(html, 'html.parser')"
      ]
    },
    {
      "cell_type": "code",
      "execution_count": 11,
      "metadata": {},
      "outputs": [
        {
          "output_type": "execute_result",
          "data": {
            "text/plain": [
              "10"
            ]
          },
          "metadata": {},
          "execution_count": 11
        }
      ],
      "source": [
        "lis = soup.select('ul.basic1 > li')\n",
        "len(lis)"
      ]
    },
    {
      "cell_type": "code",
      "execution_count": 13,
      "metadata": {},
      "outputs": [
        {
          "output_type": "execute_result",
          "data": {
            "text/plain": [
              "'https://kin.naver.com/qna/detail.naver?d1id=8&dirId=80101&docId=395035694&qb=7Jes7Lmc7ISg66y8&enc=utf8&section=kin&rank=1&search_sort=0&spq=0'"
            ]
          },
          "metadata": {},
          "execution_count": 13
        }
      ],
      "source": [
        "li = lis[0]\n",
        "sub_url = li.select_one('a._searchListTitleAnchor')['href']\n",
        "sub_url"
      ]
    },
    {
      "cell_type": "code",
      "execution_count": 14,
      "metadata": {},
      "outputs": [],
      "source": [
        "driver.get(sub_url)"
      ]
    },
    {
      "cell_type": "code",
      "execution_count": 17,
      "metadata": {},
      "outputs": [
        {
          "output_type": "stream",
          "name": "stdout",
          "text": [
            "8 1\n"
          ]
        }
      ],
      "source": [
        "count = int(driver.find_element_by_css_selector('._answerCount.num').text)\n",
        "answer_page = (count - 1) // 5\n",
        "print(count, answer_page)"
      ]
    },
    {
      "cell_type": "code",
      "execution_count": 18,
      "metadata": {},
      "outputs": [],
      "source": [
        "for i in range(answer_page):\n",
        "    driver.find_element_by_id('nextPageButton').click()\n",
        "    time.sleep(2)"
      ]
    },
    {
      "cell_type": "code",
      "execution_count": 19,
      "metadata": {},
      "outputs": [],
      "source": [
        "html = driver.page_source\n",
        "soup = BeautifulSoup(html, 'html.parser')"
      ]
    },
    {
      "cell_type": "code",
      "execution_count": 26,
      "metadata": {},
      "outputs": [
        {
          "output_type": "execute_result",
          "data": {
            "text/plain": [
              "8"
            ]
          },
          "metadata": {},
          "execution_count": 26
        }
      ],
      "source": [
        "divs = soup.select('div.answer-content__item._contentWrap._answer')\n",
        "len(divs)"
      ]
    },
    {
      "cell_type": "code",
      "execution_count": 29,
      "metadata": {},
      "outputs": [
        {
          "output_type": "stream",
          "name": "stdout",
          "text": [
            "혹시 여친분이 생리통이 있으시다면..여친선물로 복부온열기 어떠세요?\n저 생리통 너무 심해서 이번에 남자친구가 복부온열기 선물줬는데..\n뭔가 감동이더라구요. 절 많이 생각해서 준 선물 같이 느껴지더라구요.\n하고있으면 배가 뜨듯하고 진동마사지도 해줘서 생리통 거의 안느껴지고 좋아요!!\n​\n제가 쓰는건 배뜨끈 복부온열기이예요. 아래에 링크알려드릴게요.\n좋은 여친선물이 되셨으면 좋겠네요.\n"
          ]
        }
      ],
      "source": [
        "div = divs[0]\n",
        "ps = div.select('p.se-text-paragraph')\n",
        "\n",
        "for p in ps:\n",
        "    print(p.get_text())\n"
      ]
    },
    {
      "cell_type": "code",
      "execution_count": 30,
      "metadata": {},
      "outputs": [],
      "source": [
        "driver.back()"
      ]
    },
    {
      "cell_type": "code",
      "execution_count": 33,
      "metadata": {},
      "outputs": [
        {
          "output_type": "stream",
          "name": "stdout",
          "text": [
            "8, 8\n",
            "8, 8\n",
            "20, 20\n",
            "8, 8\n",
            "3, 3\n",
            "8, 8\n",
            "10, 10\n",
            "10, 10\n",
            "13, 13\n",
            "12, 12\n"
          ]
        }
      ],
      "source": [
        "answer_list = []\n",
        "\n",
        "for li in lis:\n",
        "    sub_url = li.select_one('a._searchListTitleAnchor')['href']\n",
        "    driver.get(sub_url)\n",
        "    time.sleep(2)\n",
        "\n",
        "    count = int(driver.find_element_by_css_selector('._answerCount.num').text)\n",
        "    answer_page = (count - 1) // 5\n",
        "    print(count, end=', ')\n",
        "    for i in range(answer_page):\n",
        "        driver.find_element_by_id('nextPageButton').click()\n",
        "        time.sleep(2)\n",
        "    \n",
        "    html = driver.page_source\n",
        "    soup = BeautifulSoup(html, 'html.parser')\n",
        "    divs = soup.select('div.answer-content__item._contentWrap._answer')\n",
        "    print(len(divs))\n",
        "    for div in divs:\n",
        "        ps = div.select('p.se-text-paragraph')\n",
        "        for p in ps:\n",
        "            text = p.get_text()\n",
        "            if text == ' ' or text == '\\u200b':\n",
        "                continue\n",
        "            answer_list.append(text)\n",
        "    \n",
        "    driver.back()\n",
        "    time.sleep(2)"
      ]
    },
    {
      "cell_type": "code",
      "execution_count": 34,
      "metadata": {},
      "outputs": [
        {
          "output_type": "execute_result",
          "data": {
            "text/plain": [
              "['3. 데이트',\n",
              " '데이트를 준비하는 것도 부담이 되지 않으면서 할 수 있는 좋은 선물이라고 생각해요',\n",
              " '연인과 함께하는 특별한 경험은 소중한 추억이 되니까요 ^^',\n",
              " '가까이서 할 수 있는 특별한 데이트로는 주로 연극관람을 추천해드리고 있는데요~',\n",
              " '영화보다 이색적이기도 하고 그 시간 그 장소에서만 일어나는 공연의 형식이다보니 다들 좋아하시더라고요 ^^',\n",
              " '커플분들께 추천드리는 연극은 바로 <한뼘사이> 인데요~',\n",
              " '로맨스 코메디 장르라 커플분들끼리 많이들 편하게 보고 가신다고 하더라구요 ㅎㅎ',\n",
              " '자세한 사항은 링크를 참고해 주세요~',\n",
              " 'https://booking.naver.com/booking/12/bizes/69133',\n",
              " '4. 커플아이템']"
            ]
          },
          "metadata": {},
          "execution_count": 34
        }
      ],
      "source": [
        "answer_list[100:110]"
      ]
    },
    {
      "cell_type": "code",
      "execution_count": 37,
      "metadata": {},
      "outputs": [
        {
          "output_type": "stream",
          "name": "stdout",
          "text": [
            "page 1\n",
            "page 2\n",
            "page 3\n",
            "page 4\n",
            "page 5\n",
            "page 6\n",
            "page 7\n",
            "page 8\n",
            "page 9\n",
            "page 10\n"
          ]
        }
      ],
      "source": [
        "answer_list = []\n",
        "\n",
        "for page in range(1, 11):\n",
        "    print('page', page)\n",
        "    url = f\"{base_url}{quote('여친선물')}&page={page}\"\n",
        "    driver.get(url)\n",
        "    time.sleep(2)\n",
        "\n",
        "    html = driver.page_source\n",
        "    soup = BeautifulSoup(html, 'html.parser')\n",
        "    lis = soup.select('ul.basic1 > li')\n",
        "\n",
        "    for li in lis:\n",
        "        sub_url = li.select_one('a._searchListTitleAnchor')['href']\n",
        "        driver.get(sub_url)\n",
        "        time.sleep(2)\n",
        "\n",
        "        count = int(driver.find_element_by_css_selector('._answerCount.num').text)\n",
        "        answer_page = (count - 1) // 5\n",
        "        # print(count, end=', ')\n",
        "        for i in range(answer_page):\n",
        "            driver.find_element_by_id('nextPageButton').click()\n",
        "            time.sleep(2)\n",
        "        \n",
        "        html = driver.page_source\n",
        "        soup = BeautifulSoup(html, 'html.parser')\n",
        "        divs = soup.select('div.answer-content__item._contentWrap._answer')\n",
        "        # print(len(divs))\n",
        "        for div in divs:\n",
        "            ps = div.select('p.se-text-paragraph')\n",
        "            for p in ps:\n",
        "                text = p.get_text()\n",
        "                if text == ' ' or text == '\\u200b':\n",
        "                    continue\n",
        "                answer_list.append(text)\n",
        "        \n",
        "        driver.back()\n",
        "        time.sleep(2)"
      ]
    },
    {
      "cell_type": "code",
      "execution_count": 38,
      "metadata": {},
      "outputs": [
        {
          "output_type": "execute_result",
          "data": {
            "text/plain": [
              "4801"
            ]
          },
          "metadata": {},
          "execution_count": 38
        }
      ],
      "source": [
        "len(answer_list)"
      ]
    },
    {
      "cell_type": "code",
      "execution_count": 41,
      "metadata": {},
      "outputs": [],
      "source": [
        "with open('data/new_gift.txt', 'w') as fp:\n",
        "    for answer in answer_list[:3]:\n",
        "        fp.write(answer+'\\n')"
      ]
    },
    {
      "cell_type": "code",
      "execution_count": 1,
      "metadata": {},
      "outputs": [
        {
          "output_type": "error",
          "ename": "NameError",
          "evalue": "name 'driver' is not defined",
          "traceback": [
            "\u001b[1;31m---------------------------------------------------------------------------\u001b[0m",
            "\u001b[1;31mNameError\u001b[0m                                 Traceback (most recent call last)",
            "\u001b[1;32m~\\AppData\\Local\\Temp/ipykernel_3120/3193570824.py\u001b[0m in \u001b[0;36m<module>\u001b[1;34m\u001b[0m\n\u001b[1;32m----> 1\u001b[1;33m \u001b[0mdriver\u001b[0m\u001b[1;33m.\u001b[0m\u001b[0mclose\u001b[0m\u001b[1;33m(\u001b[0m\u001b[1;33m)\u001b[0m\u001b[1;33m\u001b[0m\u001b[1;33m\u001b[0m\u001b[0m\n\u001b[0m",
            "\u001b[1;31mNameError\u001b[0m: name 'driver' is not defined"
          ]
        }
      ],
      "source": [
        "driver.close()"
      ]
    },
    {
      "cell_type": "code",
      "execution_count": null,
      "metadata": {},
      "outputs": [],
      "source": []
    }
  ]
}