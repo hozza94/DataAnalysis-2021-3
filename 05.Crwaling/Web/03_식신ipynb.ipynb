{
  "nbformat": 4,
  "nbformat_minor": 0,
  "metadata": {
    "colab": {
      "name": "03_식신ipynb",
      "provenance": [],
      "collapsed_sections": []
    },
    "kernelspec": {
      "name": "python3",
      "display_name": "Python 3"
    },
    "language_info": {
      "name": "python"
    }
  },
  "cells": [
    {
      "cell_type": "markdown",
      "metadata": {
        "id": "4jhyEdu5tVvv"
      },
      "source": [
        "# 식신 - 양재역으로 검색\n",
        " - 명칭, 주요메뉴, 평점, 전화번호, 주소"
      ]
    },
    {
      "cell_type": "code",
      "metadata": {
        "id": "q_8e5s2KtTU8"
      },
      "source": [
        "import pandas as pd\n",
        "import requests\n",
        "from bs4 import BeautifulSoup\n",
        "from urllib.parse import quote"
      ],
      "execution_count": 1,
      "outputs": []
    },
    {
      "cell_type": "code",
      "metadata": {
        "id": "xSK59liJtpH9"
      },
      "source": [
        "base_url = 'https://www.siksinhot.com'\n",
        "query = '양재역'\n",
        "url = f'{base_url}/search?keywords={quote(\"양재역\")}'\n",
        "req = requests.get(url)\n",
        "html = req.text"
      ],
      "execution_count": 2,
      "outputs": []
    },
    {
      "cell_type": "markdown",
      "metadata": {
        "id": "JdILJD-duuoy"
      },
      "source": [
        "- 찾으려고 하는 데이터의 태그 찾기"
      ]
    },
    {
      "cell_type": "code",
      "metadata": {
        "id": "tFxaYmslvP-X"
      },
      "source": [
        "soup = BeautifulSoup(html, 'html.parser')"
      ],
      "execution_count": 3,
      "outputs": []
    },
    {
      "cell_type": "code",
      "metadata": {
        "id": "_xOD3OlruKEP"
      },
      "source": [
        "lis = soup.select('div.listTy1 > ul > li')\n",
        "li = lis[0]\n",
        "href = li.select_one('a')['href']"
      ],
      "execution_count": 4,
      "outputs": []
    },
    {
      "cell_type": "code",
      "metadata": {
        "colab": {
          "base_uri": "https://localhost:8080/",
          "height": 35
        },
        "id": "YUTdVr8y0fLQ",
        "outputId": "d7a8031f-e014-45cf-efde-a2f0c95146d9"
      },
      "source": [
        "href"
      ],
      "execution_count": 5,
      "outputs": [
        {
          "output_type": "execute_result",
          "data": {
            "application/vnd.google.colaboratory.intrinsic+json": {
              "type": "string"
            },
            "text/plain": [
              "'/P/358859'"
            ]
          },
          "metadata": {
            "tags": []
          },
          "execution_count": 5
        }
      ]
    },
    {
      "cell_type": "markdown",
      "metadata": {
        "id": "cFQiw52iw24V"
      },
      "source": [
        "- 원하는 정보 추출"
      ]
    },
    {
      "cell_type": "code",
      "metadata": {
        "id": "NLlw03shxCa7"
      },
      "source": [
        "url = base_url + href\n",
        "req = requests.get(url)\n",
        "sub_soup = BeautifulSoup(req.text, 'html.parser')"
      ],
      "execution_count": 6,
      "outputs": []
    },
    {
      "cell_type": "code",
      "metadata": {
        "id": "r2Z1Kg0yzjt8"
      },
      "source": [
        "sub_soup"
      ],
      "execution_count": null,
      "outputs": []
    },
    {
      "cell_type": "code",
      "metadata": {
        "colab": {
          "base_uri": "https://localhost:8080/",
          "height": 35
        },
        "id": "ShsKjy8kxysF",
        "outputId": "5dd31826-4fea-4d0d-a2cd-9f0f1131325a"
      },
      "source": [
        "store = sub_soup.select_one('.title')\n",
        "info = store.find('h3').get_text()\n",
        "info"
      ],
      "execution_count": 8,
      "outputs": [
        {
          "output_type": "execute_result",
          "data": {
            "application/vnd.google.colaboratory.intrinsic+json": {
              "type": "string"
            },
            "text/plain": [
              "'그릭슈바인 양재역점3.6HOT'"
            ]
          },
          "metadata": {
            "tags": []
          },
          "execution_count": 8
        }
      ]
    },
    {
      "cell_type": "code",
      "metadata": {
        "colab": {
          "base_uri": "https://localhost:8080/",
          "height": 35
        },
        "id": "A4dUSHk62JRs",
        "outputId": "ae70866d-c968-400b-f5e6-7194afa0bd69"
      },
      "source": [
        "score = store.select_one('h3 > strong').string\n",
        "score"
      ],
      "execution_count": 9,
      "outputs": [
        {
          "output_type": "execute_result",
          "data": {
            "application/vnd.google.colaboratory.intrinsic+json": {
              "type": "string"
            },
            "text/plain": [
              "'3.6'"
            ]
          },
          "metadata": {
            "tags": []
          },
          "execution_count": 9
        }
      ]
    },
    {
      "cell_type": "code",
      "metadata": {
        "colab": {
          "base_uri": "https://localhost:8080/",
          "height": 35
        },
        "id": "wJ4tsl6227rN",
        "outputId": "155bd576-f768-4575-98cb-b672fa187b19"
      },
      "source": [
        "name = info[:info.find(score)]\n",
        "name"
      ],
      "execution_count": 10,
      "outputs": [
        {
          "output_type": "execute_result",
          "data": {
            "application/vnd.google.colaboratory.intrinsic+json": {
              "type": "string"
            },
            "text/plain": [
              "'그릭슈바인 양재역점'"
            ]
          },
          "metadata": {
            "tags": []
          },
          "execution_count": 10
        }
      ]
    },
    {
      "cell_type": "code",
      "metadata": {
        "colab": {
          "base_uri": "https://localhost:8080/",
          "height": 35
        },
        "id": "M97JWvaIy6mL",
        "outputId": "1011042f-6503-4114-c550-edf7ba4d304c"
      },
      "source": [
        "menu = sub_soup.select('.store_info p')[1].get_text()\n",
        "menu"
      ],
      "execution_count": 11,
      "outputs": [
        {
          "output_type": "execute_result",
          "data": {
            "application/vnd.google.colaboratory.intrinsic+json": {
              "type": "string"
            },
            "text/plain": [
              "'나이트라이프 > 맥주/호프'"
            ]
          },
          "metadata": {
            "tags": []
          },
          "execution_count": 11
        }
      ]
    },
    {
      "cell_type": "code",
      "metadata": {
        "colab": {
          "base_uri": "https://localhost:8080/",
          "height": 35
        },
        "id": "HxBmNzG302_L",
        "outputId": "a812fbf9-9c2d-41ee-c637-08c04c6cff64"
      },
      "source": [
        "tel = sub_soup.select_one('.p_tel p').get_text()\n",
        "tel"
      ],
      "execution_count": 12,
      "outputs": [
        {
          "output_type": "execute_result",
          "data": {
            "application/vnd.google.colaboratory.intrinsic+json": {
              "type": "string"
            },
            "text/plain": [
              "'02-572-6100'"
            ]
          },
          "metadata": {
            "tags": []
          },
          "execution_count": 12
        }
      ]
    },
    {
      "cell_type": "code",
      "metadata": {
        "colab": {
          "base_uri": "https://localhost:8080/",
          "height": 35
        },
        "id": "06OR0DVd1f8i",
        "outputId": "756361f1-e3e3-4b1d-ec6a-2b3367bed2a3"
      },
      "source": [
        "addr = sub_soup.select_one('.txt_adr').string\n",
        "addr"
      ],
      "execution_count": 13,
      "outputs": [
        {
          "output_type": "execute_result",
          "data": {
            "application/vnd.google.colaboratory.intrinsic+json": {
              "type": "string"
            },
            "text/plain": [
              "'서울특별시 서초구 강남대로 224'"
            ]
          },
          "metadata": {
            "tags": []
          },
          "execution_count": 13
        }
      ]
    },
    {
      "cell_type": "markdown",
      "metadata": {
        "id": "mZhkYxfL2i2o"
      },
      "source": [
        "- 반복문으로 페이지 전체"
      ]
    },
    {
      "cell_type": "code",
      "metadata": {
        "colab": {
          "base_uri": "https://localhost:8080/"
        },
        "id": "wBH5eqKq2CMz",
        "outputId": "4067e0fc-b226-4e30-dcf3-deb3b59867de"
      },
      "source": [
        "store_list, name_list, score_list, menu_list, tel_list, addr_list = [], [], [], [], [], []\n",
        "\n",
        "for i, li in enumerate(lis):\n",
        "  href = li.select_one('a')['href']\n",
        "  url = base_url + href\n",
        "  req = requests.get(url)\n",
        "  sub_soup = BeautifulSoup(req.text, 'html.parser')\n",
        "\n",
        "  try:\n",
        "    store = sub_soup.select_one('.title')\n",
        "    score = store.select_one('h3 > strong').string\n",
        "    info = store.find('h3').get_text()\n",
        "    name = info[:info.find(score)]\n",
        "    menu = sub_soup.select('.store_info p')[1].get_text()\n",
        "    tel = sub_soup.select_one('.p_tel p').get_text()\n",
        "    addr = sub_soup.select_one('.txt_adr').string\n",
        "  except:\n",
        "    print(i)\n",
        "\n",
        "  store_list.append(store)\n",
        "  score_list.append(score)\n",
        "  name_list.append(name)\n",
        "  menu_list.append(menu)\n",
        "  tel_list.append(tel)\n",
        "  addr_list.append(addr)\n",
        "\n",
        "  ## 3.4 에서 오류발생"
      ],
      "execution_count": 14,
      "outputs": [
        {
          "output_type": "stream",
          "text": [
            "3\n",
            "4\n"
          ],
          "name": "stdout"
        }
      ]
    },
    {
      "cell_type": "code",
      "metadata": {
        "id": "EKhcPUBw3gJ0",
        "colab": {
          "base_uri": "https://localhost:8080/",
          "height": 489
        },
        "outputId": "076a5475-1d45-4f69-ad6e-2338998ba3ee"
      },
      "source": [
        "df = pd.DataFrame({\n",
        "    '식당명': name_list,\n",
        "    '평점': score_list,\n",
        "    '메뉴': menu_list,\n",
        "    '전화번호': tel_list,\n",
        "    '주소': addr_list\n",
        "})\n",
        "df"
      ],
      "execution_count": 29,
      "outputs": [
        {
          "output_type": "execute_result",
          "data": {
            "text/html": [
              "<div>\n",
              "<style scoped>\n",
              "    .dataframe tbody tr th:only-of-type {\n",
              "        vertical-align: middle;\n",
              "    }\n",
              "\n",
              "    .dataframe tbody tr th {\n",
              "        vertical-align: top;\n",
              "    }\n",
              "\n",
              "    .dataframe thead th {\n",
              "        text-align: right;\n",
              "    }\n",
              "</style>\n",
              "<table border=\"1\" class=\"dataframe\">\n",
              "  <thead>\n",
              "    <tr style=\"text-align: right;\">\n",
              "      <th></th>\n",
              "      <th>식당명</th>\n",
              "      <th>평점</th>\n",
              "      <th>메뉴</th>\n",
              "      <th>전화번호</th>\n",
              "      <th>주소</th>\n",
              "    </tr>\n",
              "  </thead>\n",
              "  <tbody>\n",
              "    <tr>\n",
              "      <th>0</th>\n",
              "      <td>그릭슈바인 양재역점</td>\n",
              "      <td>3.6</td>\n",
              "      <td>나이트라이프 &gt; 맥주/호프</td>\n",
              "      <td>02-572-6100</td>\n",
              "      <td>서울특별시 서초구 강남대로 224</td>\n",
              "    </tr>\n",
              "    <tr>\n",
              "      <th>1</th>\n",
              "      <td>미스터브리즈 양재역점</td>\n",
              "      <td>3.4</td>\n",
              "      <td>세계음식 &gt; 카페/커피숍</td>\n",
              "      <td>02-576-4333</td>\n",
              "      <td>서울 서초구 강남대로34길 6</td>\n",
              "    </tr>\n",
              "    <tr>\n",
              "      <th>2</th>\n",
              "      <td>동신참치 양재역점</td>\n",
              "      <td>3.0</td>\n",
              "      <td>한국음식 &gt; 회</td>\n",
              "      <td>02-529-7130</td>\n",
              "      <td>서울 서초구 강남대로 213</td>\n",
              "    </tr>\n",
              "    <tr>\n",
              "      <th>3</th>\n",
              "      <td>동신참치 양재역점</td>\n",
              "      <td>None</td>\n",
              "      <td>한국음식 &gt; 회</td>\n",
              "      <td>02-529-7130</td>\n",
              "      <td>서울 서초구 강남대로 213</td>\n",
              "    </tr>\n",
              "    <tr>\n",
              "      <th>4</th>\n",
              "      <td>동신참치 양재역점</td>\n",
              "      <td>None</td>\n",
              "      <td>한국음식 &gt; 회</td>\n",
              "      <td>02-529-7130</td>\n",
              "      <td>서울 서초구 강남대로 213</td>\n",
              "    </tr>\n",
              "    <tr>\n",
              "      <th>5</th>\n",
              "      <td>영동족발 3호점</td>\n",
              "      <td>4.1</td>\n",
              "      <td>한국음식 &gt; 족발/보쌈</td>\n",
              "      <td>02-575-0250</td>\n",
              "      <td>서울특별시 서초구 남부순환로 2628-18</td>\n",
              "    </tr>\n",
              "    <tr>\n",
              "      <th>6</th>\n",
              "      <td>황재벌</td>\n",
              "      <td>3.9</td>\n",
              "      <td>한국음식 &gt; 장어구이/꼼장어</td>\n",
              "      <td>02-3471-5454</td>\n",
              "      <td>서울특별시 서초구 남부순환로347길 42-4 신화빌딩</td>\n",
              "    </tr>\n",
              "    <tr>\n",
              "      <th>7</th>\n",
              "      <td>김영모과자점 도곡타워점</td>\n",
              "      <td>4.1</td>\n",
              "      <td>세계음식 &gt; 베이커리/제과점</td>\n",
              "      <td>02-3460-2005</td>\n",
              "      <td>서울특별시 강남구 언주로30길 10 현대비젼21</td>\n",
              "    </tr>\n",
              "    <tr>\n",
              "      <th>8</th>\n",
              "      <td>소호정 본점</td>\n",
              "      <td>4.0</td>\n",
              "      <td>한국음식 &gt; 라면/칼국수/국수/수제비</td>\n",
              "      <td>02-579-7282</td>\n",
              "      <td>서울특별시 서초구 논현로 27</td>\n",
              "    </tr>\n",
              "    <tr>\n",
              "      <th>9</th>\n",
              "      <td>산동칼국수</td>\n",
              "      <td>3.9</td>\n",
              "      <td>한국음식 &gt; 라면/칼국수/국수/수제비</td>\n",
              "      <td>02-3473-7972</td>\n",
              "      <td>서울특별시 서초구 강남대로37길 63</td>\n",
              "    </tr>\n",
              "    <tr>\n",
              "      <th>10</th>\n",
              "      <td>양재정육식당</td>\n",
              "      <td>4.1</td>\n",
              "      <td>한국음식 &gt; 꽃등심/등심/육회</td>\n",
              "      <td>02-577-5804</td>\n",
              "      <td>서울 서초구 바우뫼로35길 3</td>\n",
              "    </tr>\n",
              "    <tr>\n",
              "      <th>11</th>\n",
              "      <td>스타쉐프</td>\n",
              "      <td>3.9</td>\n",
              "      <td>세계음식 &gt; 퓨전레스토랑</td>\n",
              "      <td>02-529-8248</td>\n",
              "      <td>서울특별시 강남구 논현로38길 38-6</td>\n",
              "    </tr>\n",
              "  </tbody>\n",
              "</table>\n",
              "</div>"
            ],
            "text/plain": [
              "             식당명    평점  ...          전화번호                             주소\n",
              "0     그릭슈바인 양재역점   3.6  ...   02-572-6100             서울특별시 서초구 강남대로 224\n",
              "1    미스터브리즈 양재역점   3.4  ...   02-576-4333               서울 서초구 강남대로34길 6\n",
              "2      동신참치 양재역점   3.0  ...   02-529-7130                서울 서초구 강남대로 213\n",
              "3      동신참치 양재역점  None  ...   02-529-7130                서울 서초구 강남대로 213\n",
              "4      동신참치 양재역점  None  ...   02-529-7130                서울 서초구 강남대로 213\n",
              "5       영동족발 3호점   4.1  ...   02-575-0250        서울특별시 서초구 남부순환로 2628-18\n",
              "6            황재벌   3.9  ...  02-3471-5454  서울특별시 서초구 남부순환로347길 42-4 신화빌딩\n",
              "7   김영모과자점 도곡타워점   4.1  ...  02-3460-2005     서울특별시 강남구 언주로30길 10 현대비젼21\n",
              "8         소호정 본점   4.0  ...   02-579-7282               서울특별시 서초구 논현로 27\n",
              "9          산동칼국수   3.9  ...  02-3473-7972           서울특별시 서초구 강남대로37길 63\n",
              "10        양재정육식당   4.1  ...   02-577-5804               서울 서초구 바우뫼로35길 3\n",
              "11          스타쉐프   3.9  ...   02-529-8248          서울특별시 강남구 논현로38길 38-6\n",
              "\n",
              "[12 rows x 5 columns]"
            ]
          },
          "metadata": {
            "tags": []
          },
          "execution_count": 29
        }
      ]
    },
    {
      "cell_type": "code",
      "metadata": {
        "colab": {
          "base_uri": "https://localhost:8080/",
          "height": 35
        },
        "id": "c1WrwrfHuECd",
        "outputId": "7736fb29-9350-45e8-a114-6f93ae01b241"
      },
      "source": [
        "li = lis[1]\n",
        "li.select_one('.store').string"
      ],
      "execution_count": 20,
      "outputs": [
        {
          "output_type": "execute_result",
          "data": {
            "application/vnd.google.colaboratory.intrinsic+json": {
              "type": "string"
            },
            "text/plain": [
              "'미스터브리즈 양재역점'"
            ]
          },
          "metadata": {
            "tags": []
          },
          "execution_count": 20
        }
      ]
    },
    {
      "cell_type": "code",
      "metadata": {
        "colab": {
          "base_uri": "https://localhost:8080/",
          "height": 35
        },
        "id": "q44Pl3n1vB6U",
        "outputId": "20bb51f8-8274-457c-e665-eee0522b9337"
      },
      "source": [
        "li.select_one('.score').get_text()"
      ],
      "execution_count": 22,
      "outputs": [
        {
          "output_type": "execute_result",
          "data": {
            "application/vnd.google.colaboratory.intrinsic+json": {
              "type": "string"
            },
            "text/plain": [
              "'3.4'"
            ]
          },
          "metadata": {
            "tags": []
          },
          "execution_count": 22
        }
      ]
    },
    {
      "cell_type": "code",
      "metadata": {
        "colab": {
          "base_uri": "https://localhost:8080/",
          "height": 35
        },
        "id": "Fgt1LvRqvZVW",
        "outputId": "3f3a3c09-e62d-4928-8b2b-1c989bc06b7c"
      },
      "source": [
        "li.select_one('.cnt p').get_text()"
      ],
      "execution_count": 23,
      "outputs": [
        {
          "output_type": "execute_result",
          "data": {
            "application/vnd.google.colaboratory.intrinsic+json": {
              "type": "string"
            },
            "text/plain": [
              "'아메리카노, 허니버터브레드, 와플'"
            ]
          },
          "metadata": {
            "tags": []
          },
          "execution_count": 23
        }
      ]
    },
    {
      "cell_type": "code",
      "metadata": {
        "colab": {
          "base_uri": "https://localhost:8080/",
          "height": 35
        },
        "id": "ot-yquPqv4DP",
        "outputId": "9a5860e0-d75f-4f35-8ad9-2a30b6eb186d"
      },
      "source": [
        "li = lis[3]\n",
        "score = li.select_one('em').string\n",
        "if score == '평가중':\n",
        "  score = '0'\n"
      ],
      "execution_count": 27,
      "outputs": [
        {
          "output_type": "execute_result",
          "data": {
            "application/vnd.google.colaboratory.intrinsic+json": {
              "type": "string"
            },
            "text/plain": [
              "'평가중'"
            ]
          },
          "metadata": {
            "tags": []
          },
          "execution_count": 27
        }
      ]
    },
    {
      "cell_type": "code",
      "metadata": {
        "colab": {
          "base_uri": "https://localhost:8080/",
          "height": 35
        },
        "id": "IxKlbdgd0k_X",
        "outputId": "dc3a71c8-909d-4485-fe84-c79acd35c8fe"
      },
      "source": [
        "li = lis[2]\n",
        "li.select_one('em').string"
      ],
      "execution_count": 32,
      "outputs": [
        {
          "output_type": "execute_result",
          "data": {
            "application/vnd.google.colaboratory.intrinsic+json": {
              "type": "string"
            },
            "text/plain": [
              "'3.0'"
            ]
          },
          "metadata": {
            "tags": []
          },
          "execution_count": 32
        }
      ]
    },
    {
      "cell_type": "markdown",
      "metadata": {
        "id": "LNuXWv7-zQyU"
      },
      "source": [
        "- 변경방법"
      ]
    },
    {
      "cell_type": "code",
      "metadata": {
        "id": "3_9OqM-byqgr"
      },
      "source": [
        "store_list, name_list, score_list, menu_list, tel_list, addr_list = [], [], [], [], [], []\n",
        "\n",
        "for i, li in enumerate(lis):\n",
        "  href = li.select_one('a')['href']\n",
        "  name = li.select_one('.store').string\n",
        "  score = li.select_one('em').string\n",
        "  if score == '평가중':\n",
        "    score = '0'\n",
        "  menu = li.select_one('.cnt p').get_text()\n",
        "  \n",
        "  \n",
        "  url = base_url + href\n",
        "  req = requests.get(url)\n",
        "  sub_soup = BeautifulSoup(req.text, 'html.parser')\n",
        "\n",
        "  try:\n",
        "    tel = sub_soup.select_one('.p_tel p').get_text()\n",
        "    addr = sub_soup.select_one('.txt_adr').string\n",
        "    score_list.append(score)\n",
        "    name_list.append(name)\n",
        "    menu_list.append(menu)\n",
        "    tel_list.append(tel)\n",
        "    addr_list.append(addr)\n",
        "\n",
        "  except:\n",
        "    print(i)\n",
        "\n",
        "  ## 3.4 에서 오류발생"
      ],
      "execution_count": 30,
      "outputs": []
    },
    {
      "cell_type": "code",
      "metadata": {
        "colab": {
          "base_uri": "https://localhost:8080/",
          "height": 642
        },
        "id": "7JuljUyj0KbW",
        "outputId": "862cf53a-18db-4a2a-96aa-286b89d3521c"
      },
      "source": [
        "df = pd.DataFrame({\n",
        "    '식당명': name_list,\n",
        "    '평점': score_list,\n",
        "    '메뉴': menu_list,\n",
        "    '전화번호': tel_list,\n",
        "    '주소': addr_list\n",
        "})\n",
        "df"
      ],
      "execution_count": 31,
      "outputs": [
        {
          "output_type": "execute_result",
          "data": {
            "text/html": [
              "<div>\n",
              "<style scoped>\n",
              "    .dataframe tbody tr th:only-of-type {\n",
              "        vertical-align: middle;\n",
              "    }\n",
              "\n",
              "    .dataframe tbody tr th {\n",
              "        vertical-align: top;\n",
              "    }\n",
              "\n",
              "    .dataframe thead th {\n",
              "        text-align: right;\n",
              "    }\n",
              "</style>\n",
              "<table border=\"1\" class=\"dataframe\">\n",
              "  <thead>\n",
              "    <tr style=\"text-align: right;\">\n",
              "      <th></th>\n",
              "      <th>식당명</th>\n",
              "      <th>평점</th>\n",
              "      <th>메뉴</th>\n",
              "      <th>전화번호</th>\n",
              "      <th>주소</th>\n",
              "    </tr>\n",
              "  </thead>\n",
              "  <tbody>\n",
              "    <tr>\n",
              "      <th>0</th>\n",
              "      <td>그릭슈바인 양재역점</td>\n",
              "      <td>3.6</td>\n",
              "      <td>그릭슈바인bbq, 슈바이네 학센, 모듬 소세지 bbq, 콥 샐러드</td>\n",
              "      <td>02-572-6100</td>\n",
              "      <td>서울특별시 서초구 강남대로 224</td>\n",
              "    </tr>\n",
              "    <tr>\n",
              "      <th>1</th>\n",
              "      <td>미스터브리즈 양재역점</td>\n",
              "      <td>3.4</td>\n",
              "      <td>아메리카노, 허니버터브레드, 와플</td>\n",
              "      <td>02-576-4333</td>\n",
              "      <td>서울 서초구 강남대로34길 6</td>\n",
              "    </tr>\n",
              "    <tr>\n",
              "      <th>2</th>\n",
              "      <td>동신참치 양재역점</td>\n",
              "      <td>3.0</td>\n",
              "      <td>참치회, 참치정식</td>\n",
              "      <td>02-529-7130</td>\n",
              "      <td>서울 서초구 강남대로 213</td>\n",
              "    </tr>\n",
              "    <tr>\n",
              "      <th>3</th>\n",
              "      <td>새우닭 양재역점</td>\n",
              "      <td>0</td>\n",
              "      <td>딱새우회, 닭도리탕, 딱새우튀김, 술국닭계장, 마라해물새우</td>\n",
              "      <td>02-575-6088</td>\n",
              "      <td>서울특별시 서초구 남부순환로356길 52  1층</td>\n",
              "    </tr>\n",
              "    <tr>\n",
              "      <th>4</th>\n",
              "      <td>양재역 옛날짜장</td>\n",
              "      <td>0</td>\n",
              "      <td>짜장면, 짬뽕, 볶음밥, 고추잡채, 쟁반짜장, 탕수육</td>\n",
              "      <td>031-503-2550</td>\n",
              "      <td>경기도 시흥시 공단1대로 13</td>\n",
              "    </tr>\n",
              "    <tr>\n",
              "      <th>5</th>\n",
              "      <td>영동족발 3호점</td>\n",
              "      <td>4.1</td>\n",
              "      <td>족발大, 쟁반막국수大, 순두부찌개, 족발 중, 해물파전</td>\n",
              "      <td>02-575-0250</td>\n",
              "      <td>서울특별시 서초구 남부순환로 2628-18</td>\n",
              "    </tr>\n",
              "    <tr>\n",
              "      <th>6</th>\n",
              "      <td>황재벌</td>\n",
              "      <td>3.9</td>\n",
              "      <td>꼼장어, 쭈꾸미, 왕 꼼장어, 닭발, 계란찜, 알 주먹밥</td>\n",
              "      <td>02-3471-5454</td>\n",
              "      <td>서울특별시 서초구 남부순환로347길 42-4 신화빌딩</td>\n",
              "    </tr>\n",
              "    <tr>\n",
              "      <th>7</th>\n",
              "      <td>김영모과자점 도곡타워점</td>\n",
              "      <td>4.1</td>\n",
              "      <td>몽블랑, 바게트샌드위치, 레즌 천연발효빵, 생크림앙팡, 마늘바게트</td>\n",
              "      <td>02-3460-2005</td>\n",
              "      <td>서울특별시 강남구 언주로30길 10 현대비젼21</td>\n",
              "    </tr>\n",
              "    <tr>\n",
              "      <th>8</th>\n",
              "      <td>소호정 본점</td>\n",
              "      <td>4.0</td>\n",
              "      <td>안동국시, 국밥, 수육(대), 전(대), 묵(대)</td>\n",
              "      <td>02-579-7282</td>\n",
              "      <td>서울특별시 서초구 논현로 27</td>\n",
              "    </tr>\n",
              "    <tr>\n",
              "      <th>9</th>\n",
              "      <td>산동칼국수</td>\n",
              "      <td>3.9</td>\n",
              "      <td>손칼국수, 만두국, 왕만두</td>\n",
              "      <td>02-3473-7972</td>\n",
              "      <td>서울특별시 서초구 강남대로37길 63</td>\n",
              "    </tr>\n",
              "    <tr>\n",
              "      <th>10</th>\n",
              "      <td>양재정육식당</td>\n",
              "      <td>4.1</td>\n",
              "      <td>한우모듬, 업진 치마살, 한우등심</td>\n",
              "      <td>02-577-5804</td>\n",
              "      <td>서울 서초구 바우뫼로35길 3</td>\n",
              "    </tr>\n",
              "    <tr>\n",
              "      <th>11</th>\n",
              "      <td>스타쉐프</td>\n",
              "      <td>3.9</td>\n",
              "      <td>지중해식문어요리, 놀라운농어요리, 버섯크림요리와 빵, 키조개관자샐러드</td>\n",
              "      <td>02-529-8248</td>\n",
              "      <td>서울특별시 강남구 논현로38길 38-6</td>\n",
              "    </tr>\n",
              "  </tbody>\n",
              "</table>\n",
              "</div>"
            ],
            "text/plain": [
              "             식당명   평점  ...          전화번호                             주소\n",
              "0     그릭슈바인 양재역점  3.6  ...   02-572-6100             서울특별시 서초구 강남대로 224\n",
              "1    미스터브리즈 양재역점  3.4  ...   02-576-4333               서울 서초구 강남대로34길 6\n",
              "2      동신참치 양재역점  3.0  ...   02-529-7130                서울 서초구 강남대로 213\n",
              "3       새우닭 양재역점    0  ...   02-575-6088     서울특별시 서초구 남부순환로356길 52  1층\n",
              "4       양재역 옛날짜장    0  ...  031-503-2550              경기도 시흥시 공단1대로 13 \n",
              "5       영동족발 3호점  4.1  ...   02-575-0250        서울특별시 서초구 남부순환로 2628-18\n",
              "6            황재벌  3.9  ...  02-3471-5454  서울특별시 서초구 남부순환로347길 42-4 신화빌딩\n",
              "7   김영모과자점 도곡타워점  4.1  ...  02-3460-2005     서울특별시 강남구 언주로30길 10 현대비젼21\n",
              "8         소호정 본점  4.0  ...   02-579-7282               서울특별시 서초구 논현로 27\n",
              "9          산동칼국수  3.9  ...  02-3473-7972           서울특별시 서초구 강남대로37길 63\n",
              "10        양재정육식당  4.1  ...   02-577-5804               서울 서초구 바우뫼로35길 3\n",
              "11          스타쉐프  3.9  ...   02-529-8248          서울특별시 강남구 논현로38길 38-6\n",
              "\n",
              "[12 rows x 5 columns]"
            ]
          },
          "metadata": {
            "tags": []
          },
          "execution_count": 31
        }
      ]
    },
    {
      "cell_type": "code",
      "metadata": {
        "id": "72BGYkWL0MFT"
      },
      "source": [
        ""
      ],
      "execution_count": null,
      "outputs": []
    }
  ]
}