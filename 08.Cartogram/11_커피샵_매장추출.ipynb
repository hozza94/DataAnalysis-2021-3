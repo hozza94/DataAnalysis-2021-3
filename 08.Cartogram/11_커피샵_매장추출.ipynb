{
  "nbformat": 4,
  "nbformat_minor": 0,
  "metadata": {
    "colab": {
      "name": "11_커피샵_매장추출.ipynb",
      "provenance": [],
      "collapsed_sections": []
    },
    "kernelspec": {
      "name": "python3",
      "display_name": "Python 3"
    },
    "language_info": {
      "name": "python"
    }
  },
  "cells": [
    {
      "cell_type": "code",
      "metadata": {
        "id": "tXQIvnLznRcm"
      },
      "source": [
        "!apt-get install -y fonts-nanum > /dev/null\n",
        "!fc-cache -fv > /dev/null\n",
        "!rm -rf ~/.cache/matplotlib > /dev/null\n",
        "# 런타임 다시시작"
      ],
      "execution_count": 1,
      "outputs": []
    },
    {
      "cell_type": "code",
      "metadata": {
        "id": "PFh_k_FXnNc0"
      },
      "source": [
        "import numpy as np\n",
        "import pandas as pd\n",
        "import matplotlib.pyplot as plt\n",
        "import warnings\n",
        "warnings.filterwarnings('ignore')"
      ],
      "execution_count": 1,
      "outputs": []
    },
    {
      "cell_type": "code",
      "metadata": {
        "colab": {
          "base_uri": "https://localhost:8080/"
        },
        "id": "o5canT-GnTmZ",
        "outputId": "25401c8e-ff3c-4676-9b6c-9ed8efb6202b"
      },
      "source": [
        "from google.colab import drive\n",
        "drive.mount('/content/mnt')"
      ],
      "execution_count": 2,
      "outputs": [
        {
          "output_type": "stream",
          "name": "stdout",
          "text": [
            "Mounted at /content/mnt\n"
          ]
        }
      ]
    },
    {
      "cell_type": "code",
      "metadata": {
        "id": "znMpqXb5naZm"
      },
      "source": [
        "data_folder = '/content/mnt/MyDrive/데이터/소상공인_상권'"
      ],
      "execution_count": 3,
      "outputs": []
    },
    {
      "cell_type": "code",
      "metadata": {
        "id": "OYk7LnUYnpKt"
      },
      "source": [
        "from glob import glob\n",
        "filelist = []\n",
        "for f in glob(f'{data_folder}/*.csv'):\n",
        "  filelist.append(f)"
      ],
      "execution_count": 45,
      "outputs": []
    },
    {
      "cell_type": "markdown",
      "metadata": {
        "id": "X0Dc4vwAoirX"
      },
      "source": [
        "- 서울 데이터 --> 스타벅스, 커피빈, 이디야, 빽다방 추출\n",
        "- 전국 데이터 추출 --> 스타벅스, 커피빈, 이디야, 빽다방 추출"
      ]
    },
    {
      "cell_type": "code",
      "metadata": {
        "id": "5NDt7EvCoc-O"
      },
      "source": [
        "df = pd.read_csv(f'{data_folder}/소상공인시장진흥공단_상가(상권)정보_서울_202106.csv')"
      ],
      "execution_count": 46,
      "outputs": []
    },
    {
      "cell_type": "code",
      "metadata": {
        "id": "Fw3w8wejpOxK"
      },
      "source": [
        "pop = df[df.상권업종중분류코드 == 'Q12']"
      ],
      "execution_count": 47,
      "outputs": []
    },
    {
      "cell_type": "code",
      "metadata": {
        "id": "TaHdIvinpzye"
      },
      "source": [
        "pop.head(2)"
      ],
      "execution_count": null,
      "outputs": []
    },
    {
      "cell_type": "code",
      "metadata": {
        "colab": {
          "base_uri": "https://localhost:8080/",
          "height": 204
        },
        "id": "6tZopkfIqKky",
        "outputId": "ae608921-345b-401a-ce83-dca7b368e4d7"
      },
      "source": [
        "pop = pop[['상호명', '지점명', '시도명', '시군구명', '도로명주소']]\n",
        "pop.tail()"
      ],
      "execution_count": 66,
      "outputs": [
        {
          "output_type": "execute_result",
          "data": {
            "text/html": [
              "<div>\n",
              "<style scoped>\n",
              "    .dataframe tbody tr th:only-of-type {\n",
              "        vertical-align: middle;\n",
              "    }\n",
              "\n",
              "    .dataframe tbody tr th {\n",
              "        vertical-align: top;\n",
              "    }\n",
              "\n",
              "    .dataframe thead th {\n",
              "        text-align: right;\n",
              "    }\n",
              "</style>\n",
              "<table border=\"1\" class=\"dataframe\">\n",
              "  <thead>\n",
              "    <tr style=\"text-align: right;\">\n",
              "      <th></th>\n",
              "      <th>상호명</th>\n",
              "      <th>지점명</th>\n",
              "      <th>시도명</th>\n",
              "      <th>시군구명</th>\n",
              "      <th>도로명주소</th>\n",
              "    </tr>\n",
              "  </thead>\n",
              "  <tbody>\n",
              "    <tr>\n",
              "      <th>315753</th>\n",
              "      <td>카페나무영우성균관대</td>\n",
              "      <td>NaN</td>\n",
              "      <td>서울특별시</td>\n",
              "      <td>종로구</td>\n",
              "      <td>서울특별시 종로구 율곡로 171</td>\n",
              "    </tr>\n",
              "    <tr>\n",
              "      <th>315754</th>\n",
              "      <td>에이스타커피컴퍼니</td>\n",
              "      <td>NaN</td>\n",
              "      <td>서울특별시</td>\n",
              "      <td>마포구</td>\n",
              "      <td>서울특별시 마포구 광성로4길 11</td>\n",
              "    </tr>\n",
              "    <tr>\n",
              "      <th>315911</th>\n",
              "      <td>까치</td>\n",
              "      <td>NaN</td>\n",
              "      <td>서울특별시</td>\n",
              "      <td>종로구</td>\n",
              "      <td>서울특별시 종로구 종로 316</td>\n",
              "    </tr>\n",
              "    <tr>\n",
              "      <th>315932</th>\n",
              "      <td>cafscoffee</td>\n",
              "      <td>NaN</td>\n",
              "      <td>서울특별시</td>\n",
              "      <td>강남구</td>\n",
              "      <td>서울특별시 강남구 언주로30길 56</td>\n",
              "    </tr>\n",
              "    <tr>\n",
              "      <th>315945</th>\n",
              "      <td>벨로샵</td>\n",
              "      <td>NaN</td>\n",
              "      <td>서울특별시</td>\n",
              "      <td>마포구</td>\n",
              "      <td>서울특별시 마포구 토정로 99</td>\n",
              "    </tr>\n",
              "  </tbody>\n",
              "</table>\n",
              "</div>"
            ],
            "text/plain": [
              "               상호명  지점명    시도명 시군구명                도로명주소\n",
              "315753  카페나무영우성균관대  NaN  서울특별시  종로구    서울특별시 종로구 율곡로 171\n",
              "315754   에이스타커피컴퍼니  NaN  서울특별시  마포구   서울특별시 마포구 광성로4길 11\n",
              "315911          까치  NaN  서울특별시  종로구     서울특별시 종로구 종로 316\n",
              "315932  cafscoffee  NaN  서울특별시  강남구  서울특별시 강남구 언주로30길 56\n",
              "315945         벨로샵  NaN  서울특별시  마포구     서울특별시 마포구 토정로 99"
            ]
          },
          "metadata": {},
          "execution_count": 66
        }
      ]
    },
    {
      "cell_type": "code",
      "metadata": {
        "colab": {
          "base_uri": "https://localhost:8080/",
          "height": 204
        },
        "id": "RQjzmlI7Ap4v",
        "outputId": "8226ef79-271b-4229-f93e-f115f1594357"
      },
      "source": [
        "sb = pop[pop['상호명'].str.contains('스타벅스|STARBUCKS|스타박스', na=False, case=False)]\n",
        "sb.head()"
      ],
      "execution_count": 70,
      "outputs": [
        {
          "output_type": "execute_result",
          "data": {
            "text/html": [
              "<div>\n",
              "<style scoped>\n",
              "    .dataframe tbody tr th:only-of-type {\n",
              "        vertical-align: middle;\n",
              "    }\n",
              "\n",
              "    .dataframe tbody tr th {\n",
              "        vertical-align: top;\n",
              "    }\n",
              "\n",
              "    .dataframe thead th {\n",
              "        text-align: right;\n",
              "    }\n",
              "</style>\n",
              "<table border=\"1\" class=\"dataframe\">\n",
              "  <thead>\n",
              "    <tr style=\"text-align: right;\">\n",
              "      <th></th>\n",
              "      <th>상호명</th>\n",
              "      <th>지점명</th>\n",
              "      <th>시도명</th>\n",
              "      <th>시군구명</th>\n",
              "      <th>도로명주소</th>\n",
              "    </tr>\n",
              "  </thead>\n",
              "  <tbody>\n",
              "    <tr>\n",
              "      <th>1738</th>\n",
              "      <td>스타벅스</td>\n",
              "      <td>동숭로아트점</td>\n",
              "      <td>서울특별시</td>\n",
              "      <td>종로구</td>\n",
              "      <td>서울특별시 종로구 동숭길 110</td>\n",
              "    </tr>\n",
              "    <tr>\n",
              "      <th>2766</th>\n",
              "      <td>스타벅스남부터미널2점</td>\n",
              "      <td>남부터미널2점</td>\n",
              "      <td>서울특별시</td>\n",
              "      <td>서초구</td>\n",
              "      <td>서울특별시 서초구 효령로 274</td>\n",
              "    </tr>\n",
              "    <tr>\n",
              "      <th>3785</th>\n",
              "      <td>스타벅스</td>\n",
              "      <td>당산점</td>\n",
              "      <td>서울특별시</td>\n",
              "      <td>영등포구</td>\n",
              "      <td>서울특별시 영등포구 양평로 64</td>\n",
              "    </tr>\n",
              "    <tr>\n",
              "      <th>3933</th>\n",
              "      <td>스타벅스</td>\n",
              "      <td>가로수길점</td>\n",
              "      <td>서울특별시</td>\n",
              "      <td>강남구</td>\n",
              "      <td>서울특별시 강남구 논현로175길 94</td>\n",
              "    </tr>\n",
              "    <tr>\n",
              "      <th>3995</th>\n",
              "      <td>스타벅스미아사거리역점</td>\n",
              "      <td>미아사거리역점</td>\n",
              "      <td>서울특별시</td>\n",
              "      <td>강북구</td>\n",
              "      <td>서울특별시 강북구 도봉로 32</td>\n",
              "    </tr>\n",
              "  </tbody>\n",
              "</table>\n",
              "</div>"
            ],
            "text/plain": [
              "              상호명      지점명    시도명  시군구명                 도로명주소\n",
              "1738         스타벅스   동숭로아트점  서울특별시   종로구     서울특별시 종로구 동숭길 110\n",
              "2766  스타벅스남부터미널2점  남부터미널2점  서울특별시   서초구     서울특별시 서초구 효령로 274\n",
              "3785         스타벅스      당산점  서울특별시  영등포구     서울특별시 영등포구 양평로 64\n",
              "3933         스타벅스    가로수길점  서울특별시   강남구  서울특별시 강남구 논현로175길 94\n",
              "3995  스타벅스미아사거리역점  미아사거리역점  서울특별시   강북구      서울특별시 강북구 도봉로 32"
            ]
          },
          "metadata": {},
          "execution_count": 70
        }
      ]
    },
    {
      "cell_type": "code",
      "metadata": {
        "colab": {
          "base_uri": "https://localhost:8080/",
          "height": 204
        },
        "id": "_5Vaci7qK08b",
        "outputId": "7db9819f-4014-4e8a-d05c-2837397a7644"
      },
      "source": [
        "cb = pop[pop['상호명'].str.contains('커피빈|COFFEEBEAN', na=False, case=False)]\n",
        "cb.head()"
      ],
      "execution_count": 73,
      "outputs": [
        {
          "output_type": "execute_result",
          "data": {
            "text/html": [
              "<div>\n",
              "<style scoped>\n",
              "    .dataframe tbody tr th:only-of-type {\n",
              "        vertical-align: middle;\n",
              "    }\n",
              "\n",
              "    .dataframe tbody tr th {\n",
              "        vertical-align: top;\n",
              "    }\n",
              "\n",
              "    .dataframe thead th {\n",
              "        text-align: right;\n",
              "    }\n",
              "</style>\n",
              "<table border=\"1\" class=\"dataframe\">\n",
              "  <thead>\n",
              "    <tr style=\"text-align: right;\">\n",
              "      <th></th>\n",
              "      <th>상호명</th>\n",
              "      <th>지점명</th>\n",
              "      <th>시도명</th>\n",
              "      <th>시군구명</th>\n",
              "      <th>도로명주소</th>\n",
              "    </tr>\n",
              "  </thead>\n",
              "  <tbody>\n",
              "    <tr>\n",
              "      <th>28</th>\n",
              "      <td>커피빈</td>\n",
              "      <td>코리아대학로대명거리점</td>\n",
              "      <td>서울특별시</td>\n",
              "      <td>종로구</td>\n",
              "      <td>서울특별시 종로구 대명길 25</td>\n",
              "    </tr>\n",
              "    <tr>\n",
              "      <th>316</th>\n",
              "      <td>커피빈코리아낙성대역점</td>\n",
              "      <td>코리아낙성대역점</td>\n",
              "      <td>서울특별시</td>\n",
              "      <td>관악구</td>\n",
              "      <td>서울특별시 관악구 남부순환로 1909</td>\n",
              "    </tr>\n",
              "    <tr>\n",
              "      <th>1470</th>\n",
              "      <td>커피빈</td>\n",
              "      <td>코리아강남역랭기지타워점</td>\n",
              "      <td>서울특별시</td>\n",
              "      <td>강남구</td>\n",
              "      <td>서울특별시 강남구 테헤란로4길 28</td>\n",
              "    </tr>\n",
              "    <tr>\n",
              "      <th>1491</th>\n",
              "      <td>커피빈</td>\n",
              "      <td>코리아청담성당점</td>\n",
              "      <td>서울특별시</td>\n",
              "      <td>강남구</td>\n",
              "      <td>서울특별시 강남구 삼성로 716</td>\n",
              "    </tr>\n",
              "    <tr>\n",
              "      <th>1506</th>\n",
              "      <td>커피빈</td>\n",
              "      <td>코리아청담에스점</td>\n",
              "      <td>서울특별시</td>\n",
              "      <td>강남구</td>\n",
              "      <td>서울특별시 강남구 압구정로 461</td>\n",
              "    </tr>\n",
              "  </tbody>\n",
              "</table>\n",
              "</div>"
            ],
            "text/plain": [
              "              상호명           지점명    시도명 시군구명                 도로명주소\n",
              "28            커피빈   코리아대학로대명거리점  서울특별시  종로구      서울특별시 종로구 대명길 25\n",
              "316   커피빈코리아낙성대역점      코리아낙성대역점  서울특별시  관악구  서울특별시 관악구 남부순환로 1909\n",
              "1470          커피빈  코리아강남역랭기지타워점  서울특별시  강남구   서울특별시 강남구 테헤란로4길 28\n",
              "1491          커피빈      코리아청담성당점  서울특별시  강남구     서울특별시 강남구 삼성로 716\n",
              "1506          커피빈      코리아청담에스점  서울특별시  강남구    서울특별시 강남구 압구정로 461"
            ]
          },
          "metadata": {},
          "execution_count": 73
        }
      ]
    },
    {
      "cell_type": "code",
      "metadata": {
        "colab": {
          "base_uri": "https://localhost:8080/",
          "height": 204
        },
        "id": "h1n4zcMKK9d6",
        "outputId": "21f634f2-ecaa-4916-d311-5266cb7d59b6"
      },
      "source": [
        "ed = pop[pop['상호명'].str.contains('이디야|EDIYA', na=False, case=False)]\n",
        "ed.head()"
      ],
      "execution_count": 85,
      "outputs": [
        {
          "output_type": "execute_result",
          "data": {
            "text/html": [
              "<div>\n",
              "<style scoped>\n",
              "    .dataframe tbody tr th:only-of-type {\n",
              "        vertical-align: middle;\n",
              "    }\n",
              "\n",
              "    .dataframe tbody tr th {\n",
              "        vertical-align: top;\n",
              "    }\n",
              "\n",
              "    .dataframe thead th {\n",
              "        text-align: right;\n",
              "    }\n",
              "</style>\n",
              "<table border=\"1\" class=\"dataframe\">\n",
              "  <thead>\n",
              "    <tr style=\"text-align: right;\">\n",
              "      <th></th>\n",
              "      <th>상호명</th>\n",
              "      <th>지점명</th>\n",
              "      <th>시도명</th>\n",
              "      <th>시군구명</th>\n",
              "      <th>도로명주소</th>\n",
              "    </tr>\n",
              "  </thead>\n",
              "  <tbody>\n",
              "    <tr>\n",
              "      <th>1272</th>\n",
              "      <td>이디야커피</td>\n",
              "      <td>신길역점</td>\n",
              "      <td>서울특별시</td>\n",
              "      <td>영등포구</td>\n",
              "      <td>서울특별시 영등포구 영등포로 353</td>\n",
              "    </tr>\n",
              "    <tr>\n",
              "      <th>1411</th>\n",
              "      <td>이디야커피</td>\n",
              "      <td>라이프점</td>\n",
              "      <td>서울특별시</td>\n",
              "      <td>영등포구</td>\n",
              "      <td>서울특별시 영등포구 63로 40</td>\n",
              "    </tr>\n",
              "    <tr>\n",
              "      <th>2433</th>\n",
              "      <td>이디야커피양재AT점</td>\n",
              "      <td>양재AT점</td>\n",
              "      <td>서울특별시</td>\n",
              "      <td>서초구</td>\n",
              "      <td>서울특별시 서초구 동산로 3</td>\n",
              "    </tr>\n",
              "    <tr>\n",
              "      <th>2785</th>\n",
              "      <td>이디야커피</td>\n",
              "      <td>시흥점</td>\n",
              "      <td>서울특별시</td>\n",
              "      <td>금천구</td>\n",
              "      <td>서울특별시 금천구 금하로 750</td>\n",
              "    </tr>\n",
              "    <tr>\n",
              "      <th>4498</th>\n",
              "      <td>이디야커피</td>\n",
              "      <td>개봉중앙점</td>\n",
              "      <td>서울특별시</td>\n",
              "      <td>구로구</td>\n",
              "      <td>서울특별시 구로구 개봉로3길 26</td>\n",
              "    </tr>\n",
              "  </tbody>\n",
              "</table>\n",
              "</div>"
            ],
            "text/plain": [
              "             상호명    지점명    시도명  시군구명                도로명주소\n",
              "1272       이디야커피   신길역점  서울특별시  영등포구  서울특별시 영등포구 영등포로 353\n",
              "1411       이디야커피   라이프점  서울특별시  영등포구    서울특별시 영등포구 63로 40\n",
              "2433  이디야커피양재AT점  양재AT점  서울특별시   서초구      서울특별시 서초구 동산로 3\n",
              "2785       이디야커피    시흥점  서울특별시   금천구    서울특별시 금천구 금하로 750\n",
              "4498       이디야커피  개봉중앙점  서울특별시   구로구   서울특별시 구로구 개봉로3길 26"
            ]
          },
          "metadata": {},
          "execution_count": 85
        }
      ]
    },
    {
      "cell_type": "code",
      "metadata": {
        "colab": {
          "base_uri": "https://localhost:8080/",
          "height": 204
        },
        "id": "zXmdGGSbLKdf",
        "outputId": "22dbb9ff-2012-45ea-af76-adf19fbc2a92"
      },
      "source": [
        "bd = pop[pop['상호명'].str.contains('빽다방|PAIKSCOFFEE', na=False, case=False)]\n",
        "bd.head()"
      ],
      "execution_count": 83,
      "outputs": [
        {
          "output_type": "execute_result",
          "data": {
            "text/html": [
              "<div>\n",
              "<style scoped>\n",
              "    .dataframe tbody tr th:only-of-type {\n",
              "        vertical-align: middle;\n",
              "    }\n",
              "\n",
              "    .dataframe tbody tr th {\n",
              "        vertical-align: top;\n",
              "    }\n",
              "\n",
              "    .dataframe thead th {\n",
              "        text-align: right;\n",
              "    }\n",
              "</style>\n",
              "<table border=\"1\" class=\"dataframe\">\n",
              "  <thead>\n",
              "    <tr style=\"text-align: right;\">\n",
              "      <th></th>\n",
              "      <th>상호명</th>\n",
              "      <th>지점명</th>\n",
              "      <th>시도명</th>\n",
              "      <th>시군구명</th>\n",
              "      <th>도로명주소</th>\n",
              "    </tr>\n",
              "  </thead>\n",
              "  <tbody>\n",
              "    <tr>\n",
              "      <th>7607</th>\n",
              "      <td>빽다방공덕새창로점</td>\n",
              "      <td>공덕새창로점</td>\n",
              "      <td>서울특별시</td>\n",
              "      <td>마포구</td>\n",
              "      <td>서울특별시 마포구 새창로 15-1</td>\n",
              "    </tr>\n",
              "    <tr>\n",
              "      <th>8565</th>\n",
              "      <td>빽다방서초우성점</td>\n",
              "      <td>서초우성점</td>\n",
              "      <td>서울특별시</td>\n",
              "      <td>서초구</td>\n",
              "      <td>서울특별시 서초구 사임당로 181</td>\n",
              "    </tr>\n",
              "    <tr>\n",
              "      <th>19901</th>\n",
              "      <td>빽다방중계은행사거리점</td>\n",
              "      <td>중계은행사거리점</td>\n",
              "      <td>서울특별시</td>\n",
              "      <td>노원구</td>\n",
              "      <td>서울특별시 노원구 한글비석로 235</td>\n",
              "    </tr>\n",
              "    <tr>\n",
              "      <th>26972</th>\n",
              "      <td>빽다방성신여대점</td>\n",
              "      <td>성신여대점</td>\n",
              "      <td>서울특별시</td>\n",
              "      <td>성북구</td>\n",
              "      <td>서울특별시 성북구 동소문로20나길 3</td>\n",
              "    </tr>\n",
              "    <tr>\n",
              "      <th>27346</th>\n",
              "      <td>빽다방신림역1호점</td>\n",
              "      <td>신림역1호점</td>\n",
              "      <td>서울특별시</td>\n",
              "      <td>관악구</td>\n",
              "      <td>서울특별시 관악구 남부순환로 1592</td>\n",
              "    </tr>\n",
              "  </tbody>\n",
              "</table>\n",
              "</div>"
            ],
            "text/plain": [
              "               상호명       지점명    시도명 시군구명                 도로명주소\n",
              "7607     빽다방공덕새창로점    공덕새창로점  서울특별시  마포구    서울특별시 마포구 새창로 15-1\n",
              "8565      빽다방서초우성점     서초우성점  서울특별시  서초구    서울특별시 서초구 사임당로 181\n",
              "19901  빽다방중계은행사거리점  중계은행사거리점  서울특별시  노원구   서울특별시 노원구 한글비석로 235\n",
              "26972     빽다방성신여대점     성신여대점  서울특별시  성북구  서울특별시 성북구 동소문로20나길 3\n",
              "27346    빽다방신림역1호점    신림역1호점  서울특별시  관악구  서울특별시 관악구 남부순환로 1592"
            ]
          },
          "metadata": {},
          "execution_count": 83
        }
      ]
    },
    {
      "cell_type": "code",
      "metadata": {
        "colab": {
          "base_uri": "https://localhost:8080/"
        },
        "id": "IfPvus89L2Am",
        "outputId": "e620fa11-5012-4b57-d63b-39bac909cb0a"
      },
      "source": [
        "len(sb), len(cb), len(ed), len(bd)"
      ],
      "execution_count": 86,
      "outputs": [
        {
          "output_type": "execute_result",
          "data": {
            "text/plain": [
              "(489, 169, 440, 127)"
            ]
          },
          "metadata": {},
          "execution_count": 86
        }
      ]
    },
    {
      "cell_type": "markdown",
      "metadata": {
        "id": "TapFBiJmNCjn"
      },
      "source": [
        "- 전국데이터"
      ]
    },
    {
      "cell_type": "code",
      "metadata": {
        "id": "o-B28y8_ND2_"
      },
      "source": [
        "starbucks = pd.DataFrame(columns=['상호명', '지점명', '시도명', '시군구명', '도로명주소'])\n",
        "coffebean = pd.DataFrame(columns=['상호명', '지점명', '시도명', '시군구명', '도로명주소'])\n",
        "ediya = pd.DataFrame(columns=['상호명', '지점명', '시도명', '시군구명', '도로명주소'])\n",
        "paik = pd.DataFrame(columns=['상호명', '지점명', '시도명', '시군구명', '도로명주소'])"
      ],
      "execution_count": 88,
      "outputs": []
    },
    {
      "cell_type": "code",
      "metadata": {
        "id": "Dk8OnXWhq4e1"
      },
      "source": [
        "for fp in filelist:\n",
        "  df = pd.read_csv(fp)\n",
        "  df = df[df.상권업종중분류코드 == 'Q12']\n",
        "  df = df[['상호명', '지점명', '시도명', '시군구명', '도로명주소']]\n",
        "\n",
        "  sb = pop[pop['상호명'].str.contains('스타벅스|STARBUCKS|스타박스', na=False, case=False)]\n",
        "  cb = pop[pop['상호명'].str.contains('커피빈|COFFEEBEAN', na=False, case=False)]\n",
        "  ed = pop[pop['상호명'].str.contains('이디야|EDIYA', na=False, case=False)]\n",
        "  bd = pop[pop['상호명'].str.contains('빽다방|PAIKSCOFFEE', na=False, case=False)]\n",
        "\n",
        "  starbucks = pd.concat([starbucks, sb])\n",
        "  coffebean = pd.concat([coffebean, cb])\n",
        "  ediya = pd.concat([ediya, ed])\n",
        "  paik = pd.concat([paik, bd])"
      ],
      "execution_count": 89,
      "outputs": []
    },
    {
      "cell_type": "code",
      "metadata": {
        "id": "ZKlzY0ZpPZ9u"
      },
      "source": [
        "result_dir = '/content/mnt/MyDrive/results/CoffeIndex'"
      ],
      "execution_count": 93,
      "outputs": []
    },
    {
      "cell_type": "code",
      "metadata": {
        "id": "z9mdtZ2e7S6e"
      },
      "source": [
        "!mkdir -p $result_dir"
      ],
      "execution_count": 94,
      "outputs": []
    },
    {
      "cell_type": "code",
      "metadata": {
        "id": "IQBjOejGPNz9"
      },
      "source": [
        "starbucks.to_csv(f'{result_dir}/스타벅스.csv', index=False)\n",
        "coffebean.to_csv(f'{result_dir}/커피빈.csv', index=False)\n",
        "ediya.to_csv(f'{result_dir}/이디야.csv', index=False)\n",
        "paik.to_csv(f'{result_dir}/빽다방.csv', index=False)"
      ],
      "execution_count": 95,
      "outputs": []
    },
    {
      "cell_type": "code",
      "metadata": {
        "id": "casws9ytQI5H"
      },
      "source": [
        ""
      ],
      "execution_count": null,
      "outputs": []
    }
  ]
}