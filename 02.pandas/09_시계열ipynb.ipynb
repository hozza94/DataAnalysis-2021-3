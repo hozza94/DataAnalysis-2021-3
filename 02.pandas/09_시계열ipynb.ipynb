{
  "nbformat": 4,
  "nbformat_minor": 0,
  "metadata": {
    "colab": {
      "name": "09_시계열ipynb",
      "provenance": [],
      "collapsed_sections": []
    },
    "kernelspec": {
      "name": "python3",
      "display_name": "Python 3"
    },
    "language_info": {
      "name": "python"
    }
  },
  "cells": [
    {
      "cell_type": "markdown",
      "metadata": {
        "id": "kAl2FMKV3vbi"
      },
      "source": [
        "## 시계열 자료 다루기"
      ]
    },
    {
      "cell_type": "code",
      "metadata": {
        "id": "1CfeoF8C2Ubl"
      },
      "source": [
        "import pandas as pd\n",
        "import numpy as np\n",
        "import seaborn as sns"
      ],
      "execution_count": 1,
      "outputs": []
    },
    {
      "cell_type": "markdown",
      "metadata": {
        "id": "NOVeBfiW3y_U"
      },
      "source": [
        "### Datetimeindex 인덱스"
      ]
    },
    {
      "cell_type": "code",
      "metadata": {
        "colab": {
          "base_uri": "https://localhost:8080/"
        },
        "id": "ADqHU0RX3tfy",
        "outputId": "2104e659-1904-4840-ea00-5715ee3a3c77"
      },
      "source": [
        "date_str = [\"2021, 8, 12\", \"2021-8-13\", \"20210814\", \"2021.8.15\", \"081621\", '8/17/21']\n",
        "idx = pd.to_datetime(date_str)\n",
        "idx"
      ],
      "execution_count": 8,
      "outputs": [
        {
          "output_type": "execute_result",
          "data": {
            "text/plain": [
              "DatetimeIndex(['2021-08-12', '2021-08-13', '2021-08-14', '2021-08-15',\n",
              "               '2021-08-16', '2021-08-17'],\n",
              "              dtype='datetime64[ns]', freq=None)"
            ]
          },
          "metadata": {
            "tags": []
          },
          "execution_count": 8
        }
      ]
    },
    {
      "cell_type": "code",
      "metadata": {
        "colab": {
          "base_uri": "https://localhost:8080/"
        },
        "id": "PWSA0oaD4rP6",
        "outputId": "6da5906f-33b6-4d5e-f6ae-5608abdab00f"
      },
      "source": [
        "np.random.seed(2021)\n",
        "s = pd.Series(np.random.randn(6), index=idx)\n",
        "s"
      ],
      "execution_count": 10,
      "outputs": [
        {
          "output_type": "execute_result",
          "data": {
            "text/plain": [
              "2021-08-12    1.488609\n",
              "2021-08-13    0.676011\n",
              "2021-08-14   -0.418451\n",
              "2021-08-15   -0.806521\n",
              "2021-08-16    0.555876\n",
              "2021-08-17   -0.705504\n",
              "dtype: float64"
            ]
          },
          "metadata": {
            "tags": []
          },
          "execution_count": 10
        }
      ]
    },
    {
      "cell_type": "code",
      "metadata": {
        "colab": {
          "base_uri": "https://localhost:8080/"
        },
        "id": "7w0K_Tqj5nPN",
        "outputId": "a0641a2c-32e5-4da9-8c69-296a22d9f1e3"
      },
      "source": [
        "pd.date_range('20210801', '2021-08-31')"
      ],
      "execution_count": 11,
      "outputs": [
        {
          "output_type": "execute_result",
          "data": {
            "text/plain": [
              "DatetimeIndex(['2021-08-01', '2021-08-02', '2021-08-03', '2021-08-04',\n",
              "               '2021-08-05', '2021-08-06', '2021-08-07', '2021-08-08',\n",
              "               '2021-08-09', '2021-08-10', '2021-08-11', '2021-08-12',\n",
              "               '2021-08-13', '2021-08-14', '2021-08-15', '2021-08-16',\n",
              "               '2021-08-17', '2021-08-18', '2021-08-19', '2021-08-20',\n",
              "               '2021-08-21', '2021-08-22', '2021-08-23', '2021-08-24',\n",
              "               '2021-08-25', '2021-08-26', '2021-08-27', '2021-08-28',\n",
              "               '2021-08-29', '2021-08-30', '2021-08-31'],\n",
              "              dtype='datetime64[ns]', freq='D')"
            ]
          },
          "metadata": {
            "tags": []
          },
          "execution_count": 11
        }
      ]
    },
    {
      "cell_type": "code",
      "metadata": {
        "colab": {
          "base_uri": "https://localhost:8080/"
        },
        "id": "9gHziKEp6Bnq",
        "outputId": "db8810d4-e08a-466f-fabc-ed7b5a99f69f"
      },
      "source": [
        "pd.date_range('20210801', periods=31)"
      ],
      "execution_count": 12,
      "outputs": [
        {
          "output_type": "execute_result",
          "data": {
            "text/plain": [
              "DatetimeIndex(['2021-08-01', '2021-08-02', '2021-08-03', '2021-08-04',\n",
              "               '2021-08-05', '2021-08-06', '2021-08-07', '2021-08-08',\n",
              "               '2021-08-09', '2021-08-10', '2021-08-11', '2021-08-12',\n",
              "               '2021-08-13', '2021-08-14', '2021-08-15', '2021-08-16',\n",
              "               '2021-08-17', '2021-08-18', '2021-08-19', '2021-08-20',\n",
              "               '2021-08-21', '2021-08-22', '2021-08-23', '2021-08-24',\n",
              "               '2021-08-25', '2021-08-26', '2021-08-27', '2021-08-28',\n",
              "               '2021-08-29', '2021-08-30', '2021-08-31'],\n",
              "              dtype='datetime64[ns]', freq='D')"
            ]
          },
          "metadata": {
            "tags": []
          },
          "execution_count": 12
        }
      ]
    },
    {
      "cell_type": "code",
      "metadata": {
        "colab": {
          "base_uri": "https://localhost:8080/"
        },
        "id": "jC78B__86Qe9",
        "outputId": "2dabf0f8-37f7-41a6-f90a-fb0eb5631c7c"
      },
      "source": [
        "  # Biz-day\n",
        "  pd.date_range('20210801', periods=22, freq='B')"
      ],
      "execution_count": 15,
      "outputs": [
        {
          "output_type": "execute_result",
          "data": {
            "text/plain": [
              "DatetimeIndex(['2021-08-02', '2021-08-03', '2021-08-04', '2021-08-05',\n",
              "               '2021-08-06', '2021-08-09', '2021-08-10', '2021-08-11',\n",
              "               '2021-08-12', '2021-08-13', '2021-08-16', '2021-08-17',\n",
              "               '2021-08-18', '2021-08-19', '2021-08-20', '2021-08-23',\n",
              "               '2021-08-24', '2021-08-25', '2021-08-26', '2021-08-27',\n",
              "               '2021-08-30', '2021-08-31'],\n",
              "              dtype='datetime64[ns]', freq='B')"
            ]
          },
          "metadata": {
            "tags": []
          },
          "execution_count": 15
        }
      ]
    },
    {
      "cell_type": "code",
      "metadata": {
        "colab": {
          "base_uri": "https://localhost:8080/"
        },
        "id": "1CT0V3io9dbZ",
        "outputId": "9f3cdf75-8046-44d2-ef86-71045736df44"
      },
      "source": [
        "# 일요일\n",
        "pd.date_range('20210801', '20210831', freq='W')"
      ],
      "execution_count": 16,
      "outputs": [
        {
          "output_type": "execute_result",
          "data": {
            "text/plain": [
              "DatetimeIndex(['2021-08-01', '2021-08-08', '2021-08-15', '2021-08-22',\n",
              "               '2021-08-29'],\n",
              "              dtype='datetime64[ns]', freq='W-SUN')"
            ]
          },
          "metadata": {
            "tags": []
          },
          "execution_count": 16
        }
      ]
    },
    {
      "cell_type": "markdown",
      "metadata": {
        "id": "9Wnc9bXK-eep"
      },
      "source": [
        "### resample 연산"
      ]
    },
    {
      "cell_type": "code",
      "metadata": {
        "colab": {
          "base_uri": "https://localhost:8080/"
        },
        "id": "m7VokuQ0-fl0",
        "outputId": "2189ffca-6a27-4fbd-990c-fae9c8a35052"
      },
      "source": [
        "ts = pd.Series(np.random.randn(100), index=pd.date_range(\n",
        "    \"2021-1-1\", periods=100))\n",
        "ts.tail(10)"
      ],
      "execution_count": 19,
      "outputs": [
        {
          "output_type": "execute_result",
          "data": {
            "text/plain": [
              "2021-04-01   -0.120349\n",
              "2021-04-02   -1.226517\n",
              "2021-04-03   -0.722695\n",
              "2021-04-04   -0.619026\n",
              "2021-04-05   -0.988081\n",
              "2021-04-06   -0.532415\n",
              "2021-04-07    1.182246\n",
              "2021-04-08    0.770814\n",
              "2021-04-09   -0.416720\n",
              "2021-04-10   -0.266896\n",
              "Freq: D, dtype: float64"
            ]
          },
          "metadata": {
            "tags": []
          },
          "execution_count": 19
        }
      ]
    },
    {
      "cell_type": "code",
      "metadata": {
        "colab": {
          "base_uri": "https://localhost:8080/"
        },
        "id": "sFv2hPPs96Zo",
        "outputId": "47d70021-6856-4166-e439-da7222aaa2e9"
      },
      "source": [
        "ts.resample('W').sum()"
      ],
      "execution_count": 20,
      "outputs": [
        {
          "output_type": "execute_result",
          "data": {
            "text/plain": [
              "2021-01-03   -2.351502\n",
              "2021-01-10    0.555380\n",
              "2021-01-17    0.223807\n",
              "2021-01-24    0.631587\n",
              "2021-01-31    3.462180\n",
              "2021-02-07    1.440900\n",
              "2021-02-14   -1.524744\n",
              "2021-02-21   -1.317256\n",
              "2021-02-28    2.440016\n",
              "2021-03-07    2.097982\n",
              "2021-03-14    3.366106\n",
              "2021-03-21   -4.807875\n",
              "2021-03-28    1.300592\n",
              "2021-04-04   -1.035002\n",
              "2021-04-11   -0.251052\n",
              "Freq: W-SUN, dtype: float64"
            ]
          },
          "metadata": {
            "tags": []
          },
          "execution_count": 20
        }
      ]
    },
    {
      "cell_type": "code",
      "metadata": {
        "colab": {
          "base_uri": "https://localhost:8080/"
        },
        "id": "sPjgnvjS-7Kf",
        "outputId": "66dd7db4-c6c9-4376-c2fd-4c7c0367f1d0"
      },
      "source": [
        "ts.resample('M').first()"
      ],
      "execution_count": 21,
      "outputs": [
        {
          "output_type": "execute_result",
          "data": {
            "text/plain": [
              "2021-01-31   -0.387930\n",
              "2021-02-28   -2.868879\n",
              "2021-03-31   -0.185138\n",
              "2021-04-30   -0.120349\n",
              "Freq: M, dtype: float64"
            ]
          },
          "metadata": {
            "tags": []
          },
          "execution_count": 21
        }
      ]
    },
    {
      "cell_type": "code",
      "metadata": {
        "id": "b3oIMu3c_Xm_"
      },
      "source": [
        ""
      ],
      "execution_count": null,
      "outputs": []
    }
  ]
}