{
  "nbformat": 4,
  "nbformat_minor": 0,
  "metadata": {
    "colab": {
      "name": "numpy_practice.ipynb",
      "provenance": [],
      "collapsed_sections": []
    },
    "kernelspec": {
      "name": "python3",
      "display_name": "Python 3"
    },
    "language_info": {
      "name": "python"
    }
  },
  "cells": [
    {
      "cell_type": "code",
      "metadata": {
        "id": "2q9oqHdxOagP"
      },
      "source": [
        "import numpy as np"
      ],
      "execution_count": 1,
      "outputs": []
    },
    {
      "cell_type": "code",
      "metadata": {
        "colab": {
          "base_uri": "https://localhost:8080/"
        },
        "id": "cvDXFv9oOe9O",
        "outputId": "a145d801-9ca4-4515-ab52-3df764fe7ea8"
      },
      "source": [
        "# 연습문제 1.\n",
        "\n",
        "a = np.arange(10, 90, 10).reshape(2,-1)\n",
        "a"
      ],
      "execution_count": 4,
      "outputs": [
        {
          "output_type": "execute_result",
          "data": {
            "text/plain": [
              "array([[10, 20, 30, 40],\n",
              "       [50, 60, 70, 80]])"
            ]
          },
          "metadata": {
            "tags": []
          },
          "execution_count": 4
        }
      ]
    },
    {
      "cell_type": "code",
      "metadata": {
        "colab": {
          "base_uri": "https://localhost:8080/"
        },
        "id": "RWsF2igGOoB2",
        "outputId": "2e15e393-9d9f-44cb-a329-eb97587c3f06"
      },
      "source": [
        "# 연습문제 2.\n",
        "\n",
        "m = np.arange(0, 15).reshape(3,-1)\n",
        "\n",
        "print('1) m[1,2] : ', m[1,2])\n",
        "print('2) m[2,4] : ', m[2,4])\n",
        "print('3) m[1,1:3] : ', m[1,1:3])\n",
        "print('4) m[1:3,2] : ', m[1:3,2])\n",
        "print('5) m[0:2,3:] : \\n', m[0:2,3:])"
      ],
      "execution_count": 15,
      "outputs": [
        {
          "output_type": "stream",
          "text": [
            "1) m[1,2] :  7\n",
            "2) m[2,4] :  14\n",
            "3) m[1,1:3] :  [6 7]\n",
            "4) m[1:3,2] :  [ 7 12]\n",
            "5) m[0:2,3:] : \n",
            " [[3 4]\n",
            " [8 9]]\n"
          ],
          "name": "stdout"
        }
      ]
    },
    {
      "cell_type": "code",
      "metadata": {
        "colab": {
          "base_uri": "https://localhost:8080/"
        },
        "id": "CuCgMf4aPTUu",
        "outputId": "4ee7f5a9-19fd-4d15-835b-7b8403ce0842"
      },
      "source": [
        "# 연습문제 3.\n",
        "\n",
        "f = m.reshape(-1)\n",
        "print(f)\n",
        "\n",
        "print(f'1) f[f%3 == 0] : {f[f%3 == 0]}')\n",
        "print(f'2) f[f%4 == 1] : {f[f%4 == 1]}')\n",
        "print(f'3) np.logical_and(f%3 == 0, f%4 ==1]) : {f[np.logical_and(f%3 == 0, f%4 ==1)]}') # ??"
      ],
      "execution_count": 35,
      "outputs": [
        {
          "output_type": "stream",
          "text": [
            "[ 0  1  2  3  4  5  6  7  8  9 10 11 12 13 14]\n",
            "1) f[f%3 == 0] : [ 0  3  6  9 12]\n",
            "2) f[f%4 == 1] : [ 1  5  9 13]\n",
            "3) np.logical_and(f%3 == 0, f%4 ==1]) : [9]\n"
          ],
          "name": "stdout"
        }
      ]
    },
    {
      "cell_type": "code",
      "metadata": {
        "colab": {
          "base_uri": "https://localhost:8080/"
        },
        "id": "UMfnN53YQy3G",
        "outputId": "b0324b27-c140-4055-8d70-879597f13fb9"
      },
      "source": [
        "# 연습문제 4.\n",
        "\n",
        "a = np.eye(5, k=1)\n",
        "b = np.eye(5) * 2\n",
        "c = np.eye(5, k=-1) * 3\n",
        "d = a + b + c\n",
        "d"
      ],
      "execution_count": 32,
      "outputs": [
        {
          "output_type": "execute_result",
          "data": {
            "text/plain": [
              "array([[2., 1., 0., 0., 0.],\n",
              "       [3., 2., 1., 0., 0.],\n",
              "       [0., 3., 2., 1., 0.],\n",
              "       [0., 0., 3., 2., 1.],\n",
              "       [0., 0., 0., 3., 2.]])"
            ]
          },
          "metadata": {
            "tags": []
          },
          "execution_count": 32
        }
      ]
    },
    {
      "cell_type": "code",
      "metadata": {
        "colab": {
          "base_uri": "https://localhost:8080/"
        },
        "id": "dOSc3-1wS-36",
        "outputId": "b7b5871e-6dbf-4bc5-d9ae-4fc26af9257e"
      },
      "source": [
        "# 연습문제 5.\n",
        "\n",
        "np.random.seed(2021)\n",
        "m = np.random.uniform(0, 10, 30).reshape(5,6).round(4)\n",
        "\n",
        "print(f'1) np.max(m) : {np.max(m)}')\n",
        "print(f'2) np.sum(m, axis=1 : {np.sum(m, axis=1)}')\n",
        "print(f'3) np.max(m, axis=1) : {np.max(m, axis=1)}')\n",
        "print(f'4) np.mean(m, axis=0)) : {np.mean(m, axis=0)}')\n",
        "print(f'5) np.min(m, axis=0) : {np.min(m, axis=0)}')"
      ],
      "execution_count": 39,
      "outputs": [
        {
          "output_type": "stream",
          "text": [
            "1) np.max(m) : 9.9724\n",
            "2) np.sum(m, axis=1 : [29.1637 25.3385 38.0722 23.6387 32.0221]\n",
            "3) np.max(m, axis=1) : [9.9724 7.8431 9.6384 5.743  8.231 ]\n",
            "4) np.mean(m, axis=0)) : [5.81074 5.90066 3.7154  5.3664  6.02438 2.82946]\n",
            "5) np.min(m, axis=0) : [1.7899 3.7116 0.8663 2.0185 0.9689 0.5857]\n"
          ],
          "name": "stdout"
        }
      ]
    },
    {
      "cell_type": "code",
      "metadata": {
        "colab": {
          "base_uri": "https://localhost:8080/"
        },
        "id": "LU5aWDldnUy2",
        "outputId": "baca05bb-6fe9-4346-e8c7-2e88e0d5dd83"
      },
      "source": [
        "score = np.array([[1,2,3,4],[46,99,100,71],[81,59,90,100]])\n",
        "score\n",
        "score[:, np.argsort(score[1])[::-1]]"
      ],
      "execution_count": 45,
      "outputs": [
        {
          "output_type": "execute_result",
          "data": {
            "text/plain": [
              "array([[  3,   2,   4,   1],\n",
              "       [100,  99,  71,  46],\n",
              "       [ 90,  59, 100,  81]])"
            ]
          },
          "metadata": {
            "tags": []
          },
          "execution_count": 45
        }
      ]
    },
    {
      "cell_type": "code",
      "metadata": {
        "colab": {
          "base_uri": "https://localhost:8080/"
        },
        "id": "XMte_cQ6odZ7",
        "outputId": "2ff25b14-5f0a-4a12-e752-cb1ebead070f"
      },
      "source": [
        "# 연습문제 7.\n",
        "np.random.seed(2021)\n",
        "dice = np.random.randint(1,7,100)\n",
        "dice"
      ],
      "execution_count": 46,
      "outputs": [
        {
          "output_type": "execute_result",
          "data": {
            "text/plain": [
              "array([5, 6, 2, 1, 6, 5, 4, 6, 6, 6, 1, 5, 2, 6, 2, 2, 5, 6, 3, 3, 1, 4,\n",
              "       2, 1, 3, 4, 5, 6, 1, 6, 2, 3, 6, 2, 6, 2, 3, 3, 5, 6, 3, 4, 2, 3,\n",
              "       3, 1, 3, 5, 6, 4, 4, 2, 2, 2, 3, 6, 4, 4, 5, 4, 2, 5, 2, 2, 5, 4,\n",
              "       6, 4, 4, 4, 3, 2, 4, 3, 6, 3, 3, 1, 5, 4, 2, 4, 2, 5, 3, 4, 2, 3,\n",
              "       6, 3, 6, 3, 4, 5, 6, 2, 2, 6, 1, 6])"
            ]
          },
          "metadata": {
            "tags": []
          },
          "execution_count": 46
        }
      ]
    },
    {
      "cell_type": "code",
      "metadata": {
        "colab": {
          "base_uri": "https://localhost:8080/"
        },
        "id": "pyNHCBs1plPr",
        "outputId": "b52a8030-1701-4560-df9f-2fe429ba13f0"
      },
      "source": [
        "np.mean(dice)"
      ],
      "execution_count": 47,
      "outputs": [
        {
          "output_type": "execute_result",
          "data": {
            "text/plain": [
              "3.7"
            ]
          },
          "metadata": {
            "tags": []
          },
          "execution_count": 47
        }
      ]
    }
  ]
}