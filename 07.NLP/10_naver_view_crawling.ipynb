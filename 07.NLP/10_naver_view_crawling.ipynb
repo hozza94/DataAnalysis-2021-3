{
 "metadata": {
  "language_info": {
   "codemirror_mode": {
    "name": "ipython",
    "version": 3
   },
   "file_extension": ".py",
   "mimetype": "text/x-python",
   "name": "python",
   "nbconvert_exporter": "python",
   "pygments_lexer": "ipython3",
   "version": "3.8.5"
  },
  "orig_nbformat": 4,
  "kernelspec": {
   "name": "python3",
   "display_name": "Python 3.8.5 32-bit"
  },
  "interpreter": {
   "hash": "c9ba0c4a5af8269c496dad2a440da0741b8e4cd992915eed58c521d280844af4"
  }
 },
 "nbformat": 4,
 "nbformat_minor": 2,
 "cells": [
  {
   "source": [
    "# 네이버 블로그 크롤링"
   ],
   "cell_type": "markdown",
   "metadata": {}
  },
  {
   "cell_type": "code",
   "execution_count": 3,
   "metadata": {},
   "outputs": [],
   "source": [
    "from selenium import webdriver\n",
    "from bs4 import BeautifulSoup\n",
    "import time\n",
    "import pandas as pd\n",
    "from urllib.parse import quote"
   ]
  },
  {
   "cell_type": "code",
   "execution_count": 23,
   "metadata": {},
   "outputs": [],
   "source": [
    "chromedriver = 'chromedriver.exe'\n",
    "driver = webdriver.Chrome(chromedriver)"
   ]
  },
  {
   "cell_type": "code",
   "execution_count": 24,
   "metadata": {},
   "outputs": [],
   "source": [
    "base_url = 'https://search.naver.com/search.naver?where=view&sm=tab_jum&query='\n",
    "url = base_url + quote('자동차')"
   ]
  },
  {
   "cell_type": "code",
   "execution_count": 25,
   "metadata": {},
   "outputs": [],
   "source": [
    "driver.get(url)"
   ]
  },
  {
   "cell_type": "code",
   "execution_count": 26,
   "metadata": {},
   "outputs": [
    {
     "output_type": "error",
     "ename": "KeyboardInterrupt",
     "evalue": "",
     "traceback": [
      "\u001b[1;31m---------------------------------------------------------------------------\u001b[0m",
      "\u001b[1;31mKeyboardInterrupt\u001b[0m                         Traceback (most recent call last)",
      "\u001b[1;32m~\\AppData\\Local\\Temp/ipykernel_16064/1531542628.py\u001b[0m in \u001b[0;36m<module>\u001b[1;34m\u001b[0m\n\u001b[0;32m      4\u001b[0m \u001b[1;32mfor\u001b[0m \u001b[0mi\u001b[0m \u001b[1;32min\u001b[0m \u001b[0mrange\u001b[0m\u001b[1;33m(\u001b[0m\u001b[1;36m50\u001b[0m\u001b[1;33m)\u001b[0m\u001b[1;33m:\u001b[0m\u001b[1;33m\u001b[0m\u001b[1;33m\u001b[0m\u001b[0m\n\u001b[0;32m      5\u001b[0m     \u001b[0mbody\u001b[0m\u001b[1;33m.\u001b[0m\u001b[0msend_keys\u001b[0m\u001b[1;33m(\u001b[0m\u001b[0mKeys\u001b[0m\u001b[1;33m.\u001b[0m\u001b[0mPAGE_DOWN\u001b[0m\u001b[1;33m)\u001b[0m\u001b[1;33m\u001b[0m\u001b[1;33m\u001b[0m\u001b[0m\n\u001b[1;32m----> 6\u001b[1;33m     \u001b[0mtime\u001b[0m\u001b[1;33m.\u001b[0m\u001b[0msleep\u001b[0m\u001b[1;33m(\u001b[0m\u001b[1;36m2\u001b[0m\u001b[1;33m)\u001b[0m\u001b[1;33m\u001b[0m\u001b[1;33m\u001b[0m\u001b[0m\n\u001b[0m",
      "\u001b[1;31mKeyboardInterrupt\u001b[0m: "
     ]
    }
   ],
   "source": [
    "from selenium.webdriver.common.keys import Keys\n",
    "\n",
    "body = driver.find_element_by_tag_name('body')\n",
    "for i in range(30):\n",
    "    body.send_keys(Keys.PAGE_DOWN)\n",
    "    time.sleep(2)"
   ]
  },
  {
   "cell_type": "code",
   "execution_count": 27,
   "metadata": {},
   "outputs": [],
   "source": [
    "html = driver.page_source\n",
    "soup = BeautifulSoup(html, 'html.parser')"
   ]
  },
  {
   "cell_type": "code",
   "execution_count": 28,
   "metadata": {},
   "outputs": [
    {
     "output_type": "execute_result",
     "data": {
      "text/plain": [
       "57"
      ]
     },
     "metadata": {},
     "execution_count": 28
    }
   ],
   "source": [
    "lis = soup.select('li.bx._svp_item')\n",
    "len(lis)"
   ]
  },
  {
   "cell_type": "code",
   "execution_count": 18,
   "metadata": {},
   "outputs": [
    {
     "output_type": "execute_result",
     "data": {
      "text/plain": [
       "('테일즈 오브 어라이즈 이 게임은 온라인 게임인가요?',\n",
       " '5일 전',\n",
       " '이건 싱글로도 재미있게 할 수 있는건가요? 유튭 체험판 영상만 봤는데 친구들과 하거나 온라인 플레이로 해야 재미있을꺼 같은 느낌이 들어서요~ 이 게임 전작도 있었는지 궁금합니다^^')"
      ]
     },
     "metadata": {},
     "execution_count": 18
    }
   ],
   "source": [
    "li = lis[0]\n",
    "title = li.select_one('a.api_txt_lines.total_tit._cross_trigger').get_text()\n",
    "date = li.select_one('span.sub_time.sub_txt').get_text()\n",
    "content = li.select_one('div.api_txt_lines.dsc_txt').get_text()\n",
    "title, date, content"
   ]
  },
  {
   "cell_type": "code",
   "execution_count": 19,
   "metadata": {},
   "outputs": [
    {
     "output_type": "stream",
     "name": "stdout",
     "text": [
      "0\n",
      "1\n",
      "2\n",
      "3\n",
      "4\n",
      "5\n",
      "6\n",
      "7\n",
      "8\n",
      "9\n",
      "10\n",
      "11\n",
      "12\n",
      "13\n",
      "14\n",
      "15\n",
      "16\n",
      "17\n",
      "18\n",
      "19\n",
      "20\n",
      "21\n",
      "22\n",
      "23\n",
      "24\n",
      "25\n",
      "26\n",
      "27\n",
      "28\n",
      "29\n",
      "30\n",
      "31\n",
      "32\n",
      "33\n",
      "34\n",
      "35\n",
      "36\n",
      "37\n",
      "38\n",
      "39\n",
      "40\n",
      "41\n",
      "42\n",
      "43\n",
      "44\n",
      "45\n",
      "46\n",
      "47\n",
      "48\n",
      "49\n",
      "50\n",
      "51\n",
      "52\n",
      "53\n",
      "54\n",
      "55\n",
      "56\n",
      "57\n",
      "58\n",
      "59\n",
      "60\n",
      "61\n",
      "62\n",
      "63\n",
      "64\n",
      "65\n",
      "66\n",
      "67\n",
      "68\n",
      "69\n",
      "70\n",
      "71\n",
      "72\n",
      "73\n",
      "74\n",
      "75\n",
      "76\n",
      "77\n",
      "78\n",
      "79\n",
      "80\n",
      "81\n"
     ]
    }
   ],
   "source": [
    "title_list, date_list, content_list = [], [], []\n",
    "\n",
    "for i, li in enumerate(lis):\n",
    "    try:\n",
    "        adv = li.select_one('a.link_ad').get_text()\n",
    "        if adv.strip() == '광고':\n",
    "            continue\n",
    "    except:\n",
    "        title = li.select_one('a.api_txt_lines.total_tit').get_text()\n",
    "        content = li.select_one('div.api_txt_lines.dsc_txt').get_text()\n",
    "        date = li.select_one('span.sub_time.sub_txt').get_text()\n",
    "\n",
    "        title_list.append(title)\n",
    "        date_list.append(date)\n",
    "        content_list.append(content)\n",
    "   \n",
    "        print(i)"
   ]
  },
  {
   "cell_type": "code",
   "execution_count": 20,
   "metadata": {},
   "outputs": [
    {
     "output_type": "execute_result",
     "data": {
      "text/plain": [
       "                                           title         date  \\\n",
       "0                   테일즈 오브 어라이즈 이 게임은 온라인 게임인가요?         5일 전   \n",
       "1                               온라인 게임 추천부탁드립니다.  2021.07.20.   \n",
       "2                 PC온라인게임 바람의나라 지금 바로 복귀할 타이밍!!!  2021.08.12.   \n",
       "3                     여자친구랑 같이할 온라인 멀티게임 추천해주세여!         4일 전   \n",
       "4  NC소프트 블레이드앤소울 업데이트 예고, PCMMORPG 온라인게임순위 떠오르나?  2021.03.12.   \n",
       "\n",
       "                                             content  \n",
       "0  이건 싱글로도 재미있게 할 수 있는건가요? 유튭 체험판 영상만 봤는데 친구들과 하거...  \n",
       "1  애기가 어려서 올인하다보니 스트레스는 쌓이고 친구들도 코로나로 못만나고 너무 우울한...  \n",
       "2  솔직히 혜택이 너무 커서, 괜찮은 PC온라인게임을 찾는다면 정말 빠르게 레벨업 할 ...  \n",
       "3  오버쿡2 하고있구요 기기는 두대가있어서 저랑 여자친구랑 멀리있을때 온라인으로 만나서...  \n",
       "4  당시 기준으로 상당히 사양이 높은 온라인 게임으로써 언리얼엔진3의 고퀄리티 그래픽과...  "
      ],
      "text/html": "<div>\n<style scoped>\n    .dataframe tbody tr th:only-of-type {\n        vertical-align: middle;\n    }\n\n    .dataframe tbody tr th {\n        vertical-align: top;\n    }\n\n    .dataframe thead th {\n        text-align: right;\n    }\n</style>\n<table border=\"1\" class=\"dataframe\">\n  <thead>\n    <tr style=\"text-align: right;\">\n      <th></th>\n      <th>title</th>\n      <th>date</th>\n      <th>content</th>\n    </tr>\n  </thead>\n  <tbody>\n    <tr>\n      <th>0</th>\n      <td>테일즈 오브 어라이즈 이 게임은 온라인 게임인가요?</td>\n      <td>5일 전</td>\n      <td>이건 싱글로도 재미있게 할 수 있는건가요? 유튭 체험판 영상만 봤는데 친구들과 하거...</td>\n    </tr>\n    <tr>\n      <th>1</th>\n      <td>온라인 게임 추천부탁드립니다.</td>\n      <td>2021.07.20.</td>\n      <td>애기가 어려서 올인하다보니 스트레스는 쌓이고 친구들도 코로나로 못만나고 너무 우울한...</td>\n    </tr>\n    <tr>\n      <th>2</th>\n      <td>PC온라인게임 바람의나라 지금 바로 복귀할 타이밍!!!</td>\n      <td>2021.08.12.</td>\n      <td>솔직히 혜택이 너무 커서, 괜찮은 PC온라인게임을 찾는다면 정말 빠르게 레벨업 할 ...</td>\n    </tr>\n    <tr>\n      <th>3</th>\n      <td>여자친구랑 같이할 온라인 멀티게임 추천해주세여!</td>\n      <td>4일 전</td>\n      <td>오버쿡2 하고있구요 기기는 두대가있어서 저랑 여자친구랑 멀리있을때 온라인으로 만나서...</td>\n    </tr>\n    <tr>\n      <th>4</th>\n      <td>NC소프트 블레이드앤소울 업데이트 예고, PCMMORPG 온라인게임순위 떠오르나?</td>\n      <td>2021.03.12.</td>\n      <td>당시 기준으로 상당히 사양이 높은 온라인 게임으로써 언리얼엔진3의 고퀄리티 그래픽과...</td>\n    </tr>\n  </tbody>\n</table>\n</div>"
     },
     "metadata": {},
     "execution_count": 20
    }
   ],
   "source": [
    "df = pd.DataFrame({\n",
    "    'title': title_list,\n",
    "    'date': date_list,\n",
    "    'content': content_list\n",
    "})\n",
    "df.head()"
   ]
  },
  {
   "cell_type": "code",
   "execution_count": 21,
   "metadata": {},
   "outputs": [],
   "source": [
    "df.to_csv('data/game_blog.txt')"
   ]
  },
  {
   "cell_type": "code",
   "execution_count": 22,
   "metadata": {},
   "outputs": [],
   "source": [
    "driver.close()"
   ]
  },
  {
   "cell_type": "code",
   "execution_count": null,
   "metadata": {},
   "outputs": [],
   "source": []
  }
 ]
}