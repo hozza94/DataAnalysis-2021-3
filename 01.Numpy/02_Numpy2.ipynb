{
  "nbformat": 4,
  "nbformat_minor": 0,
  "metadata": {
    "colab": {
      "name": "02_numpy2.ipynb",
      "provenance": [],
      "collapsed_sections": []
    },
    "kernelspec": {
      "name": "python3",
      "display_name": "Python 3"
    },
    "language_info": {
      "name": "python"
    }
  },
  "cells": [
    {
      "cell_type": "markdown",
      "metadata": {
        "id": "SdvKI8Y3U2gz"
      },
      "source": [
        "## Numpy - part 2"
      ]
    },
    {
      "cell_type": "code",
      "metadata": {
        "id": "J4S91jk0UtJn"
      },
      "source": [
        "import numpy as np"
      ],
      "execution_count": 1,
      "outputs": []
    },
    {
      "cell_type": "markdown",
      "metadata": {
        "id": "VKVHnfZAVD-3"
      },
      "source": [
        "### 4. 생성(Creation)"
      ]
    },
    {
      "cell_type": "markdown",
      "metadata": {
        "id": "XkyWAoieVLse"
      },
      "source": [
        "arange"
      ]
    },
    {
      "cell_type": "code",
      "metadata": {
        "colab": {
          "base_uri": "https://localhost:8080/"
        },
        "id": "-4tHUQ9VVGAF",
        "outputId": "db8746ac-60f0-4f3d-d06b-b4e45d7f6c6f"
      },
      "source": [
        "np.arange(10)"
      ],
      "execution_count": 2,
      "outputs": [
        {
          "output_type": "execute_result",
          "data": {
            "text/plain": [
              "array([0, 1, 2, 3, 4, 5, 6, 7, 8, 9])"
            ]
          },
          "metadata": {
            "tags": []
          },
          "execution_count": 2
        }
      ]
    },
    {
      "cell_type": "code",
      "metadata": {
        "colab": {
          "base_uri": "https://localhost:8080/"
        },
        "id": "sX7iyEcYVUyn",
        "outputId": "0f2f8fbc-7891-4c0b-f51f-b2371366323d"
      },
      "source": [
        "np.arange(1, 10, 2)"
      ],
      "execution_count": 3,
      "outputs": [
        {
          "output_type": "execute_result",
          "data": {
            "text/plain": [
              "array([1, 3, 5, 7, 9])"
            ]
          },
          "metadata": {
            "tags": []
          },
          "execution_count": 3
        }
      ]
    },
    {
      "cell_type": "code",
      "metadata": {
        "colab": {
          "base_uri": "https://localhost:8080/"
        },
        "id": "URsfSl1PVdtL",
        "outputId": "e3a9d2a6-0f2c-4969-8cdc-ec6003891483"
      },
      "source": [
        "# 실수도 가능\n",
        "np.arange(0, 5.1, 0.5)"
      ],
      "execution_count": 4,
      "outputs": [
        {
          "output_type": "execute_result",
          "data": {
            "text/plain": [
              "array([0. , 0.5, 1. , 1.5, 2. , 2.5, 3. , 3.5, 4. , 4.5, 5. ])"
            ]
          },
          "metadata": {
            "tags": []
          },
          "execution_count": 4
        }
      ]
    },
    {
      "cell_type": "code",
      "metadata": {
        "colab": {
          "base_uri": "https://localhost:8080/"
        },
        "id": "Cqn8k7arVuEk",
        "outputId": "01915727-0769-40d5-e4a1-801b7ae34ca4"
      },
      "source": [
        "np.arange(0, 5.1, 0.5).tolist()"
      ],
      "execution_count": 5,
      "outputs": [
        {
          "output_type": "execute_result",
          "data": {
            "text/plain": [
              "[0.0, 0.5, 1.0, 1.5, 2.0, 2.5, 3.0, 3.5, 4.0, 4.5, 5.0]"
            ]
          },
          "metadata": {
            "tags": []
          },
          "execution_count": 5
        }
      ]
    },
    {
      "cell_type": "code",
      "metadata": {
        "colab": {
          "base_uri": "https://localhost:8080/"
        },
        "id": "ojw4Uwy6WBSq",
        "outputId": "788366ca-9b6b-4c2e-e185-b9c03a1a2a11"
      },
      "source": [
        "np.arange(24).reshape(4, -1)"
      ],
      "execution_count": 6,
      "outputs": [
        {
          "output_type": "execute_result",
          "data": {
            "text/plain": [
              "array([[ 0,  1,  2,  3,  4,  5],\n",
              "       [ 6,  7,  8,  9, 10, 11],\n",
              "       [12, 13, 14, 15, 16, 17],\n",
              "       [18, 19, 20, 21, 22, 23]])"
            ]
          },
          "metadata": {
            "tags": []
          },
          "execution_count": 6
        }
      ]
    },
    {
      "cell_type": "code",
      "metadata": {
        "colab": {
          "base_uri": "https://localhost:8080/"
        },
        "id": "pg-PqjYXnv30",
        "outputId": "90a5a3c0-a25e-489e-df56-7a600aea37e2"
      },
      "source": [
        "x = np.arange(-2, 2.01, 0.02)\n",
        "x.size, x[-1]"
      ],
      "execution_count": 7,
      "outputs": [
        {
          "output_type": "execute_result",
          "data": {
            "text/plain": [
              "(201, 2.0000000000000036)"
            ]
          },
          "metadata": {
            "tags": []
          },
          "execution_count": 7
        }
      ]
    },
    {
      "cell_type": "code",
      "metadata": {
        "colab": {
          "base_uri": "https://localhost:8080/"
        },
        "id": "YjDNidcnn0q2",
        "outputId": "36d2203a-93a1-4438-ceb1-b81c437d56a9"
      },
      "source": [
        "# linespace(시작, 끝, 갯수)\n",
        "x = np.linspace(-2,2,201)\n",
        "x.size, x[-1]"
      ],
      "execution_count": 9,
      "outputs": [
        {
          "output_type": "execute_result",
          "data": {
            "text/plain": [
              "(201, 2.0)"
            ]
          },
          "metadata": {
            "tags": []
          },
          "execution_count": 9
        }
      ]
    },
    {
      "cell_type": "code",
      "metadata": {
        "colab": {
          "base_uri": "https://localhost:8080/",
          "height": 530
        },
        "id": "pJ6vijqQn-Wx",
        "outputId": "102dc891-1d3b-445d-88cb-508348de0b38"
      },
      "source": [
        "import matplotlib.pyplot as plt\n",
        "\n",
        "y = np.exp(x)\n",
        "z = np.tanh(x)\n",
        "plt.plot(x, y)\n",
        "plt.grid()\n",
        "plt.show()\n",
        "print()\n",
        "plt.plot(x, z)\n",
        "plt.grid()\n",
        "plt.show()"
      ],
      "execution_count": 14,
      "outputs": [
        {
          "output_type": "display_data",
          "data": {
            "image/png": "[encoded data removed]",
            "text/plain": [
              "<Figure size 432x288 with 1 Axes>"
            ]
          },
          "metadata": {
            "tags": [],
            "needs_background": "light"
          }
        },
        {
          "output_type": "stream",
          "text": [
            "\n"
          ],
          "name": "stdout"
        },
        {
          "output_type": "display_data",
          "data": {
            "image/png": "[encoded data removed]",
            "text/plain": [
              "<Figure size 432x288 with 1 Axes>"
            ]
          },
          "metadata": {
            "tags": [],
            "needs_background": "light"
          }
        }
      ]
    },
    {
      "cell_type": "markdown",
      "metadata": {
        "id": "fm4Ndt0RpYVp"
      },
      "source": [
        "#### ones, zeros, empty"
      ]
    },
    {
      "cell_type": "code",
      "metadata": {
        "colab": {
          "base_uri": "https://localhost:8080/"
        },
        "id": "stCQZQs0pbNQ",
        "outputId": "6977822e-a116-4e33-aacc-8fb5a09b24e0"
      },
      "source": [
        "np.ones(shape=(10,), dtype=np.int8)"
      ],
      "execution_count": 15,
      "outputs": [
        {
          "output_type": "execute_result",
          "data": {
            "text/plain": [
              "array([1, 1, 1, 1, 1, 1, 1, 1, 1, 1], dtype=int8)"
            ]
          },
          "metadata": {
            "tags": []
          },
          "execution_count": 15
        }
      ]
    },
    {
      "cell_type": "code",
      "metadata": {
        "colab": {
          "base_uri": "https://localhost:8080/"
        },
        "id": "iK82pcSupgPQ",
        "outputId": "1b44b369-6d0c-4aa2-f89d-91d5778f0d24"
      },
      "source": [
        "np.ones((2,4))"
      ],
      "execution_count": 16,
      "outputs": [
        {
          "output_type": "execute_result",
          "data": {
            "text/plain": [
              "array([[1., 1., 1., 1.],\n",
              "       [1., 1., 1., 1.]])"
            ]
          },
          "metadata": {
            "tags": []
          },
          "execution_count": 16
        }
      ]
    },
    {
      "cell_type": "code",
      "metadata": {
        "colab": {
          "base_uri": "https://localhost:8080/"
        },
        "id": "ThUi1EOXpj3t",
        "outputId": "666b0755-e186-4256-d6fa-4cc5bb6ecbde"
      },
      "source": [
        "np.zeros((8,), np.float32)"
      ],
      "execution_count": 19,
      "outputs": [
        {
          "output_type": "execute_result",
          "data": {
            "text/plain": [
              "array([0., 0., 0., 0., 0., 0., 0., 0.], dtype=float32)"
            ]
          },
          "metadata": {
            "tags": []
          },
          "execution_count": 19
        }
      ]
    },
    {
      "cell_type": "code",
      "metadata": {
        "colab": {
          "base_uri": "https://localhost:8080/"
        },
        "id": "jXEkxy5Wp5j0",
        "outputId": "0e95623d-6d20-4d72-8472-219730e167f3"
      },
      "source": [
        "np.empty((4,))"
      ],
      "execution_count": 20,
      "outputs": [
        {
          "output_type": "execute_result",
          "data": {
            "text/plain": [
              "array([0., 0., 0., 0.])"
            ]
          },
          "metadata": {
            "tags": []
          },
          "execution_count": 20
        }
      ]
    },
    {
      "cell_type": "markdown",
      "metadata": {
        "id": "Dzn_Pl22qgNF"
      },
      "source": [
        "#### something like"
      ]
    },
    {
      "cell_type": "code",
      "metadata": {
        "colab": {
          "base_uri": "https://localhost:8080/"
        },
        "id": "zQePCziQqkPu",
        "outputId": "36b76a14-e1c4-43a9-c160-49e580e0a8f3"
      },
      "source": [
        "a = np.arange(12).reshape(3,4)\n",
        "np.ones_like(a)"
      ],
      "execution_count": 21,
      "outputs": [
        {
          "output_type": "execute_result",
          "data": {
            "text/plain": [
              "array([[1, 1, 1, 1],\n",
              "       [1, 1, 1, 1],\n",
              "       [1, 1, 1, 1]])"
            ]
          },
          "metadata": {
            "tags": []
          },
          "execution_count": 21
        }
      ]
    },
    {
      "cell_type": "code",
      "metadata": {
        "colab": {
          "base_uri": "https://localhost:8080/"
        },
        "id": "GGGhx6aWq48V",
        "outputId": "b5913c2d-dfa1-49fa-df65-5f0dab0614d7"
      },
      "source": [
        "np.zeros_like(a)"
      ],
      "execution_count": 23,
      "outputs": [
        {
          "output_type": "execute_result",
          "data": {
            "text/plain": [
              "array([[0, 0, 0, 0],\n",
              "       [0, 0, 0, 0],\n",
              "       [0, 0, 0, 0]])"
            ]
          },
          "metadata": {
            "tags": []
          },
          "execution_count": 23
        }
      ]
    },
    {
      "cell_type": "code",
      "metadata": {
        "colab": {
          "base_uri": "https://localhost:8080/"
        },
        "id": "wDudSIzorlns",
        "outputId": "36ee1ace-1363-459e-956b-5fcf1f303e24"
      },
      "source": [
        "np.zeros_like(a).dtype"
      ],
      "execution_count": 25,
      "outputs": [
        {
          "output_type": "execute_result",
          "data": {
            "text/plain": [
              "dtype('int64')"
            ]
          },
          "metadata": {
            "tags": []
          },
          "execution_count": 25
        }
      ]
    },
    {
      "cell_type": "markdown",
      "metadata": {
        "id": "RrFrnDYhq-Hs"
      },
      "source": [
        "#### 단위 행렬 - identity"
      ]
    },
    {
      "cell_type": "code",
      "metadata": {
        "colab": {
          "base_uri": "https://localhost:8080/"
        },
        "id": "a7997fk4q_-p",
        "outputId": "ae0fcd13-ba2c-4f51-bc31-b0ca2837a0f4"
      },
      "source": [
        "np.identity(n=3, dtype=np.int16)"
      ],
      "execution_count": 24,
      "outputs": [
        {
          "output_type": "execute_result",
          "data": {
            "text/plain": [
              "array([[1, 0, 0],\n",
              "       [0, 1, 0],\n",
              "       [0, 0, 1]], dtype=int16)"
            ]
          },
          "metadata": {
            "tags": []
          },
          "execution_count": 24
        }
      ]
    },
    {
      "cell_type": "code",
      "metadata": {
        "colab": {
          "base_uri": "https://localhost:8080/"
        },
        "id": "enHgvw_crpNY",
        "outputId": "e0071ce5-d423-4aa5-cd44-54c5ba3fe075"
      },
      "source": [
        "np.identity(3).dtype"
      ],
      "execution_count": 27,
      "outputs": [
        {
          "output_type": "execute_result",
          "data": {
            "text/plain": [
              "dtype('float64')"
            ]
          },
          "metadata": {
            "tags": []
          },
          "execution_count": 27
        }
      ]
    },
    {
      "cell_type": "markdown",
      "metadata": {
        "id": "s4kcLiixrtit"
      },
      "source": [
        "#### eye - 대각선이 1인 행렬"
      ]
    },
    {
      "cell_type": "code",
      "metadata": {
        "colab": {
          "base_uri": "https://localhost:8080/"
        },
        "id": "RTS4d_0vryUR",
        "outputId": "5f5b03d1-b248-4e43-deae-26747fc3218f"
      },
      "source": [
        "np.eye(3, 5)"
      ],
      "execution_count": 28,
      "outputs": [
        {
          "output_type": "execute_result",
          "data": {
            "text/plain": [
              "array([[1., 0., 0., 0., 0.],\n",
              "       [0., 1., 0., 0., 0.],\n",
              "       [0., 0., 1., 0., 0.]])"
            ]
          },
          "metadata": {
            "tags": []
          },
          "execution_count": 28
        }
      ]
    },
    {
      "cell_type": "code",
      "metadata": {
        "colab": {
          "base_uri": "https://localhost:8080/"
        },
        "id": "Iv8lo3p9sLCN",
        "outputId": "8984bb35-1d29-4357-8f02-08c359d3f106"
      },
      "source": [
        "np.eye(N=3, M=5, k=2, dtype=np.int32)"
      ],
      "execution_count": 31,
      "outputs": [
        {
          "output_type": "execute_result",
          "data": {
            "text/plain": [
              "array([[0, 0, 1, 0, 0],\n",
              "       [0, 0, 0, 1, 0],\n",
              "       [0, 0, 0, 0, 1]], dtype=int32)"
            ]
          },
          "metadata": {
            "tags": []
          },
          "execution_count": 31
        }
      ]
    },
    {
      "cell_type": "code",
      "metadata": {
        "colab": {
          "base_uri": "https://localhost:8080/"
        },
        "id": "uj-0W9D-sWam",
        "outputId": "fd9cc145-3ce7-47d6-d2c6-930aa154c071"
      },
      "source": [
        "np.eye(4, 3, -1)"
      ],
      "execution_count": 32,
      "outputs": [
        {
          "output_type": "execute_result",
          "data": {
            "text/plain": [
              "array([[0., 0., 0.],\n",
              "       [1., 0., 0.],\n",
              "       [0., 1., 0.],\n",
              "       [0., 0., 1.]])"
            ]
          },
          "metadata": {
            "tags": []
          },
          "execution_count": 32
        }
      ]
    },
    {
      "cell_type": "markdown",
      "metadata": {
        "id": "syRBDYJ0syPm"
      },
      "source": [
        "#### diag - 대각선 위치의 값을 추출"
      ]
    },
    {
      "cell_type": "code",
      "metadata": {
        "colab": {
          "base_uri": "https://localhost:8080/"
        },
        "id": "-Z1-7p0Ns2En",
        "outputId": "66508f5e-85bd-460f-c034-4983e0a202dd"
      },
      "source": [
        "np.diag(np.arange(9).reshape((3,3)))"
      ],
      "execution_count": 34,
      "outputs": [
        {
          "output_type": "execute_result",
          "data": {
            "text/plain": [
              "array([0, 4, 8])"
            ]
          },
          "metadata": {
            "tags": []
          },
          "execution_count": 34
        }
      ]
    },
    {
      "cell_type": "code",
      "metadata": {
        "colab": {
          "base_uri": "https://localhost:8080/"
        },
        "id": "EFzTy-nUtMa6",
        "outputId": "bf1f887c-555d-4eca-c818-c408f05e4d25"
      },
      "source": [
        "np.diag(np.arange(9).reshape((3,3)), 1)"
      ],
      "execution_count": 35,
      "outputs": [
        {
          "output_type": "execute_result",
          "data": {
            "text/plain": [
              "array([1, 5])"
            ]
          },
          "metadata": {
            "tags": []
          },
          "execution_count": 35
        }
      ]
    },
    {
      "cell_type": "markdown",
      "metadata": {
        "id": "1hUwfv-Pt4eE"
      },
      "source": [
        "#### Random sampling"
      ]
    },
    {
      "cell_type": "code",
      "metadata": {
        "colab": {
          "base_uri": "https://localhost:8080/"
        },
        "id": "P4AmUO6At6oB",
        "outputId": "42a48a7c-9421-4f64-b7e2-5e87110d2dbe"
      },
      "source": [
        "np.random.seed(seed=2021) # 랜덤값을 일정하게 나오도록\n",
        "np.random.random()"
      ],
      "execution_count": 43,
      "outputs": [
        {
          "output_type": "execute_result",
          "data": {
            "text/plain": [
              "0.6059782788074047"
            ]
          },
          "metadata": {
            "tags": []
          },
          "execution_count": 43
        }
      ]
    },
    {
      "cell_type": "code",
      "metadata": {
        "colab": {
          "base_uri": "https://localhost:8080/"
        },
        "id": "sgsk5yjpud0Q",
        "outputId": "dad8d87e-ce37-4613-fc07-d23e1db363c1"
      },
      "source": [
        "# 균등 분포 (모든 숫자가 나올 확률을 같게 두고)\n",
        "np.random.uniform(size=10)"
      ],
      "execution_count": 48,
      "outputs": [
        {
          "output_type": "execute_result",
          "data": {
            "text/plain": [
              "array([0.12631769, 0.5088309 , 0.43178618, 0.91593956, 0.70901564,\n",
              "       0.89065539, 0.58888561, 0.63682992, 0.34220894, 0.82379118])"
            ]
          },
          "metadata": {
            "tags": []
          },
          "execution_count": 48
        }
      ]
    },
    {
      "cell_type": "code",
      "metadata": {
        "colab": {
          "base_uri": "https://localhost:8080/"
        },
        "id": "Z7lMOyKpuxQi",
        "outputId": "2aa0def0-7a61-4fde-8584-2ef20d79e0bd"
      },
      "source": [
        "# 정규 분포 N(1, 2)\n",
        "np.random.normal(1, 2, size=10)"
      ],
      "execution_count": 50,
      "outputs": [
        {
          "output_type": "execute_result",
          "data": {
            "text/plain": [
              "array([ 0.5780463 ,  4.57084396,  1.63264746,  1.85553147,  3.65524127,\n",
              "        1.85730418, -0.60354941, -1.80808872,  1.87339519,  2.72556599])"
            ]
          },
          "metadata": {
            "tags": []
          },
          "execution_count": 50
        }
      ]
    },
    {
      "cell_type": "code",
      "metadata": {
        "colab": {
          "base_uri": "https://localhost:8080/"
        },
        "id": "Ut13ulRivebM",
        "outputId": "7fa340a8-476a-4167-e22e-2d50f3d20f2c"
      },
      "source": [
        "# 표준 정규분포 N(0, 1)\n",
        "np.random.randn(10)"
      ],
      "execution_count": 51,
      "outputs": [
        {
          "output_type": "execute_result",
          "data": {
            "text/plain": [
              "array([-0.48927924,  1.50419932, -1.05216008, -1.47562916,  0.92864955,\n",
              "       -1.1618635 ,  0.42540892,  0.07385093, -1.76357822, -0.879058  ])"
            ]
          },
          "metadata": {
            "tags": []
          },
          "execution_count": 51
        }
      ]
    },
    {
      "cell_type": "code",
      "metadata": {
        "colab": {
          "base_uri": "https://localhost:8080/",
          "height": 350
        },
        "id": "coEm__qjwTW-",
        "outputId": "bd89cb0f-2d68-4be0-a4b4-f2fb6407e8d5"
      },
      "source": [
        "rand_norm = np.random.randn(1000)\n",
        "plt.hist(rand_norm)"
      ],
      "execution_count": 55,
      "outputs": [
        {
          "output_type": "execute_result",
          "data": {
            "text/plain": [
              "(array([  3.,  12.,  47., 117., 203., 260., 210., 104.,  34.,  10.]),\n",
              " array([-3.42344955, -2.78289655, -2.14234355, -1.50179055, -0.86123755,\n",
              "        -0.22068454,  0.41986846,  1.06042146,  1.70097446,  2.34152746,\n",
              "         2.98208046]),\n",
              " <a list of 10 Patch objects>)"
            ]
          },
          "metadata": {
            "tags": []
          },
          "execution_count": 55
        },
        {
          "output_type": "display_data",
          "data": {
            "image/png": "[encoded data removed]",
            "text/plain": [
              "<Figure size 432x288 with 1 Axes>"
            ]
          },
          "metadata": {
            "tags": [],
            "needs_background": "light"
          }
        }
      ]
    },
    {
      "cell_type": "markdown",
      "metadata": {
        "id": "3pFDNARgwySY"
      },
      "source": [
        "### 5. Operation"
      ]
    },
    {
      "cell_type": "markdown",
      "metadata": {
        "id": "8jrFlHPRw1Ar"
      },
      "source": [
        "### Sum 과 Axis"
      ]
    },
    {
      "cell_type": "code",
      "metadata": {
        "colab": {
          "base_uri": "https://localhost:8080/"
        },
        "id": "YIuuI-Y_w4Xp",
        "outputId": "f86c1e26-03ac-46dd-802c-738c768697a3"
      },
      "source": [
        "a = np.arange(1, 11)\n",
        "a.sum()"
      ],
      "execution_count": 56,
      "outputs": [
        {
          "output_type": "execute_result",
          "data": {
            "text/plain": [
              "55"
            ]
          },
          "metadata": {
            "tags": []
          },
          "execution_count": 56
        }
      ]
    },
    {
      "cell_type": "code",
      "metadata": {
        "colab": {
          "base_uri": "https://localhost:8080/"
        },
        "id": "x2NB-AU0x3JO",
        "outputId": "1d9d5082-759f-478c-f380-4d2708718e2c"
      },
      "source": [
        "a = np.arange(1,13).reshape(3,4)\n",
        "a"
      ],
      "execution_count": 62,
      "outputs": [
        {
          "output_type": "execute_result",
          "data": {
            "text/plain": [
              "array([[ 1,  2,  3,  4],\n",
              "       [ 5,  6,  7,  8],\n",
              "       [ 9, 10, 11, 12]])"
            ]
          },
          "metadata": {
            "tags": []
          },
          "execution_count": 62
        }
      ]
    },
    {
      "cell_type": "code",
      "metadata": {
        "colab": {
          "base_uri": "https://localhost:8080/"
        },
        "id": "4uVU2desxhh6",
        "outputId": "d957743c-3787-4f5c-a9d3-5b877009dc8c"
      },
      "source": [
        "a.sum()"
      ],
      "execution_count": 58,
      "outputs": [
        {
          "output_type": "execute_result",
          "data": {
            "text/plain": [
              "78"
            ]
          },
          "metadata": {
            "tags": []
          },
          "execution_count": 58
        }
      ]
    },
    {
      "cell_type": "code",
      "metadata": {
        "colab": {
          "base_uri": "https://localhost:8080/"
        },
        "id": "xcAbIwLexi1Q",
        "outputId": "0f924225-90c3-4636-b83e-2319fc60be7e"
      },
      "source": [
        "# column의 합, row 방향\n",
        "a.sum(axis=0)"
      ],
      "execution_count": 60,
      "outputs": [
        {
          "output_type": "execute_result",
          "data": {
            "text/plain": [
              "array([15, 18, 21, 24])"
            ]
          },
          "metadata": {
            "tags": []
          },
          "execution_count": 60
        }
      ]
    },
    {
      "cell_type": "code",
      "metadata": {
        "colab": {
          "base_uri": "https://localhost:8080/"
        },
        "id": "oFG3V5cTxo9W",
        "outputId": "13323b64-ed89-4b22-d92e-81843b9af02a"
      },
      "source": [
        "# row의 합, column 방향\n",
        "a.sum(axis=1)"
      ],
      "execution_count": 61,
      "outputs": [
        {
          "output_type": "execute_result",
          "data": {
            "text/plain": [
              "array([10, 26, 42])"
            ]
          },
          "metadata": {
            "tags": []
          },
          "execution_count": 61
        }
      ]
    },
    {
      "cell_type": "code",
      "metadata": {
        "colab": {
          "base_uri": "https://localhost:8080/"
        },
        "id": "u_SkV4s_yJ3H",
        "outputId": "d2bed885-1688-425e-c677-49495d24fdbf"
      },
      "source": [
        "b = np.arange(1,25).reshape(2,3,4)\n",
        "b"
      ],
      "execution_count": 64,
      "outputs": [
        {
          "output_type": "execute_result",
          "data": {
            "text/plain": [
              "array([[[ 1,  2,  3,  4],\n",
              "        [ 5,  6,  7,  8],\n",
              "        [ 9, 10, 11, 12]],\n",
              "\n",
              "       [[13, 14, 15, 16],\n",
              "        [17, 18, 19, 20],\n",
              "        [21, 22, 23, 24]]])"
            ]
          },
          "metadata": {
            "tags": []
          },
          "execution_count": 64
        }
      ]
    },
    {
      "cell_type": "code",
      "metadata": {
        "colab": {
          "base_uri": "https://localhost:8080/"
        },
        "id": "2icst3-3yNb_",
        "outputId": "08110abd-4ced-4811-fec2-e0f608ed5cd6"
      },
      "source": [
        "b.sum(axis=0) # (2, 3, 4) -> (3, 4)"
      ],
      "execution_count": 65,
      "outputs": [
        {
          "output_type": "execute_result",
          "data": {
            "text/plain": [
              "array([[14, 16, 18, 20],\n",
              "       [22, 24, 26, 28],\n",
              "       [30, 32, 34, 36]])"
            ]
          },
          "metadata": {
            "tags": []
          },
          "execution_count": 65
        }
      ]
    },
    {
      "cell_type": "code",
      "metadata": {
        "colab": {
          "base_uri": "https://localhost:8080/"
        },
        "id": "51zkfIrFyZYp",
        "outputId": "9414ae2e-483f-40dd-d07b-a5832d4516e3"
      },
      "source": [
        "b.sum(axis=1) # (2, 3, 4) -> (2, 4)"
      ],
      "execution_count": 66,
      "outputs": [
        {
          "output_type": "execute_result",
          "data": {
            "text/plain": [
              "array([[15, 18, 21, 24],\n",
              "       [51, 54, 57, 60]])"
            ]
          },
          "metadata": {
            "tags": []
          },
          "execution_count": 66
        }
      ]
    },
    {
      "cell_type": "code",
      "metadata": {
        "colab": {
          "base_uri": "https://localhost:8080/"
        },
        "id": "4vwr8JxByZ8z",
        "outputId": "34df385c-bcd2-4d3e-9aed-9786604309b3"
      },
      "source": [
        "b.sum(axis=2) # (2, 3, 4) -> (2, 3)"
      ],
      "execution_count": 67,
      "outputs": [
        {
          "output_type": "execute_result",
          "data": {
            "text/plain": [
              "array([[10, 26, 42],\n",
              "       [58, 74, 90]])"
            ]
          },
          "metadata": {
            "tags": []
          },
          "execution_count": 67
        }
      ]
    },
    {
      "cell_type": "markdown",
      "metadata": {
        "id": "kA4wU7NX1mgF"
      },
      "source": [
        "### 통계, 수학 함수"
      ]
    },
    {
      "cell_type": "code",
      "metadata": {
        "colab": {
          "base_uri": "https://localhost:8080/"
        },
        "id": "dDg5UKmI1szP",
        "outputId": "d70c2f9d-5ebc-45fb-c9db-b85a064c6553"
      },
      "source": [
        "b.mean(), b.var(), b.std()"
      ],
      "execution_count": 69,
      "outputs": [
        {
          "output_type": "execute_result",
          "data": {
            "text/plain": [
              "(12.5, 47.916666666666664, 6.922186552431729)"
            ]
          },
          "metadata": {
            "tags": []
          },
          "execution_count": 69
        }
      ]
    },
    {
      "cell_type": "code",
      "metadata": {
        "colab": {
          "base_uri": "https://localhost:8080/"
        },
        "id": "3XKWVLGm1400",
        "outputId": "0c00662d-c9e8-4885-90a8-66f0eb6f13e1"
      },
      "source": [
        "a.mean(), a.mean(axis=0), a.mean(axis=1)"
      ],
      "execution_count": 71,
      "outputs": [
        {
          "output_type": "execute_result",
          "data": {
            "text/plain": [
              "(6.5, array([5., 6., 7., 8.]), array([ 2.5,  6.5, 10.5]))"
            ]
          },
          "metadata": {
            "tags": []
          },
          "execution_count": 71
        }
      ]
    },
    {
      "cell_type": "code",
      "metadata": {
        "colab": {
          "base_uri": "https://localhost:8080/"
        },
        "id": "Gf2C2gqc2Jr9",
        "outputId": "86fd6779-f112-456a-cfca-82c5ecc79ef2"
      },
      "source": [
        "np.exp(a)"
      ],
      "execution_count": 72,
      "outputs": [
        {
          "output_type": "execute_result",
          "data": {
            "text/plain": [
              "array([[2.71828183e+00, 7.38905610e+00, 2.00855369e+01, 5.45981500e+01],\n",
              "       [1.48413159e+02, 4.03428793e+02, 1.09663316e+03, 2.98095799e+03],\n",
              "       [8.10308393e+03, 2.20264658e+04, 5.98741417e+04, 1.62754791e+05]])"
            ]
          },
          "metadata": {
            "tags": []
          },
          "execution_count": 72
        }
      ]
    },
    {
      "cell_type": "markdown",
      "metadata": {
        "id": "RakYUsgA3F6W"
      },
      "source": [
        "#### Concatenate"
      ]
    },
    {
      "cell_type": "code",
      "metadata": {
        "colab": {
          "base_uri": "https://localhost:8080/"
        },
        "id": "gtXbInmA3HxE",
        "outputId": "6e57c396-29bc-4413-ba82-b2fe72fa8c9b"
      },
      "source": [
        "a = np.arange(1,5).reshape(2,2)\n",
        "b = np.arange(5,7).reshape(1,2)\n",
        "np.vstack((a,b))"
      ],
      "execution_count": 73,
      "outputs": [
        {
          "output_type": "execute_result",
          "data": {
            "text/plain": [
              "array([[1, 2],\n",
              "       [3, 4],\n",
              "       [5, 6]])"
            ]
          },
          "metadata": {
            "tags": []
          },
          "execution_count": 73
        }
      ]
    },
    {
      "cell_type": "code",
      "metadata": {
        "colab": {
          "base_uri": "https://localhost:8080/"
        },
        "id": "GQCMIzM_3TGX",
        "outputId": "ad5c1dbe-2873-440c-edfb-11c41a658a80"
      },
      "source": [
        "np.concatenate((a,b), axis=0)"
      ],
      "execution_count": 74,
      "outputs": [
        {
          "output_type": "execute_result",
          "data": {
            "text/plain": [
              "array([[1, 2],\n",
              "       [3, 4],\n",
              "       [5, 6]])"
            ]
          },
          "metadata": {
            "tags": []
          },
          "execution_count": 74
        }
      ]
    },
    {
      "cell_type": "code",
      "metadata": {
        "colab": {
          "base_uri": "https://localhost:8080/"
        },
        "id": "gUPAW6lp3bGo",
        "outputId": "5c892447-9546-4620-8d6b-fb80df3603e7"
      },
      "source": [
        "# 전치행렬 (Transpose) : (1,2) -> (2,1)\n",
        "b.T"
      ],
      "execution_count": 77,
      "outputs": [
        {
          "output_type": "execute_result",
          "data": {
            "text/plain": [
              "array([[5],\n",
              "       [6]])"
            ]
          },
          "metadata": {
            "tags": []
          },
          "execution_count": 77
        }
      ]
    },
    {
      "cell_type": "code",
      "metadata": {
        "colab": {
          "base_uri": "https://localhost:8080/"
        },
        "id": "7caIQxeG390B",
        "outputId": "76f2cce9-78e8-4816-e534-5d475e93207c"
      },
      "source": [
        "np.hstack((a,b.T))"
      ],
      "execution_count": 80,
      "outputs": [
        {
          "output_type": "execute_result",
          "data": {
            "text/plain": [
              "array([[1, 2, 5],\n",
              "       [3, 4, 6]])"
            ]
          },
          "metadata": {
            "tags": []
          },
          "execution_count": 80
        }
      ]
    },
    {
      "cell_type": "code",
      "metadata": {
        "colab": {
          "base_uri": "https://localhost:8080/"
        },
        "id": "uf_cIuKw4Fdc",
        "outputId": "56aadbb7-57bd-4c7d-adbe-3ac01ce6966b"
      },
      "source": [
        "np.concatenate((a,b.T), axis=1)"
      ],
      "execution_count": 81,
      "outputs": [
        {
          "output_type": "execute_result",
          "data": {
            "text/plain": [
              "array([[1, 2, 5],\n",
              "       [3, 4, 6]])"
            ]
          },
          "metadata": {
            "tags": []
          },
          "execution_count": 81
        }
      ]
    }
  ]
}