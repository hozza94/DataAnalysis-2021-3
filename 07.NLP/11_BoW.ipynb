{
  "nbformat": 4,
  "nbformat_minor": 0,
  "metadata": {
    "colab": {
      "name": "11_BoW.ipynb",
      "provenance": [],
      "collapsed_sections": []
    },
    "kernelspec": {
      "name": "python3",
      "display_name": "Python 3"
    },
    "language_info": {
      "name": "python"
    }
  },
  "cells": [
    {
      "cell_type": "markdown",
      "metadata": {
        "id": "SKDy_yBJ9MsH"
      },
      "source": [
        "# Bag of words\n",
        " - 출현 빈도로만."
      ]
    },
    {
      "cell_type": "markdown",
      "metadata": {
        "id": "VMFEbq3h_MXO"
      },
      "source": [
        "## 1. Count Vectorizer"
      ]
    },
    {
      "cell_type": "code",
      "metadata": {
        "id": "-7mqGEEs9KyI"
      },
      "source": [
        "from sklearn.feature_extraction.text import CountVectorizer\n",
        "corpus = ['you know I want your love. because I love you.'] "
      ],
      "execution_count": 3,
      "outputs": []
    },
    {
      "cell_type": "code",
      "metadata": {
        "id": "ymZVHTgc_nq0"
      },
      "source": [
        "cvector = CountVectorizer()"
      ],
      "execution_count": 4,
      "outputs": []
    },
    {
      "cell_type": "code",
      "metadata": {
        "colab": {
          "base_uri": "https://localhost:8080/"
        },
        "id": "iHb0oP68BFPd",
        "outputId": "969a0ff0-9298-42b8-ea5c-5e39c62f0a97"
      },
      "source": [
        "cvector.fit(corpus)\n",
        "cvector.transform(corpus).toarray()"
      ],
      "execution_count": 6,
      "outputs": [
        {
          "output_type": "execute_result",
          "data": {
            "text/plain": [
              "array([[1, 1, 2, 1, 2, 1]])"
            ]
          },
          "metadata": {},
          "execution_count": 6
        }
      ]
    },
    {
      "cell_type": "code",
      "metadata": {
        "colab": {
          "base_uri": "https://localhost:8080/"
        },
        "id": "5c44cGQABeku",
        "outputId": "4d678449-055e-41fa-8f6a-0bcd9e0c3f2c"
      },
      "source": [
        "cvector.vocabulary_"
      ],
      "execution_count": 7,
      "outputs": [
        {
          "output_type": "execute_result",
          "data": {
            "text/plain": [
              "{'because': 0, 'know': 1, 'love': 2, 'want': 3, 'you': 4, 'your': 5}"
            ]
          },
          "metadata": {},
          "execution_count": 7
        }
      ]
    },
    {
      "cell_type": "code",
      "metadata": {
        "colab": {
          "base_uri": "https://localhost:8080/"
        },
        "id": "jZ8WG0LYBxCi",
        "outputId": "25b05762-c0c4-4b09-96b5-8cce72ac027c"
      },
      "source": [
        "output = cvector.fit_transform(corpus).toarray()\n",
        "output"
      ],
      "execution_count": 8,
      "outputs": [
        {
          "output_type": "execute_result",
          "data": {
            "text/plain": [
              "array([[1, 1, 2, 1, 2, 1]])"
            ]
          },
          "metadata": {},
          "execution_count": 8
        }
      ]
    },
    {
      "cell_type": "markdown",
      "metadata": {
        "id": "ThHUwrgkC5s5"
      },
      "source": [
        "- 불용어 제거"
      ]
    },
    {
      "cell_type": "code",
      "metadata": {
        "colab": {
          "base_uri": "https://localhost:8080/"
        },
        "id": "YputllgUCuL1",
        "outputId": "4415c200-394d-4736-8ad5-111ff82548a5"
      },
      "source": [
        "text=[\"Family is not an important thing. It's everything.\"]\n",
        "# vect = CountVectorizer(stop_words=[\"the\", \"a\", \"an\", \"is\", \"not\"])\n",
        "vect = CountVectorizer(stop_words=\"english\")\n",
        "print(vect.fit_transform(text).toarray()) \n",
        "print(vect.vocabulary_)"
      ],
      "execution_count": 10,
      "outputs": [
        {
          "output_type": "stream",
          "name": "stdout",
          "text": [
            "[[1 1 1]]\n",
            "{'family': 0, 'important': 1, 'thing': 2}\n"
          ]
        }
      ]
    },
    {
      "cell_type": "code",
      "metadata": {
        "colab": {
          "base_uri": "https://localhost:8080/"
        },
        "id": "htjhsjnPFuxC",
        "outputId": "08ff891f-4802-4db2-c1cc-ea72d7b058ff"
      },
      "source": [
        "import nltk\n",
        "nltk.download('stopwords')"
      ],
      "execution_count": 11,
      "outputs": [
        {
          "output_type": "stream",
          "name": "stdout",
          "text": [
            "[nltk_data] Downloading package stopwords to /root/nltk_data...\n",
            "[nltk_data]   Unzipping corpora/stopwords.zip.\n"
          ]
        },
        {
          "output_type": "execute_result",
          "data": {
            "text/plain": [
              "True"
            ]
          },
          "metadata": {},
          "execution_count": 11
        }
      ]
    },
    {
      "cell_type": "markdown",
      "metadata": {
        "id": "x7uQ2En7GVlt"
      },
      "source": [
        "# NLTK 제공"
      ]
    },
    {
      "cell_type": "code",
      "metadata": {
        "colab": {
          "base_uri": "https://localhost:8080/"
        },
        "id": "ENT0QnDEGS13",
        "outputId": "a2116cb1-6a69-456b-8d2f-59cb6c53fa78"
      },
      "source": [
        "from nltk.corpus import stopwords\n",
        "\n",
        "text=[\"Family is not an important thing. It's everything.\"]\n",
        "sw = stopwords.words(\"english\")\n",
        "vect = CountVectorizer(stop_words =sw)\n",
        "print(vect.fit_transform(text).toarray()) \n",
        "print(vect.vocabulary_)"
      ],
      "execution_count": 12,
      "outputs": [
        {
          "output_type": "stream",
          "name": "stdout",
          "text": [
            "[[1 1 1 1]]\n",
            "{'family': 1, 'important': 2, 'thing': 3, 'everything': 0}\n"
          ]
        }
      ]
    },
    {
      "cell_type": "code",
      "metadata": {
        "id": "gTtbXL9qGczo"
      },
      "source": [
        "def get_word(index, voca):\n",
        "  for key, value in voca.items():\n",
        "    if value == index:\n",
        "      return key"
      ],
      "execution_count": 13,
      "outputs": []
    },
    {
      "cell_type": "code",
      "metadata": {
        "colab": {
          "base_uri": "https://localhost:8080/",
          "height": 35
        },
        "id": "y7KFMUI7G_qL",
        "outputId": "c5249769-c6ae-4df3-b459-d96d30c48368"
      },
      "source": [
        "get_word(2, vect.vocabulary_)"
      ],
      "execution_count": 14,
      "outputs": [
        {
          "output_type": "execute_result",
          "data": {
            "application/vnd.google.colaboratory.intrinsic+json": {
              "type": "string"
            },
            "text/plain": [
              "'important'"
            ]
          },
          "metadata": {},
          "execution_count": 14
        }
      ]
    },
    {
      "cell_type": "markdown",
      "metadata": {
        "id": "cqMr_kzOIH_r"
      },
      "source": [
        "- N-gram"
      ]
    },
    {
      "cell_type": "code",
      "metadata": {
        "id": "L-rH2CuhIHwf"
      },
      "source": [
        "text1 = ['Machine learning is fun and not boring']\n",
        "text2 = ['Machine is boring and learning is not fun']"
      ],
      "execution_count": 15,
      "outputs": []
    },
    {
      "cell_type": "code",
      "metadata": {
        "colab": {
          "base_uri": "https://localhost:8080/"
        },
        "id": "D3yt3YxJHCgP",
        "outputId": "323e2972-69d7-4fdc-d2b6-6f7c629103a9"
      },
      "source": [
        "vect = CountVectorizer()\n",
        "print(vect.fit_transform(text1).toarray()) \n",
        "print(vect.vocabulary_)"
      ],
      "execution_count": 18,
      "outputs": [
        {
          "output_type": "stream",
          "name": "stdout",
          "text": [
            "[[1 1 1 1 1 1 1]]\n",
            "{'machine': 5, 'learning': 4, 'is': 3, 'fun': 2, 'and': 0, 'not': 6, 'boring': 1}\n"
          ]
        }
      ]
    },
    {
      "cell_type": "code",
      "metadata": {
        "colab": {
          "base_uri": "https://localhost:8080/"
        },
        "id": "xeEZQmmLIsZI",
        "outputId": "02713184-8076-4f63-8dc5-fe8fedaed136"
      },
      "source": [
        "vect = CountVectorizer()\n",
        "print(vect.fit_transform(text2).toarray()) \n",
        "print(vect.vocabulary_)"
      ],
      "execution_count": 19,
      "outputs": [
        {
          "output_type": "stream",
          "name": "stdout",
          "text": [
            "[[1 1 1 2 1 1 1]]\n",
            "{'machine': 5, 'is': 3, 'boring': 1, 'and': 0, 'learning': 4, 'not': 6, 'fun': 2}\n"
          ]
        }
      ]
    },
    {
      "cell_type": "code",
      "metadata": {
        "colab": {
          "base_uri": "https://localhost:8080/"
        },
        "id": "uCI4LqLLIwr2",
        "outputId": "bb03bb02-f9f9-4be1-eb23-b5b19d9d0b56"
      },
      "source": [
        "# N-gram range: (1, 2)\n",
        "vect = CountVectorizer(ngram_range=(1,2))\n",
        "print(vect.fit_transform(text1).toarray()) \n",
        "print(vect.vocabulary_)"
      ],
      "execution_count": 20,
      "outputs": [
        {
          "output_type": "stream",
          "name": "stdout",
          "text": [
            "[[1 1 1 1 1 1 1 1 1 1 1 1 1]]\n",
            "{'machine': 9, 'learning': 7, 'is': 5, 'fun': 3, 'and': 0, 'not': 11, 'boring': 2, 'machine learning': 10, 'learning is': 8, 'is fun': 6, 'fun and': 4, 'and not': 1, 'not boring': 12}\n"
          ]
        }
      ]
    },
    {
      "cell_type": "code",
      "metadata": {
        "colab": {
          "base_uri": "https://localhost:8080/"
        },
        "id": "Zfx5KiRGJE3I",
        "outputId": "cf3471d4-6cc3-4c3c-b139-281e730d8d0f"
      },
      "source": [
        "# N-gram range: (1, 3)\n",
        "vect = CountVectorizer(ngram_range=(1,3), stop_words=\"english\")\n",
        "print(vect.fit_transform(text1).toarray()) \n",
        "print(vect.vocabulary_)"
      ],
      "execution_count": 22,
      "outputs": [
        {
          "output_type": "stream",
          "name": "stdout",
          "text": [
            "[[1 1 1 1 1 1 1 1 1]]\n",
            "{'machine': 6, 'learning': 3, 'fun': 1, 'boring': 0, 'machine learning': 7, 'learning fun': 4, 'fun boring': 2, 'machine learning fun': 8, 'learning fun boring': 5}\n"
          ]
        }
      ]
    },
    {
      "cell_type": "markdown",
      "metadata": {
        "id": "pssOjZLnJ8TN"
      },
      "source": [
        "-hyper parameter"
      ]
    },
    {
      "cell_type": "code",
      "metadata": {
        "colab": {
          "base_uri": "https://localhost:8080/"
        },
        "id": "T7zjZLSbJpJp",
        "outputId": "9e5e0de0-e8fc-4b0b-ec3b-158ab7a9286b"
      },
      "source": [
        "vect.get_params()"
      ],
      "execution_count": 23,
      "outputs": [
        {
          "output_type": "execute_result",
          "data": {
            "text/plain": [
              "{'analyzer': 'word',\n",
              " 'binary': False,\n",
              " 'decode_error': 'strict',\n",
              " 'dtype': numpy.int64,\n",
              " 'encoding': 'utf-8',\n",
              " 'input': 'content',\n",
              " 'lowercase': True,\n",
              " 'max_df': 1.0,\n",
              " 'max_features': None,\n",
              " 'min_df': 1,\n",
              " 'ngram_range': (1, 3),\n",
              " 'preprocessor': None,\n",
              " 'stop_words': 'english',\n",
              " 'strip_accents': None,\n",
              " 'token_pattern': '(?u)\\\\b\\\\w\\\\w+\\\\b',\n",
              " 'tokenizer': None,\n",
              " 'vocabulary': None}"
            ]
          },
          "metadata": {},
          "execution_count": 23
        }
      ]
    },
    {
      "cell_type": "markdown",
      "metadata": {
        "id": "Ei2_3foCKznH"
      },
      "source": [
        "- DTM\n"
      ]
    },
    {
      "cell_type": "code",
      "metadata": {
        "colab": {
          "base_uri": "https://localhost:8080/"
        },
        "id": "d9MZ97wIJ_wM",
        "outputId": "03d72fa3-b489-41ab-9cc5-e112ba100a0f"
      },
      "source": [
        "corpus = [\n",
        "  \"you know I want your love\",\n",
        "  \"I like you\",\n",
        "  \"what should I do\"\n",
        "]\n",
        "vect = CountVectorizer()\n",
        "print(vect.fit_transform(corpus).toarray()) \n",
        "print(vect.vocabulary_)"
      ],
      "execution_count": 24,
      "outputs": [
        {
          "output_type": "stream",
          "name": "stdout",
          "text": [
            "[[0 1 0 1 0 1 0 1 1]\n",
            " [0 0 1 0 0 0 0 1 0]\n",
            " [1 0 0 0 1 0 1 0 0]]\n",
            "{'you': 7, 'know': 1, 'want': 5, 'your': 8, 'love': 3, 'like': 2, 'what': 6, 'should': 4, 'do': 0}\n"
          ]
        }
      ]
    },
    {
      "cell_type": "markdown",
      "metadata": {
        "id": "t18tkScVLFkp"
      },
      "source": [
        "## TF-IDF Vectorizer"
      ]
    },
    {
      "cell_type": "code",
      "metadata": {
        "colab": {
          "base_uri": "https://localhost:8080/"
        },
        "id": "tHyZbf2MLD-p",
        "outputId": "ff92f0b2-ab42-46f2-c224-0264253db992"
      },
      "source": [
        "from sklearn.feature_extraction.text import TfidfVectorizer\n",
        "tvect = TfidfVectorizer()\n",
        "print(tvect.fit_transform(corpus).toarray().round(2)) \n",
        "print(tvect.vocabulary_)"
      ],
      "execution_count": 26,
      "outputs": [
        {
          "output_type": "stream",
          "name": "stdout",
          "text": [
            "[[0.   0.47 0.   0.47 0.   0.47 0.   0.36 0.47]\n",
            " [0.   0.   0.8  0.   0.   0.   0.   0.61 0.  ]\n",
            " [0.58 0.   0.   0.   0.58 0.   0.58 0.   0.  ]]\n",
            "{'you': 7, 'know': 1, 'want': 5, 'your': 8, 'love': 3, 'like': 2, 'what': 6, 'should': 4, 'do': 0}\n"
          ]
        }
      ]
    },
    {
      "cell_type": "code",
      "metadata": {
        "colab": {
          "base_uri": "https://localhost:8080/"
        },
        "id": "k98XJP4XORK-",
        "outputId": "848c7b4a-97d1-401c-8d54-41f15f455eb5"
      },
      "source": [
        "tvect = TfidfVectorizer(ngram_range=(1,2), stop_words=\"english\")\n",
        "print(tvect.fit_transform(corpus).toarray().round(2)) \n",
        "print(tvect.vocabulary_)"
      ],
      "execution_count": 27,
      "outputs": [
        {
          "output_type": "stream",
          "name": "stdout",
          "text": [
            "[[0.45 0.45 0.   0.45 0.45 0.45]\n",
            " [0.   0.   1.   0.   0.   0.  ]\n",
            " [0.   0.   0.   0.   0.   0.  ]]\n",
            "{'know': 0, 'want': 4, 'love': 3, 'know want': 1, 'want love': 5, 'like': 2}\n"
          ]
        }
      ]
    },
    {
      "cell_type": "code",
      "metadata": {
        "colab": {
          "base_uri": "https://localhost:8080/"
        },
        "id": "AODItde3PHZ4",
        "outputId": "f9377d62-eb7d-4345-e6c1-2fca5cc49d97"
      },
      "source": [
        "tvect.get_params()"
      ],
      "execution_count": 28,
      "outputs": [
        {
          "output_type": "execute_result",
          "data": {
            "text/plain": [
              "{'analyzer': 'word',\n",
              " 'binary': False,\n",
              " 'decode_error': 'strict',\n",
              " 'dtype': numpy.float64,\n",
              " 'encoding': 'utf-8',\n",
              " 'input': 'content',\n",
              " 'lowercase': True,\n",
              " 'max_df': 1.0,\n",
              " 'max_features': None,\n",
              " 'min_df': 1,\n",
              " 'ngram_range': (1, 2),\n",
              " 'norm': 'l2',\n",
              " 'preprocessor': None,\n",
              " 'smooth_idf': True,\n",
              " 'stop_words': 'english',\n",
              " 'strip_accents': None,\n",
              " 'sublinear_tf': False,\n",
              " 'token_pattern': '(?u)\\\\b\\\\w\\\\w+\\\\b',\n",
              " 'tokenizer': None,\n",
              " 'use_idf': True,\n",
              " 'vocabulary': None}"
            ]
          },
          "metadata": {},
          "execution_count": 28
        }
      ]
    },
    {
      "cell_type": "code",
      "metadata": {
        "id": "anFR50MEPTRq"
      },
      "source": [
        ""
      ],
      "execution_count": null,
      "outputs": []
    }
  ]
}